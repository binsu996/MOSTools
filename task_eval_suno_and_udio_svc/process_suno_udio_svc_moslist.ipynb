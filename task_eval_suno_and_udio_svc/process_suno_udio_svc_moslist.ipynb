{
 "cells": [
  {
   "cell_type": "code",
   "execution_count": 9,
   "id": "8d168f07-2949-4315-8402-79e31aa6db7f",
   "metadata": {},
   "outputs": [],
   "source": [
    "from pathlib import Path"
   ]
  },
  {
   "cell_type": "code",
   "execution_count": 28,
   "id": "b0a466e7-9142-4776-8f51-b3b1cdf72392",
   "metadata": {},
   "outputs": [
    {
     "name": "stdout",
     "output_type": "stream",
     "text": [
      "suno/10f213f1-d719-41fc-bba9-28ebe199a2e3_all_sep.wav\n",
      "suno/0f249990-d2a0-4e1f-b7ab-8fde3c924d45_all_sep.wav\n",
      "suno/365ea0d6-ab2c-4787-85f0-1349750f8c79_all_sep.wav\n",
      "suno/0821da0e-6966-48ed-b88b-d3ae623206f8_all_sep.wav\n",
      "suno/acffa5e5-8169-450e-b93f-7d24c55d4b93_all_sep.wav\n",
      "suno/4b6e9f89-46a7-4cce-bad8-67cfb98a3909_all_sep.wav\n",
      "suno/de0d5e3f-d2fd-4fd8-866a-7c1061b5b63a_all_sep.wav\n",
      "suno/1b2a31e3-5a75-481b-82fc-ab9e3087fbee_all_sep.wav\n",
      "suno/315e1ec8-9844-4967-819d-ba36f484f5b3_all_sep.wav\n",
      "suno/9bc57280-a41d-427f-9b80-e7c4cc54a84a_all_sep.wav\n",
      "suno/765565a9-0b79-4b7b-8d20-a1470321ef78_all_sep.wav\n",
      "suno/c00621ce-f943-44db-bed1-49c8144a0237_all_sep.wav\n",
      "suno/2ababd61-81cb-4acc-a1f6-8f9ce6368bdf_all_sep.wav\n",
      "suno/327a9387-8a66-46b2-9bd0-a64379a94626_all_sep.wav\n",
      "suno/35df3d15-a891-49b5-8216-5ba35b5f051f_all_sep.wav\n",
      "suno/48f1e32a-c5c1-4730-9f01-b2fcc2fafe30_all_sep.wav\n",
      "suno/4d8cd4be-86b3-415c-b8fd-0e722c77e2b9_all_sep.wav\n",
      "suno/c933c937-a95b-4378-a14c-21d8dee79550_all_sep.wav\n",
      "suno/e6d94f21-a228-4f30-8a81-aaf2058e1a94_all_sep.wav\n",
      "suno/c4aa2b3a-b94d-4295-ac92-edddc62d1aae_all_sep.wav\n",
      "suno/50a03c63-c1a4-4847-908b-79a2bb546f9e_all_sep.wav\n",
      "suno/9f7781c0-86ad-4f15-b25e-aaffe1b4af79_all_sep.wav\n",
      "suno/6164a646-c256-4d09-9e27-3d19112989fa_all_sep.wav\n",
      "suno/2896a364-1936-4048-b622-361eb017bbef_all_sep.wav\n",
      "suno/7c6d5ccd-5970-4748-8bfc-5358f36b7a75_all_sep.wav\n",
      "suno/56286cb6-d4c5-4700-88b6-02e6cc65a4f9_all_sep.wav\n",
      "suno/6ee70df5-d40b-4d4e-9da2-98a501205558_all_sep.wav\n",
      "suno/dfc863d1-512a-4ffd-a0b5-6b6cad2e9dcc_all_sep.wav\n",
      "suno/391a2a6f-0cff-48cd-b57d-7023fc0521f4_all_sep.wav\n",
      "suno/b99fd038-0ce8-4d22-ae8e-eea6c8b337f7_all_sep.wav\n",
      "suno/f3f61ff0-9ee6-4dbb-a9b3-a071b189e552_all_sep.wav\n",
      "suno/51e44bc2-ea3a-4499-b70f-c36750864556_all_sep.wav\n",
      "suno/ecd2191f-e9fa-4123-9105-f8a6c52ee3b6_all_sep.wav\n",
      "suno/6ab155ea-2d8a-49ec-a396-d7fbb0ca6203_all_sep.wav\n",
      "suno/b8faf760-e0ec-4b02-add8-e2c052693149_all_sep.wav\n",
      "suno/fc4cbe97-3194-4865-9fd9-fc87feb6a7f8_all_sep.wav\n",
      "suno/e50efffc-13e5-4c27-a18b-b55337fdf72b_all_sep.wav\n",
      "suno/19e50170-5ca1-416c-a28d-40b439d1e77f_all_sep.wav\n",
      "suno/682b83c5-0e67-4c71-99a9-67bf2a2e973b_all_sep.wav\n",
      "suno/61d752fa-9a38-4220-9def-102d7cb9b8de_all_sep.wav\n",
      "suno/c81fecf6-09c8-4748-b04d-c9c8628cf178_all_sep.wav\n",
      "suno/a7511a64-ade4-4d41-af52-351a5103c61f_all_sep.wav\n",
      "suno/61780159-0569-4f12-a983-d50c964eb4ae_all_sep.wav\n",
      "suno/b93d5bb3-3dcc-4709-bd81-f7a4a94e4351_all_sep.wav\n",
      "suno/56140736-5da6-4686-be6a-eecff9fc932c_all_sep.wav\n",
      "suno/0a52af2e-7933-4e42-8734-1cbccef17755_all_sep.wav\n",
      "suno/cd44897b-028e-471d-b907-87a08d96269a_all_sep.wav\n",
      "suno/d9862fa8-583e-46bc-9c47-067b3eb41205_all_sep.wav\n",
      "suno/ca056b05-5e8e-4397-895c-b039277f6d7b_all_sep.wav\n",
      "suno/5dfc4b27-6f13-47ae-9820-9db4832fe1c4_all_sep.wav\n",
      "suno/0c8f934c-d99d-4e9a-b9e2-ecccfbc21bf4_all_sep.wav\n",
      "suno/797baf50-6424-4253-bc8f-90a3f49b9d46_all_sep.wav\n",
      "suno/bb24c7e3-8db8-4ee0-a538-10db3071f858_all_sep.wav\n",
      "suno/22600eb5-fe0f-4adf-8131-d3acefd482d9_all_sep.wav\n",
      "suno/92b628db-9dd5-40a1-aa3f-daea0c4cafd1_all_sep.wav\n",
      "suno/36075256-152f-4742-9399-9018873c3294_all_sep.wav\n",
      "suno/b74c3964-5c06-4862-863c-ecf5ed287a9d_all_sep.wav\n",
      "suno/c24a60e2-92dc-4984-a7d8-ba0519fb8dae_all_sep.wav\n",
      "suno/71460a24-4323-4ff4-b3e1-702317ac5727_all_sep.wav\n",
      "suno/05cab456-fe8d-4724-abe8-57534eca0c53_all_sep.wav\n",
      "suno/a261f3cc-9b64-49b1-a915-d64716771704_all_sep.wav\n",
      "suno/d27e8a24-50ae-492f-bed8-c4904ee4051c_all_sep.wav\n",
      "suno/293097eb-a88e-404d-8257-309ce6e5fce6_all_sep.wav\n",
      "suno/2240122f-f83c-4965-a12a-d8359bee9ac9_all_sep.wav\n",
      "suno/5723d64d-f42a-493c-98a7-bbc0e6ba5bd6_all_sep.wav\n",
      "suno/7f2e2e73-69a3-44ab-be24-f09646376a83_all_sep.wav\n",
      "suno/3463cc83-6ec8-4c1e-bec7-a507c8127feb_all_sep.wav\n",
      "suno/025d1cfe-fb42-4412-b48a-cfd4a0df92f2_all_sep.wav\n",
      "suno/4bfae760-5e17-4bf1-ad08-3378d48c1d03_all_sep.wav\n",
      "suno/6c35a0d3-5c9b-4204-82a6-726e6ad69b40_all_sep.wav\n",
      "suno/28de21ed-c988-4d40-b9bc-02adb6eb5b73_all_sep.wav\n",
      "suno/1c6801fa-a42a-4f3c-b9b0-cfb47fe0ec9f_all_sep.wav\n",
      "suno/b7d51426-6069-4ebc-b519-6575045860ee_all_sep.wav\n",
      "suno/5fd1b52a-d462-4b5e-87c1-5f7eef1faf7a_all_sep.wav\n",
      "suno/b435302a-73b0-4dee-abc8-7f5446e252e2_all_sep.wav\n",
      "suno/b0a89d4b-a9e3-4784-ac86-e46363871973_all_sep.wav\n",
      "suno/5099e3d7-c729-4dd4-a1e4-62bd0187f2c1_all_sep.wav\n"
     ]
    }
   ],
   "source": [
    "suno=[]\n",
    "for x in Path(\"suno\").glob(\"*.mp3\"):\n",
    "    vocal=x.with_stem(x.stem+\"_all_sep\").with_suffix(\".wav\")\n",
    "    bgm=x.with_stem(x.stem+\"_music_sep\").with_suffix(\".wav\")\n",
    "    assert vocal.is_file() and bgm.is_file()\n",
    "    print(vocal)\n",
    "    suno.append((vocal,bgm))"
   ]
  },
  {
   "cell_type": "code",
   "execution_count": 29,
   "id": "94aedca7-721f-49dc-94d2-eabab3f2b7d4",
   "metadata": {},
   "outputs": [
    {
     "name": "stdout",
     "output_type": "stream",
     "text": [
      "udio/Chasing Magic_all_sep.wav\n",
      "udio/Behind the Mask_all_sep.wav\n",
      "udio/Chasing the Light_all_sep.wav\n",
      "udio/Cycle of Shadows_all_sep.wav\n",
      "udio/Journey to Clarity_all_sep.wav\n",
      "udio/Whispers in the Fog_all_sep.wav\n",
      "udio/Through the Vines_all_sep.wav\n",
      "udio/Until We Find the Reason_all_sep.wav\n",
      "udio/The Essence of Change_all_sep.wav\n",
      "udio/Moments of Bliss_all_sep.wav\n",
      "udio/Shadows of Steel_all_sep.wav\n",
      "udio/The Cost of Convenience_all_sep.wav\n",
      "udio/Awakening from Darkness_all_sep.wav\n",
      "udio/Unity in Diversity_all_sep.wav\n",
      "udio/Flavor of Love_all_sep.wav\n",
      "udio/Veil of Doubt_all_sep.wav\n",
      "udio/Neon Dreams and Tender Hues_all_sep.wav\n",
      "udio/Letting Go of Childhood_all_sep.wav\n",
      "udio/Embrace of Shadows_all_sep.wav\n",
      "udio/Lessons in Reflection_all_sep.wav\n",
      "udio/Moments of Bravery_all_sep.wav\n",
      "udio/Chasing Heartache_all_sep.wav\n",
      "udio/What Lies Beneath_all_sep.wav\n",
      "udio/Tangled Lessons_all_sep.wav\n",
      "udio/Embracing the Unadorned_all_sep.wav\n",
      "udio/Moments of Light_all_sep.wav\n",
      "udio/Torn Between Two Worlds_all_sep.wav\n",
      "udio/Dreams in the Desert_all_sep.wav\n",
      "udio/Into the Wild_all_sep.wav\n",
      "udio/Echoes of Desolation_all_sep.wav\n",
      "udio/Chasing the Stars_all_sep.wav\n",
      "udio/Together We Rise_all_sep.wav\n",
      "udio/Strange Kind of World_all_sep.wav\n",
      "udio/Through the Storm_all_sep.wav\n",
      "udio/Masks of Illusion_all_sep.wav\n",
      "udio/Edge of Bliss_all_sep.wav\n",
      "udio/Moments of Choice_all_sep.wav\n",
      "udio/Diamonds in the Dark_all_sep.wav\n",
      "udio/Mirages at the Shore_all_sep.wav\n",
      "udio/A Gentle Glow_all_sep.wav\n",
      "udio/Finding a Better Road_all_sep.wav\n",
      "udio/Masquerade of Truth_all_sep.wav\n",
      "udio/Whispers in the Shadows_all_sep.wav\n",
      "udio/Stormy Embrace_all_sep.wav\n",
      "udio/Silent Fortitude_all_sep.wav\n",
      "udio/Current of Belonging_all_sep.wav\n",
      "udio/Wings and Wheels_all_sep.wav\n",
      "udio/New Horizons Ahead_all_sep.wav\n",
      "udio/Waves of Solitude_all_sep.wav\n",
      "udio/A Cheeky Delight_all_sep.wav\n",
      "udio/Woven Contradictions_all_sep.wav\n",
      "udio/A Better Life_all_sep.wav\n",
      "udio/Unexpected Moments_all_sep.wav\n",
      "udio/Echoes of the Past_all_sep.wav\n",
      "udio/Whispers of a Dream_all_sep.wav\n",
      "udio/Bittersweet Solitude_all_sep.wav\n",
      "udio/Igniting Desire_all_sep.wav\n",
      "udio/Whispers of the Red Shed_all_sep.wav\n",
      "udio/Through It All_all_sep.wav\n",
      "udio/Under One Roof_all_sep.wav\n",
      "udio/Endless Skies_all_sep.wav\n",
      "udio/Wandering Through Twilight_all_sep.wav\n",
      "udio/Fleeting Fantasies_all_sep.wav\n",
      "udio/Echoes of What Was_all_sep.wav\n",
      "udio/Beneath the Surface_all_sep.wav\n",
      "udio/Echoes of Journeys_all_sep.wav\n",
      "udio/Whispers in the Pond_all_sep.wav\n",
      "udio/Fragments of Truth_all_sep.wav\n",
      "udio/Whispers of the Past_all_sep.wav\n"
     ]
    }
   ],
   "source": [
    "udio=[]\n",
    "for x in Path(\"udio\").glob(\"*.mp3\"):\n",
    "    vocal=x.with_stem(x.stem+\"_all_sep\").with_suffix(\".wav\")\n",
    "    bgm=x.with_stem(x.stem+\"_music_sep\").with_suffix(\".wav\")\n",
    "    assert vocal.is_file() and bgm.is_file()\n",
    "    print(vocal)\n",
    "    udio.append((vocal,bgm))"
   ]
  },
  {
   "cell_type": "code",
   "execution_count": 18,
   "id": "653f19d3-dcf9-4f34-b168-75f93c7fcebc",
   "metadata": {},
   "outputs": [],
   "source": [
    "prompt_files=list(Path(\"/data/dsmdla100sx0213/subin/wospeech/prompt\").glob(\"sample*\"))"
   ]
  },
  {
   "cell_type": "code",
   "execution_count": 19,
   "id": "1985a9f0-3054-48d0-bf7c-668ec3eb8713",
   "metadata": {},
   "outputs": [
    {
     "data": {
      "text/plain": [
       "[PosixPath('/data/dsmdla100sx0213/subin/wospeech/prompt/sample_anish.wav'),\n",
       " PosixPath('/data/dsmdla100sx0213/subin/wospeech/prompt/sample_Ebenezer.wav'),\n",
       " PosixPath('/data/dsmdla100sx0213/subin/wospeech/prompt/sample_eth.wav'),\n",
       " PosixPath('/data/dsmdla100sx0213/subin/wospeech/prompt/sample_beatles.wav'),\n",
       " PosixPath('/data/dsmdla100sx0213/subin/wospeech/prompt/sample_tony.wav'),\n",
       " PosixPath('/data/dsmdla100sx0213/subin/wospeech/prompt/sample_airy.wav'),\n",
       " PosixPath('/data/dsmdla100sx0213/subin/wospeech/prompt/sample_michaeljackson.wav')]"
      ]
     },
     "execution_count": 19,
     "metadata": {},
     "output_type": "execute_result"
    }
   ],
   "source": [
    "prompt_files"
   ]
  },
  {
   "cell_type": "code",
   "execution_count": 20,
   "id": "4235f19b-0698-4624-825f-33318de8a175",
   "metadata": {},
   "outputs": [
    {
     "name": "stdout",
     "output_type": "stream",
     "text": [
      "/data/dsmdla100sx0213/subin/wospeech/prompt/sample_anish.wav (PosixPath('suno/10f213f1-d719-41fc-bba9-28ebe199a2e3_all_sep.wav'), PosixPath('suno/10f213f1-d719-41fc-bba9-28ebe199a2e3_music_sep.wav')) (PosixPath('udio/Chasing Magic_all_sep.wav'), PosixPath('udio/Chasing Magic_music_sep.wav'))\n",
      "/data/dsmdla100sx0213/subin/wospeech/prompt/sample_Ebenezer.wav (PosixPath('suno/0f249990-d2a0-4e1f-b7ab-8fde3c924d45_all_sep.wav'), PosixPath('suno/0f249990-d2a0-4e1f-b7ab-8fde3c924d45_music_sep.wav')) (PosixPath('udio/Behind the Mask_all_sep.wav'), PosixPath('udio/Behind the Mask_music_sep.wav'))\n",
      "/data/dsmdla100sx0213/subin/wospeech/prompt/sample_eth.wav (PosixPath('suno/365ea0d6-ab2c-4787-85f0-1349750f8c79_all_sep.wav'), PosixPath('suno/365ea0d6-ab2c-4787-85f0-1349750f8c79_music_sep.wav')) (PosixPath('udio/Chasing the Light_all_sep.wav'), PosixPath('udio/Chasing the Light_music_sep.wav'))\n",
      "/data/dsmdla100sx0213/subin/wospeech/prompt/sample_beatles.wav (PosixPath('suno/0821da0e-6966-48ed-b88b-d3ae623206f8_all_sep.wav'), PosixPath('suno/0821da0e-6966-48ed-b88b-d3ae623206f8_music_sep.wav')) (PosixPath('udio/Cycle of Shadows_all_sep.wav'), PosixPath('udio/Cycle of Shadows_music_sep.wav'))\n",
      "/data/dsmdla100sx0213/subin/wospeech/prompt/sample_tony.wav (PosixPath('suno/acffa5e5-8169-450e-b93f-7d24c55d4b93_all_sep.wav'), PosixPath('suno/acffa5e5-8169-450e-b93f-7d24c55d4b93_music_sep.wav')) (PosixPath('udio/Journey to Clarity_all_sep.wav'), PosixPath('udio/Journey to Clarity_music_sep.wav'))\n",
      "/data/dsmdla100sx0213/subin/wospeech/prompt/sample_airy.wav (PosixPath('suno/4b6e9f89-46a7-4cce-bad8-67cfb98a3909_all_sep.wav'), PosixPath('suno/4b6e9f89-46a7-4cce-bad8-67cfb98a3909_music_sep.wav')) (PosixPath('udio/Whispers in the Fog_all_sep.wav'), PosixPath('udio/Whispers in the Fog_music_sep.wav'))\n",
      "/data/dsmdla100sx0213/subin/wospeech/prompt/sample_michaeljackson.wav (PosixPath('suno/de0d5e3f-d2fd-4fd8-866a-7c1061b5b63a_all_sep.wav'), PosixPath('suno/de0d5e3f-d2fd-4fd8-866a-7c1061b5b63a_music_sep.wav')) (PosixPath('udio/Through the Vines_all_sep.wav'), PosixPath('udio/Through the Vines_music_sep.wav'))\n",
      "/data/dsmdla100sx0213/subin/wospeech/prompt/sample_anish.wav (PosixPath('suno/1b2a31e3-5a75-481b-82fc-ab9e3087fbee_all_sep.wav'), PosixPath('suno/1b2a31e3-5a75-481b-82fc-ab9e3087fbee_music_sep.wav')) (PosixPath('udio/Until We Find the Reason_all_sep.wav'), PosixPath('udio/Until We Find the Reason_music_sep.wav'))\n",
      "/data/dsmdla100sx0213/subin/wospeech/prompt/sample_Ebenezer.wav (PosixPath('suno/315e1ec8-9844-4967-819d-ba36f484f5b3_all_sep.wav'), PosixPath('suno/315e1ec8-9844-4967-819d-ba36f484f5b3_music_sep.wav')) (PosixPath('udio/The Essence of Change_all_sep.wav'), PosixPath('udio/The Essence of Change_music_sep.wav'))\n",
      "/data/dsmdla100sx0213/subin/wospeech/prompt/sample_eth.wav (PosixPath('suno/9bc57280-a41d-427f-9b80-e7c4cc54a84a_all_sep.wav'), PosixPath('suno/9bc57280-a41d-427f-9b80-e7c4cc54a84a_music_sep.wav')) (PosixPath('udio/Moments of Bliss_all_sep.wav'), PosixPath('udio/Moments of Bliss_music_sep.wav'))\n",
      "/data/dsmdla100sx0213/subin/wospeech/prompt/sample_beatles.wav (PosixPath('suno/765565a9-0b79-4b7b-8d20-a1470321ef78_all_sep.wav'), PosixPath('suno/765565a9-0b79-4b7b-8d20-a1470321ef78_music_sep.wav')) (PosixPath('udio/Shadows of Steel_all_sep.wav'), PosixPath('udio/Shadows of Steel_music_sep.wav'))\n",
      "/data/dsmdla100sx0213/subin/wospeech/prompt/sample_tony.wav (PosixPath('suno/c00621ce-f943-44db-bed1-49c8144a0237_all_sep.wav'), PosixPath('suno/c00621ce-f943-44db-bed1-49c8144a0237_music_sep.wav')) (PosixPath('udio/The Cost of Convenience_all_sep.wav'), PosixPath('udio/The Cost of Convenience_music_sep.wav'))\n",
      "/data/dsmdla100sx0213/subin/wospeech/prompt/sample_airy.wav (PosixPath('suno/2ababd61-81cb-4acc-a1f6-8f9ce6368bdf_all_sep.wav'), PosixPath('suno/2ababd61-81cb-4acc-a1f6-8f9ce6368bdf_music_sep.wav')) (PosixPath('udio/Awakening from Darkness_all_sep.wav'), PosixPath('udio/Awakening from Darkness_music_sep.wav'))\n",
      "/data/dsmdla100sx0213/subin/wospeech/prompt/sample_michaeljackson.wav (PosixPath('suno/327a9387-8a66-46b2-9bd0-a64379a94626_all_sep.wav'), PosixPath('suno/327a9387-8a66-46b2-9bd0-a64379a94626_music_sep.wav')) (PosixPath('udio/Unity in Diversity_all_sep.wav'), PosixPath('udio/Unity in Diversity_music_sep.wav'))\n",
      "/data/dsmdla100sx0213/subin/wospeech/prompt/sample_anish.wav (PosixPath('suno/35df3d15-a891-49b5-8216-5ba35b5f051f_all_sep.wav'), PosixPath('suno/35df3d15-a891-49b5-8216-5ba35b5f051f_music_sep.wav')) (PosixPath('udio/Flavor of Love_all_sep.wav'), PosixPath('udio/Flavor of Love_music_sep.wav'))\n",
      "/data/dsmdla100sx0213/subin/wospeech/prompt/sample_Ebenezer.wav (PosixPath('suno/48f1e32a-c5c1-4730-9f01-b2fcc2fafe30_all_sep.wav'), PosixPath('suno/48f1e32a-c5c1-4730-9f01-b2fcc2fafe30_music_sep.wav')) (PosixPath('udio/Veil of Doubt_all_sep.wav'), PosixPath('udio/Veil of Doubt_music_sep.wav'))\n",
      "/data/dsmdla100sx0213/subin/wospeech/prompt/sample_eth.wav (PosixPath('suno/4d8cd4be-86b3-415c-b8fd-0e722c77e2b9_all_sep.wav'), PosixPath('suno/4d8cd4be-86b3-415c-b8fd-0e722c77e2b9_music_sep.wav')) (PosixPath('udio/Neon Dreams and Tender Hues_all_sep.wav'), PosixPath('udio/Neon Dreams and Tender Hues_music_sep.wav'))\n",
      "/data/dsmdla100sx0213/subin/wospeech/prompt/sample_beatles.wav (PosixPath('suno/c933c937-a95b-4378-a14c-21d8dee79550_all_sep.wav'), PosixPath('suno/c933c937-a95b-4378-a14c-21d8dee79550_music_sep.wav')) (PosixPath('udio/Letting Go of Childhood_all_sep.wav'), PosixPath('udio/Letting Go of Childhood_music_sep.wav'))\n",
      "/data/dsmdla100sx0213/subin/wospeech/prompt/sample_tony.wav (PosixPath('suno/e6d94f21-a228-4f30-8a81-aaf2058e1a94_all_sep.wav'), PosixPath('suno/e6d94f21-a228-4f30-8a81-aaf2058e1a94_music_sep.wav')) (PosixPath('udio/Embrace of Shadows_all_sep.wav'), PosixPath('udio/Embrace of Shadows_music_sep.wav'))\n",
      "/data/dsmdla100sx0213/subin/wospeech/prompt/sample_airy.wav (PosixPath('suno/c4aa2b3a-b94d-4295-ac92-edddc62d1aae_all_sep.wav'), PosixPath('suno/c4aa2b3a-b94d-4295-ac92-edddc62d1aae_music_sep.wav')) (PosixPath('udio/Lessons in Reflection_all_sep.wav'), PosixPath('udio/Lessons in Reflection_music_sep.wav'))\n",
      "/data/dsmdla100sx0213/subin/wospeech/prompt/sample_michaeljackson.wav (PosixPath('suno/50a03c63-c1a4-4847-908b-79a2bb546f9e_all_sep.wav'), PosixPath('suno/50a03c63-c1a4-4847-908b-79a2bb546f9e_music_sep.wav')) (PosixPath('udio/Moments of Bravery_all_sep.wav'), PosixPath('udio/Moments of Bravery_music_sep.wav'))\n",
      "/data/dsmdla100sx0213/subin/wospeech/prompt/sample_anish.wav (PosixPath('suno/9f7781c0-86ad-4f15-b25e-aaffe1b4af79_all_sep.wav'), PosixPath('suno/9f7781c0-86ad-4f15-b25e-aaffe1b4af79_music_sep.wav')) (PosixPath('udio/Chasing Heartache_all_sep.wav'), PosixPath('udio/Chasing Heartache_music_sep.wav'))\n",
      "/data/dsmdla100sx0213/subin/wospeech/prompt/sample_Ebenezer.wav (PosixPath('suno/6164a646-c256-4d09-9e27-3d19112989fa_all_sep.wav'), PosixPath('suno/6164a646-c256-4d09-9e27-3d19112989fa_music_sep.wav')) (PosixPath('udio/What Lies Beneath_all_sep.wav'), PosixPath('udio/What Lies Beneath_music_sep.wav'))\n",
      "/data/dsmdla100sx0213/subin/wospeech/prompt/sample_eth.wav (PosixPath('suno/2896a364-1936-4048-b622-361eb017bbef_all_sep.wav'), PosixPath('suno/2896a364-1936-4048-b622-361eb017bbef_music_sep.wav')) (PosixPath('udio/Tangled Lessons_all_sep.wav'), PosixPath('udio/Tangled Lessons_music_sep.wav'))\n",
      "/data/dsmdla100sx0213/subin/wospeech/prompt/sample_beatles.wav (PosixPath('suno/7c6d5ccd-5970-4748-8bfc-5358f36b7a75_all_sep.wav'), PosixPath('suno/7c6d5ccd-5970-4748-8bfc-5358f36b7a75_music_sep.wav')) (PosixPath('udio/Embracing the Unadorned_all_sep.wav'), PosixPath('udio/Embracing the Unadorned_music_sep.wav'))\n",
      "/data/dsmdla100sx0213/subin/wospeech/prompt/sample_tony.wav (PosixPath('suno/56286cb6-d4c5-4700-88b6-02e6cc65a4f9_all_sep.wav'), PosixPath('suno/56286cb6-d4c5-4700-88b6-02e6cc65a4f9_music_sep.wav')) (PosixPath('udio/Moments of Light_all_sep.wav'), PosixPath('udio/Moments of Light_music_sep.wav'))\n",
      "/data/dsmdla100sx0213/subin/wospeech/prompt/sample_airy.wav (PosixPath('suno/6ee70df5-d40b-4d4e-9da2-98a501205558_all_sep.wav'), PosixPath('suno/6ee70df5-d40b-4d4e-9da2-98a501205558_music_sep.wav')) (PosixPath('udio/Torn Between Two Worlds_all_sep.wav'), PosixPath('udio/Torn Between Two Worlds_music_sep.wav'))\n",
      "/data/dsmdla100sx0213/subin/wospeech/prompt/sample_michaeljackson.wav (PosixPath('suno/dfc863d1-512a-4ffd-a0b5-6b6cad2e9dcc_all_sep.wav'), PosixPath('suno/dfc863d1-512a-4ffd-a0b5-6b6cad2e9dcc_music_sep.wav')) (PosixPath('udio/Dreams in the Desert_all_sep.wav'), PosixPath('udio/Dreams in the Desert_music_sep.wav'))\n",
      "/data/dsmdla100sx0213/subin/wospeech/prompt/sample_anish.wav (PosixPath('suno/391a2a6f-0cff-48cd-b57d-7023fc0521f4_all_sep.wav'), PosixPath('suno/391a2a6f-0cff-48cd-b57d-7023fc0521f4_music_sep.wav')) (PosixPath('udio/Into the Wild_all_sep.wav'), PosixPath('udio/Into the Wild_music_sep.wav'))\n",
      "/data/dsmdla100sx0213/subin/wospeech/prompt/sample_Ebenezer.wav (PosixPath('suno/b99fd038-0ce8-4d22-ae8e-eea6c8b337f7_all_sep.wav'), PosixPath('suno/b99fd038-0ce8-4d22-ae8e-eea6c8b337f7_music_sep.wav')) (PosixPath('udio/Echoes of Desolation_all_sep.wav'), PosixPath('udio/Echoes of Desolation_music_sep.wav'))\n",
      "/data/dsmdla100sx0213/subin/wospeech/prompt/sample_eth.wav (PosixPath('suno/f3f61ff0-9ee6-4dbb-a9b3-a071b189e552_all_sep.wav'), PosixPath('suno/f3f61ff0-9ee6-4dbb-a9b3-a071b189e552_music_sep.wav')) (PosixPath('udio/Chasing the Stars_all_sep.wav'), PosixPath('udio/Chasing the Stars_music_sep.wav'))\n",
      "/data/dsmdla100sx0213/subin/wospeech/prompt/sample_beatles.wav (PosixPath('suno/51e44bc2-ea3a-4499-b70f-c36750864556_all_sep.wav'), PosixPath('suno/51e44bc2-ea3a-4499-b70f-c36750864556_music_sep.wav')) (PosixPath('udio/Together We Rise_all_sep.wav'), PosixPath('udio/Together We Rise_music_sep.wav'))\n",
      "/data/dsmdla100sx0213/subin/wospeech/prompt/sample_tony.wav (PosixPath('suno/ecd2191f-e9fa-4123-9105-f8a6c52ee3b6_all_sep.wav'), PosixPath('suno/ecd2191f-e9fa-4123-9105-f8a6c52ee3b6_music_sep.wav')) (PosixPath('udio/Strange Kind of World_all_sep.wav'), PosixPath('udio/Strange Kind of World_music_sep.wav'))\n",
      "/data/dsmdla100sx0213/subin/wospeech/prompt/sample_airy.wav (PosixPath('suno/6ab155ea-2d8a-49ec-a396-d7fbb0ca6203_all_sep.wav'), PosixPath('suno/6ab155ea-2d8a-49ec-a396-d7fbb0ca6203_music_sep.wav')) (PosixPath('udio/Through the Storm_all_sep.wav'), PosixPath('udio/Through the Storm_music_sep.wav'))\n",
      "/data/dsmdla100sx0213/subin/wospeech/prompt/sample_michaeljackson.wav (PosixPath('suno/b8faf760-e0ec-4b02-add8-e2c052693149_all_sep.wav'), PosixPath('suno/b8faf760-e0ec-4b02-add8-e2c052693149_music_sep.wav')) (PosixPath('udio/Masks of Illusion_all_sep.wav'), PosixPath('udio/Masks of Illusion_music_sep.wav'))\n",
      "/data/dsmdla100sx0213/subin/wospeech/prompt/sample_anish.wav (PosixPath('suno/fc4cbe97-3194-4865-9fd9-fc87feb6a7f8_all_sep.wav'), PosixPath('suno/fc4cbe97-3194-4865-9fd9-fc87feb6a7f8_music_sep.wav')) (PosixPath('udio/Edge of Bliss_all_sep.wav'), PosixPath('udio/Edge of Bliss_music_sep.wav'))\n",
      "/data/dsmdla100sx0213/subin/wospeech/prompt/sample_Ebenezer.wav (PosixPath('suno/e50efffc-13e5-4c27-a18b-b55337fdf72b_all_sep.wav'), PosixPath('suno/e50efffc-13e5-4c27-a18b-b55337fdf72b_music_sep.wav')) (PosixPath('udio/Moments of Choice_all_sep.wav'), PosixPath('udio/Moments of Choice_music_sep.wav'))\n",
      "/data/dsmdla100sx0213/subin/wospeech/prompt/sample_eth.wav (PosixPath('suno/19e50170-5ca1-416c-a28d-40b439d1e77f_all_sep.wav'), PosixPath('suno/19e50170-5ca1-416c-a28d-40b439d1e77f_music_sep.wav')) (PosixPath('udio/Diamonds in the Dark_all_sep.wav'), PosixPath('udio/Diamonds in the Dark_music_sep.wav'))\n",
      "/data/dsmdla100sx0213/subin/wospeech/prompt/sample_beatles.wav (PosixPath('suno/682b83c5-0e67-4c71-99a9-67bf2a2e973b_all_sep.wav'), PosixPath('suno/682b83c5-0e67-4c71-99a9-67bf2a2e973b_music_sep.wav')) (PosixPath('udio/Mirages at the Shore_all_sep.wav'), PosixPath('udio/Mirages at the Shore_music_sep.wav'))\n",
      "/data/dsmdla100sx0213/subin/wospeech/prompt/sample_tony.wav (PosixPath('suno/61d752fa-9a38-4220-9def-102d7cb9b8de_all_sep.wav'), PosixPath('suno/61d752fa-9a38-4220-9def-102d7cb9b8de_music_sep.wav')) (PosixPath('udio/A Gentle Glow_all_sep.wav'), PosixPath('udio/A Gentle Glow_music_sep.wav'))\n",
      "/data/dsmdla100sx0213/subin/wospeech/prompt/sample_airy.wav (PosixPath('suno/c81fecf6-09c8-4748-b04d-c9c8628cf178_all_sep.wav'), PosixPath('suno/c81fecf6-09c8-4748-b04d-c9c8628cf178_music_sep.wav')) (PosixPath('udio/Finding a Better Road_all_sep.wav'), PosixPath('udio/Finding a Better Road_music_sep.wav'))\n",
      "/data/dsmdla100sx0213/subin/wospeech/prompt/sample_michaeljackson.wav (PosixPath('suno/a7511a64-ade4-4d41-af52-351a5103c61f_all_sep.wav'), PosixPath('suno/a7511a64-ade4-4d41-af52-351a5103c61f_music_sep.wav')) (PosixPath('udio/Masquerade of Truth_all_sep.wav'), PosixPath('udio/Masquerade of Truth_music_sep.wav'))\n",
      "/data/dsmdla100sx0213/subin/wospeech/prompt/sample_anish.wav (PosixPath('suno/61780159-0569-4f12-a983-d50c964eb4ae_all_sep.wav'), PosixPath('suno/61780159-0569-4f12-a983-d50c964eb4ae_music_sep.wav')) (PosixPath('udio/Whispers in the Shadows_all_sep.wav'), PosixPath('udio/Whispers in the Shadows_music_sep.wav'))\n",
      "/data/dsmdla100sx0213/subin/wospeech/prompt/sample_Ebenezer.wav (PosixPath('suno/b93d5bb3-3dcc-4709-bd81-f7a4a94e4351_all_sep.wav'), PosixPath('suno/b93d5bb3-3dcc-4709-bd81-f7a4a94e4351_music_sep.wav')) (PosixPath('udio/Stormy Embrace_all_sep.wav'), PosixPath('udio/Stormy Embrace_music_sep.wav'))\n",
      "/data/dsmdla100sx0213/subin/wospeech/prompt/sample_eth.wav (PosixPath('suno/56140736-5da6-4686-be6a-eecff9fc932c_all_sep.wav'), PosixPath('suno/56140736-5da6-4686-be6a-eecff9fc932c_music_sep.wav')) (PosixPath('udio/Silent Fortitude_all_sep.wav'), PosixPath('udio/Silent Fortitude_music_sep.wav'))\n",
      "/data/dsmdla100sx0213/subin/wospeech/prompt/sample_beatles.wav (PosixPath('suno/0a52af2e-7933-4e42-8734-1cbccef17755_all_sep.wav'), PosixPath('suno/0a52af2e-7933-4e42-8734-1cbccef17755_music_sep.wav')) (PosixPath('udio/Current of Belonging_all_sep.wav'), PosixPath('udio/Current of Belonging_music_sep.wav'))\n",
      "/data/dsmdla100sx0213/subin/wospeech/prompt/sample_tony.wav (PosixPath('suno/cd44897b-028e-471d-b907-87a08d96269a_all_sep.wav'), PosixPath('suno/cd44897b-028e-471d-b907-87a08d96269a_music_sep.wav')) (PosixPath('udio/Wings and Wheels_all_sep.wav'), PosixPath('udio/Wings and Wheels_music_sep.wav'))\n",
      "/data/dsmdla100sx0213/subin/wospeech/prompt/sample_airy.wav (PosixPath('suno/d9862fa8-583e-46bc-9c47-067b3eb41205_all_sep.wav'), PosixPath('suno/d9862fa8-583e-46bc-9c47-067b3eb41205_music_sep.wav')) (PosixPath('udio/New Horizons Ahead_all_sep.wav'), PosixPath('udio/New Horizons Ahead_music_sep.wav'))\n",
      "/data/dsmdla100sx0213/subin/wospeech/prompt/sample_michaeljackson.wav (PosixPath('suno/ca056b05-5e8e-4397-895c-b039277f6d7b_all_sep.wav'), PosixPath('suno/ca056b05-5e8e-4397-895c-b039277f6d7b_music_sep.wav')) (PosixPath('udio/Waves of Solitude_all_sep.wav'), PosixPath('udio/Waves of Solitude_music_sep.wav'))\n",
      "/data/dsmdla100sx0213/subin/wospeech/prompt/sample_anish.wav (PosixPath('suno/5dfc4b27-6f13-47ae-9820-9db4832fe1c4_all_sep.wav'), PosixPath('suno/5dfc4b27-6f13-47ae-9820-9db4832fe1c4_music_sep.wav')) (PosixPath('udio/A Cheeky Delight_all_sep.wav'), PosixPath('udio/A Cheeky Delight_music_sep.wav'))\n",
      "/data/dsmdla100sx0213/subin/wospeech/prompt/sample_Ebenezer.wav (PosixPath('suno/0c8f934c-d99d-4e9a-b9e2-ecccfbc21bf4_all_sep.wav'), PosixPath('suno/0c8f934c-d99d-4e9a-b9e2-ecccfbc21bf4_music_sep.wav')) (PosixPath('udio/Woven Contradictions_all_sep.wav'), PosixPath('udio/Woven Contradictions_music_sep.wav'))\n",
      "/data/dsmdla100sx0213/subin/wospeech/prompt/sample_eth.wav (PosixPath('suno/797baf50-6424-4253-bc8f-90a3f49b9d46_all_sep.wav'), PosixPath('suno/797baf50-6424-4253-bc8f-90a3f49b9d46_music_sep.wav')) (PosixPath('udio/A Better Life_all_sep.wav'), PosixPath('udio/A Better Life_music_sep.wav'))\n",
      "/data/dsmdla100sx0213/subin/wospeech/prompt/sample_beatles.wav (PosixPath('suno/bb24c7e3-8db8-4ee0-a538-10db3071f858_all_sep.wav'), PosixPath('suno/bb24c7e3-8db8-4ee0-a538-10db3071f858_music_sep.wav')) (PosixPath('udio/Unexpected Moments_all_sep.wav'), PosixPath('udio/Unexpected Moments_music_sep.wav'))\n",
      "/data/dsmdla100sx0213/subin/wospeech/prompt/sample_tony.wav (PosixPath('suno/22600eb5-fe0f-4adf-8131-d3acefd482d9_all_sep.wav'), PosixPath('suno/22600eb5-fe0f-4adf-8131-d3acefd482d9_music_sep.wav')) (PosixPath('udio/Echoes of the Past_all_sep.wav'), PosixPath('udio/Echoes of the Past_music_sep.wav'))\n",
      "/data/dsmdla100sx0213/subin/wospeech/prompt/sample_airy.wav (PosixPath('suno/92b628db-9dd5-40a1-aa3f-daea0c4cafd1_all_sep.wav'), PosixPath('suno/92b628db-9dd5-40a1-aa3f-daea0c4cafd1_music_sep.wav')) (PosixPath('udio/Whispers of a Dream_all_sep.wav'), PosixPath('udio/Whispers of a Dream_music_sep.wav'))\n",
      "/data/dsmdla100sx0213/subin/wospeech/prompt/sample_michaeljackson.wav (PosixPath('suno/36075256-152f-4742-9399-9018873c3294_all_sep.wav'), PosixPath('suno/36075256-152f-4742-9399-9018873c3294_music_sep.wav')) (PosixPath('udio/Bittersweet Solitude_all_sep.wav'), PosixPath('udio/Bittersweet Solitude_music_sep.wav'))\n",
      "/data/dsmdla100sx0213/subin/wospeech/prompt/sample_anish.wav (PosixPath('suno/b74c3964-5c06-4862-863c-ecf5ed287a9d_all_sep.wav'), PosixPath('suno/b74c3964-5c06-4862-863c-ecf5ed287a9d_music_sep.wav')) (PosixPath('udio/Igniting Desire_all_sep.wav'), PosixPath('udio/Igniting Desire_music_sep.wav'))\n",
      "/data/dsmdla100sx0213/subin/wospeech/prompt/sample_Ebenezer.wav (PosixPath('suno/c24a60e2-92dc-4984-a7d8-ba0519fb8dae_all_sep.wav'), PosixPath('suno/c24a60e2-92dc-4984-a7d8-ba0519fb8dae_music_sep.wav')) (PosixPath('udio/Whispers of the Red Shed_all_sep.wav'), PosixPath('udio/Whispers of the Red Shed_music_sep.wav'))\n",
      "/data/dsmdla100sx0213/subin/wospeech/prompt/sample_eth.wav (PosixPath('suno/71460a24-4323-4ff4-b3e1-702317ac5727_all_sep.wav'), PosixPath('suno/71460a24-4323-4ff4-b3e1-702317ac5727_music_sep.wav')) (PosixPath('udio/Through It All_all_sep.wav'), PosixPath('udio/Through It All_music_sep.wav'))\n",
      "/data/dsmdla100sx0213/subin/wospeech/prompt/sample_beatles.wav (PosixPath('suno/05cab456-fe8d-4724-abe8-57534eca0c53_all_sep.wav'), PosixPath('suno/05cab456-fe8d-4724-abe8-57534eca0c53_music_sep.wav')) (PosixPath('udio/Under One Roof_all_sep.wav'), PosixPath('udio/Under One Roof_music_sep.wav'))\n",
      "/data/dsmdla100sx0213/subin/wospeech/prompt/sample_tony.wav (PosixPath('suno/a261f3cc-9b64-49b1-a915-d64716771704_all_sep.wav'), PosixPath('suno/a261f3cc-9b64-49b1-a915-d64716771704_music_sep.wav')) (PosixPath('udio/Endless Skies_all_sep.wav'), PosixPath('udio/Endless Skies_music_sep.wav'))\n",
      "/data/dsmdla100sx0213/subin/wospeech/prompt/sample_airy.wav (PosixPath('suno/d27e8a24-50ae-492f-bed8-c4904ee4051c_all_sep.wav'), PosixPath('suno/d27e8a24-50ae-492f-bed8-c4904ee4051c_music_sep.wav')) (PosixPath('udio/Wandering Through Twilight_all_sep.wav'), PosixPath('udio/Wandering Through Twilight_music_sep.wav'))\n",
      "/data/dsmdla100sx0213/subin/wospeech/prompt/sample_michaeljackson.wav (PosixPath('suno/293097eb-a88e-404d-8257-309ce6e5fce6_all_sep.wav'), PosixPath('suno/293097eb-a88e-404d-8257-309ce6e5fce6_music_sep.wav')) (PosixPath('udio/Fleeting Fantasies_all_sep.wav'), PosixPath('udio/Fleeting Fantasies_music_sep.wav'))\n",
      "/data/dsmdla100sx0213/subin/wospeech/prompt/sample_anish.wav (PosixPath('suno/2240122f-f83c-4965-a12a-d8359bee9ac9_all_sep.wav'), PosixPath('suno/2240122f-f83c-4965-a12a-d8359bee9ac9_music_sep.wav')) (PosixPath('udio/Echoes of What Was_all_sep.wav'), PosixPath('udio/Echoes of What Was_music_sep.wav'))\n",
      "/data/dsmdla100sx0213/subin/wospeech/prompt/sample_Ebenezer.wav (PosixPath('suno/5723d64d-f42a-493c-98a7-bbc0e6ba5bd6_all_sep.wav'), PosixPath('suno/5723d64d-f42a-493c-98a7-bbc0e6ba5bd6_music_sep.wav')) (PosixPath('udio/Beneath the Surface_all_sep.wav'), PosixPath('udio/Beneath the Surface_music_sep.wav'))\n",
      "/data/dsmdla100sx0213/subin/wospeech/prompt/sample_eth.wav (PosixPath('suno/7f2e2e73-69a3-44ab-be24-f09646376a83_all_sep.wav'), PosixPath('suno/7f2e2e73-69a3-44ab-be24-f09646376a83_music_sep.wav')) (PosixPath('udio/Echoes of Journeys_all_sep.wav'), PosixPath('udio/Echoes of Journeys_music_sep.wav'))\n",
      "/data/dsmdla100sx0213/subin/wospeech/prompt/sample_beatles.wav (PosixPath('suno/3463cc83-6ec8-4c1e-bec7-a507c8127feb_all_sep.wav'), PosixPath('suno/3463cc83-6ec8-4c1e-bec7-a507c8127feb_music_sep.wav')) (PosixPath('udio/Whispers in the Pond_all_sep.wav'), PosixPath('udio/Whispers in the Pond_music_sep.wav'))\n",
      "/data/dsmdla100sx0213/subin/wospeech/prompt/sample_tony.wav (PosixPath('suno/025d1cfe-fb42-4412-b48a-cfd4a0df92f2_all_sep.wav'), PosixPath('suno/025d1cfe-fb42-4412-b48a-cfd4a0df92f2_music_sep.wav')) (PosixPath('udio/Fragments of Truth_all_sep.wav'), PosixPath('udio/Fragments of Truth_music_sep.wav'))\n",
      "/data/dsmdla100sx0213/subin/wospeech/prompt/sample_airy.wav (PosixPath('suno/4bfae760-5e17-4bf1-ad08-3378d48c1d03_all_sep.wav'), PosixPath('suno/4bfae760-5e17-4bf1-ad08-3378d48c1d03_music_sep.wav')) (PosixPath('udio/Whispers of the Past_all_sep.wav'), PosixPath('udio/Whispers of the Past_music_sep.wav'))\n"
     ]
    }
   ],
   "source": [
    "from itertools import cycle\n",
    "for prompt,suno,udio in zip(cycle(prompt_files),suno,udio):\n",
    "    print(prompt,suno,udio)"
   ]
  },
  {
   "cell_type": "code",
   "execution_count": 44,
   "id": "6bb5935e-f504-47fa-93e4-d6a1eed0c17c",
   "metadata": {},
   "outputs": [
    {
     "name": "stderr",
     "output_type": "stream",
     "text": [
      "0it [00:00, ?it/s]"
     ]
    },
    {
     "name": "stdout",
     "output_type": "stream",
     "text": [
      "/tmp/audio_gen/sample_anish_10f213f1-d719-41fc-bba9-28ebe199a2e3_all_sep_norm_norm.wav /data/dsmdla100sx0213/subin/MOSTools/suno/10f213f1-d719-41fc-bba9-28ebe199a2e3_all_sep_svc_vocal.wav\n"
     ]
    },
    {
     "name": "stderr",
     "output_type": "stream",
     "text": [
      "1it [00:25, 25.05s/it]"
     ]
    },
    {
     "name": "stdout",
     "output_type": "stream",
     "text": [
      "/tmp/audio_gen/sample_anish_Chasing Magic_all_sep_norm_norm.wav /data/dsmdla100sx0213/subin/MOSTools/udio/Chasing Magic_all_sep_svc_vocal.wav\n",
      "/tmp/audio_gen/sample_Ebenezer_0f249990-d2a0-4e1f-b7ab-8fde3c924d45_all_sep_norm_norm.wav /data/dsmdla100sx0213/subin/MOSTools/suno/0f249990-d2a0-4e1f-b7ab-8fde3c924d45_all_sep_svc_vocal.wav\n"
     ]
    },
    {
     "name": "stderr",
     "output_type": "stream",
     "text": [
      "2it [00:56, 28.65s/it]"
     ]
    },
    {
     "name": "stdout",
     "output_type": "stream",
     "text": [
      "/tmp/audio_gen/sample_Ebenezer_Behind the Mask_all_sep_norm_norm.wav /data/dsmdla100sx0213/subin/MOSTools/udio/Behind the Mask_all_sep_svc_vocal.wav\n",
      "/tmp/audio_gen/sample_eth_365ea0d6-ab2c-4787-85f0-1349750f8c79_all_sep_norm_norm.wav /data/dsmdla100sx0213/subin/MOSTools/suno/365ea0d6-ab2c-4787-85f0-1349750f8c79_all_sep_svc_vocal.wav\n"
     ]
    },
    {
     "name": "stderr",
     "output_type": "stream",
     "text": [
      "3it [01:24, 28.34s/it]"
     ]
    },
    {
     "name": "stdout",
     "output_type": "stream",
     "text": [
      "/tmp/audio_gen/sample_eth_Chasing the Light_all_sep_norm_norm.wav /data/dsmdla100sx0213/subin/MOSTools/udio/Chasing the Light_all_sep_svc_vocal.wav\n",
      "/tmp/audio_gen/sample_beatles_0821da0e-6966-48ed-b88b-d3ae623206f8_all_sep_norm_norm.wav /data/dsmdla100sx0213/subin/MOSTools/suno/0821da0e-6966-48ed-b88b-d3ae623206f8_all_sep_svc_vocal.wav\n"
     ]
    },
    {
     "name": "stderr",
     "output_type": "stream",
     "text": [
      "4it [01:50, 27.50s/it]"
     ]
    },
    {
     "name": "stdout",
     "output_type": "stream",
     "text": [
      "/tmp/audio_gen/sample_beatles_Cycle of Shadows_all_sep_norm_norm.wav /data/dsmdla100sx0213/subin/MOSTools/udio/Cycle of Shadows_all_sep_svc_vocal.wav\n",
      "/tmp/audio_gen/sample_tony_acffa5e5-8169-450e-b93f-7d24c55d4b93_all_sep_norm_norm.wav /data/dsmdla100sx0213/subin/MOSTools/suno/acffa5e5-8169-450e-b93f-7d24c55d4b93_all_sep_svc_vocal.wav\n"
     ]
    },
    {
     "name": "stderr",
     "output_type": "stream",
     "text": [
      "5it [02:15, 26.55s/it]"
     ]
    },
    {
     "name": "stdout",
     "output_type": "stream",
     "text": [
      "/tmp/audio_gen/sample_tony_Journey to Clarity_all_sep_norm_norm.wav /data/dsmdla100sx0213/subin/MOSTools/udio/Journey to Clarity_all_sep_svc_vocal.wav\n",
      "/tmp/audio_gen/sample_airy_4b6e9f89-46a7-4cce-bad8-67cfb98a3909_all_sep_norm_norm.wav /data/dsmdla100sx0213/subin/MOSTools/suno/4b6e9f89-46a7-4cce-bad8-67cfb98a3909_all_sep_svc_vocal.wav\n"
     ]
    },
    {
     "name": "stderr",
     "output_type": "stream",
     "text": [
      "6it [02:48, 28.96s/it]"
     ]
    },
    {
     "name": "stdout",
     "output_type": "stream",
     "text": [
      "/tmp/audio_gen/sample_airy_Whispers in the Fog_all_sep_norm_norm.wav /data/dsmdla100sx0213/subin/MOSTools/udio/Whispers in the Fog_all_sep_svc_vocal.wav\n",
      "/tmp/audio_gen/sample_michaeljackson_de0d5e3f-d2fd-4fd8-866a-7c1061b5b63a_all_sep_norm_norm.wav /data/dsmdla100sx0213/subin/MOSTools/suno/de0d5e3f-d2fd-4fd8-866a-7c1061b5b63a_all_sep_svc_vocal.wav\n"
     ]
    },
    {
     "name": "stderr",
     "output_type": "stream",
     "text": [
      "7it [03:18, 29.32s/it]"
     ]
    },
    {
     "name": "stdout",
     "output_type": "stream",
     "text": [
      "/tmp/audio_gen/sample_michaeljackson_Through the Vines_all_sep_norm_norm.wav /data/dsmdla100sx0213/subin/MOSTools/udio/Through the Vines_all_sep_svc_vocal.wav\n",
      "/tmp/audio_gen/sample_anish_1b2a31e3-5a75-481b-82fc-ab9e3087fbee_all_sep_norm_norm.wav /data/dsmdla100sx0213/subin/MOSTools/suno/1b2a31e3-5a75-481b-82fc-ab9e3087fbee_all_sep_svc_vocal.wav\n"
     ]
    },
    {
     "name": "stderr",
     "output_type": "stream",
     "text": [
      "8it [03:41, 27.09s/it]"
     ]
    },
    {
     "name": "stdout",
     "output_type": "stream",
     "text": [
      "/tmp/audio_gen/sample_anish_Until We Find the Reason_all_sep_norm_norm.wav /data/dsmdla100sx0213/subin/MOSTools/udio/Until We Find the Reason_all_sep_svc_vocal.wav\n",
      "/tmp/audio_gen/sample_Ebenezer_315e1ec8-9844-4967-819d-ba36f484f5b3_all_sep_norm_norm.wav /data/dsmdla100sx0213/subin/MOSTools/suno/315e1ec8-9844-4967-819d-ba36f484f5b3_all_sep_svc_vocal.wav\n"
     ]
    },
    {
     "name": "stderr",
     "output_type": "stream",
     "text": [
      "9it [04:08, 27.10s/it]"
     ]
    },
    {
     "name": "stdout",
     "output_type": "stream",
     "text": [
      "/tmp/audio_gen/sample_Ebenezer_The Essence of Change_all_sep_norm_norm.wav /data/dsmdla100sx0213/subin/MOSTools/udio/The Essence of Change_all_sep_svc_vocal.wav\n",
      "/tmp/audio_gen/sample_eth_9bc57280-a41d-427f-9b80-e7c4cc54a84a_all_sep_norm_norm.wav /data/dsmdla100sx0213/subin/MOSTools/suno/9bc57280-a41d-427f-9b80-e7c4cc54a84a_all_sep_svc_vocal.wav\n"
     ]
    },
    {
     "name": "stderr",
     "output_type": "stream",
     "text": [
      "10it [04:46, 30.64s/it]"
     ]
    },
    {
     "name": "stdout",
     "output_type": "stream",
     "text": [
      "/tmp/audio_gen/sample_eth_Moments of Bliss_all_sep_norm_norm.wav /data/dsmdla100sx0213/subin/MOSTools/udio/Moments of Bliss_all_sep_svc_vocal.wav\n",
      "/tmp/audio_gen/sample_beatles_765565a9-0b79-4b7b-8d20-a1470321ef78_all_sep_norm_norm.wav /data/dsmdla100sx0213/subin/MOSTools/suno/765565a9-0b79-4b7b-8d20-a1470321ef78_all_sep_svc_vocal.wav\n"
     ]
    },
    {
     "name": "stderr",
     "output_type": "stream",
     "text": [
      "11it [05:20, 31.39s/it]"
     ]
    },
    {
     "name": "stdout",
     "output_type": "stream",
     "text": [
      "/tmp/audio_gen/sample_beatles_Shadows of Steel_all_sep_norm_norm.wav /data/dsmdla100sx0213/subin/MOSTools/udio/Shadows of Steel_all_sep_svc_vocal.wav\n",
      "/tmp/audio_gen/sample_tony_c00621ce-f943-44db-bed1-49c8144a0237_all_sep_norm_norm.wav /data/dsmdla100sx0213/subin/MOSTools/suno/c00621ce-f943-44db-bed1-49c8144a0237_all_sep_svc_vocal.wav\n"
     ]
    },
    {
     "name": "stderr",
     "output_type": "stream",
     "text": [
      "12it [05:50, 31.07s/it]"
     ]
    },
    {
     "name": "stdout",
     "output_type": "stream",
     "text": [
      "/tmp/audio_gen/sample_tony_The Cost of Convenience_all_sep_norm_norm.wav /data/dsmdla100sx0213/subin/MOSTools/udio/The Cost of Convenience_all_sep_svc_vocal.wav\n",
      "/tmp/audio_gen/sample_airy_2ababd61-81cb-4acc-a1f6-8f9ce6368bdf_all_sep_norm_norm.wav /data/dsmdla100sx0213/subin/MOSTools/suno/2ababd61-81cb-4acc-a1f6-8f9ce6368bdf_all_sep_svc_vocal.wav\n"
     ]
    },
    {
     "name": "stderr",
     "output_type": "stream",
     "text": [
      "13it [06:20, 30.73s/it]"
     ]
    },
    {
     "name": "stdout",
     "output_type": "stream",
     "text": [
      "/tmp/audio_gen/sample_airy_Awakening from Darkness_all_sep_norm_norm.wav /data/dsmdla100sx0213/subin/MOSTools/udio/Awakening from Darkness_all_sep_svc_vocal.wav\n",
      "/tmp/audio_gen/sample_michaeljackson_327a9387-8a66-46b2-9bd0-a64379a94626_all_sep_norm_norm.wav /data/dsmdla100sx0213/subin/MOSTools/suno/327a9387-8a66-46b2-9bd0-a64379a94626_all_sep_svc_vocal.wav\n"
     ]
    },
    {
     "name": "stderr",
     "output_type": "stream",
     "text": [
      "14it [06:46, 29.47s/it]"
     ]
    },
    {
     "name": "stdout",
     "output_type": "stream",
     "text": [
      "/tmp/audio_gen/sample_michaeljackson_Unity in Diversity_all_sep_norm_norm.wav /data/dsmdla100sx0213/subin/MOSTools/udio/Unity in Diversity_all_sep_svc_vocal.wav\n",
      "/tmp/audio_gen/sample_anish_35df3d15-a891-49b5-8216-5ba35b5f051f_all_sep_norm_norm.wav /data/dsmdla100sx0213/subin/MOSTools/suno/35df3d15-a891-49b5-8216-5ba35b5f051f_all_sep_svc_vocal.wav\n"
     ]
    },
    {
     "name": "stderr",
     "output_type": "stream",
     "text": [
      "15it [07:18, 30.25s/it]"
     ]
    },
    {
     "name": "stdout",
     "output_type": "stream",
     "text": [
      "/tmp/audio_gen/sample_anish_Flavor of Love_all_sep_norm_norm.wav /data/dsmdla100sx0213/subin/MOSTools/udio/Flavor of Love_all_sep_svc_vocal.wav\n",
      "/tmp/audio_gen/sample_Ebenezer_48f1e32a-c5c1-4730-9f01-b2fcc2fafe30_all_sep_norm_norm.wav /data/dsmdla100sx0213/subin/MOSTools/suno/48f1e32a-c5c1-4730-9f01-b2fcc2fafe30_all_sep_svc_vocal.wav\n"
     ]
    },
    {
     "name": "stderr",
     "output_type": "stream",
     "text": [
      "16it [07:50, 30.70s/it]"
     ]
    },
    {
     "name": "stdout",
     "output_type": "stream",
     "text": [
      "/tmp/audio_gen/sample_Ebenezer_Veil of Doubt_all_sep_norm_norm.wav /data/dsmdla100sx0213/subin/MOSTools/udio/Veil of Doubt_all_sep_svc_vocal.wav\n",
      "/tmp/audio_gen/sample_eth_4d8cd4be-86b3-415c-b8fd-0e722c77e2b9_all_sep_norm_norm.wav /data/dsmdla100sx0213/subin/MOSTools/suno/4d8cd4be-86b3-415c-b8fd-0e722c77e2b9_all_sep_svc_vocal.wav\n"
     ]
    },
    {
     "name": "stderr",
     "output_type": "stream",
     "text": [
      "17it [08:17, 29.63s/it]"
     ]
    },
    {
     "name": "stdout",
     "output_type": "stream",
     "text": [
      "/tmp/audio_gen/sample_eth_Neon Dreams and Tender Hues_all_sep_norm_norm.wav /data/dsmdla100sx0213/subin/MOSTools/udio/Neon Dreams and Tender Hues_all_sep_svc_vocal.wav\n",
      "/tmp/audio_gen/sample_beatles_c933c937-a95b-4378-a14c-21d8dee79550_all_sep_norm_norm.wav /data/dsmdla100sx0213/subin/MOSTools/suno/c933c937-a95b-4378-a14c-21d8dee79550_all_sep_svc_vocal.wav\n"
     ]
    },
    {
     "name": "stderr",
     "output_type": "stream",
     "text": [
      "18it [08:46, 29.30s/it]"
     ]
    },
    {
     "name": "stdout",
     "output_type": "stream",
     "text": [
      "/tmp/audio_gen/sample_beatles_Letting Go of Childhood_all_sep_norm_norm.wav /data/dsmdla100sx0213/subin/MOSTools/udio/Letting Go of Childhood_all_sep_svc_vocal.wav\n",
      "/tmp/audio_gen/sample_tony_e6d94f21-a228-4f30-8a81-aaf2058e1a94_all_sep_norm_norm.wav /data/dsmdla100sx0213/subin/MOSTools/suno/e6d94f21-a228-4f30-8a81-aaf2058e1a94_all_sep_svc_vocal.wav\n"
     ]
    },
    {
     "name": "stderr",
     "output_type": "stream",
     "text": [
      "19it [09:15, 29.27s/it]"
     ]
    },
    {
     "name": "stdout",
     "output_type": "stream",
     "text": [
      "/tmp/audio_gen/sample_tony_Embrace of Shadows_all_sep_norm_norm.wav /data/dsmdla100sx0213/subin/MOSTools/udio/Embrace of Shadows_all_sep_svc_vocal.wav\n",
      "/tmp/audio_gen/sample_airy_c4aa2b3a-b94d-4295-ac92-edddc62d1aae_all_sep_norm_norm.wav /data/dsmdla100sx0213/subin/MOSTools/suno/c4aa2b3a-b94d-4295-ac92-edddc62d1aae_all_sep_svc_vocal.wav\n"
     ]
    },
    {
     "name": "stderr",
     "output_type": "stream",
     "text": [
      "20it [09:48, 30.50s/it]"
     ]
    },
    {
     "name": "stdout",
     "output_type": "stream",
     "text": [
      "/tmp/audio_gen/sample_airy_Lessons in Reflection_all_sep_norm_norm.wav /data/dsmdla100sx0213/subin/MOSTools/udio/Lessons in Reflection_all_sep_svc_vocal.wav\n",
      "/tmp/audio_gen/sample_michaeljackson_50a03c63-c1a4-4847-908b-79a2bb546f9e_all_sep_norm_norm.wav /data/dsmdla100sx0213/subin/MOSTools/suno/50a03c63-c1a4-4847-908b-79a2bb546f9e_all_sep_svc_vocal.wav\n"
     ]
    },
    {
     "name": "stderr",
     "output_type": "stream",
     "text": [
      "21it [10:21, 31.24s/it]"
     ]
    },
    {
     "name": "stdout",
     "output_type": "stream",
     "text": [
      "/tmp/audio_gen/sample_michaeljackson_Moments of Bravery_all_sep_norm_norm.wav /data/dsmdla100sx0213/subin/MOSTools/udio/Moments of Bravery_all_sep_svc_vocal.wav\n",
      "/tmp/audio_gen/sample_anish_9f7781c0-86ad-4f15-b25e-aaffe1b4af79_all_sep_norm_norm.wav /data/dsmdla100sx0213/subin/MOSTools/suno/9f7781c0-86ad-4f15-b25e-aaffe1b4af79_all_sep_svc_vocal.wav\n"
     ]
    },
    {
     "name": "stderr",
     "output_type": "stream",
     "text": [
      "22it [10:49, 30.10s/it]"
     ]
    },
    {
     "name": "stdout",
     "output_type": "stream",
     "text": [
      "/tmp/audio_gen/sample_anish_Chasing Heartache_all_sep_norm_norm.wav /data/dsmdla100sx0213/subin/MOSTools/udio/Chasing Heartache_all_sep_svc_vocal.wav\n",
      "/tmp/audio_gen/sample_Ebenezer_6164a646-c256-4d09-9e27-3d19112989fa_all_sep_norm_norm.wav /data/dsmdla100sx0213/subin/MOSTools/suno/6164a646-c256-4d09-9e27-3d19112989fa_all_sep_svc_vocal.wav\n"
     ]
    },
    {
     "name": "stderr",
     "output_type": "stream",
     "text": [
      "23it [11:14, 28.50s/it]"
     ]
    },
    {
     "name": "stdout",
     "output_type": "stream",
     "text": [
      "/tmp/audio_gen/sample_Ebenezer_What Lies Beneath_all_sep_norm_norm.wav /data/dsmdla100sx0213/subin/MOSTools/udio/What Lies Beneath_all_sep_svc_vocal.wav\n",
      "/tmp/audio_gen/sample_eth_2896a364-1936-4048-b622-361eb017bbef_all_sep_norm_norm.wav /data/dsmdla100sx0213/subin/MOSTools/suno/2896a364-1936-4048-b622-361eb017bbef_all_sep_svc_vocal.wav\n"
     ]
    },
    {
     "name": "stderr",
     "output_type": "stream",
     "text": [
      "24it [11:45, 29.38s/it]"
     ]
    },
    {
     "name": "stdout",
     "output_type": "stream",
     "text": [
      "/tmp/audio_gen/sample_eth_Tangled Lessons_all_sep_norm_norm.wav /data/dsmdla100sx0213/subin/MOSTools/udio/Tangled Lessons_all_sep_svc_vocal.wav\n",
      "/tmp/audio_gen/sample_beatles_7c6d5ccd-5970-4748-8bfc-5358f36b7a75_all_sep_norm_norm.wav /data/dsmdla100sx0213/subin/MOSTools/suno/7c6d5ccd-5970-4748-8bfc-5358f36b7a75_all_sep_svc_vocal.wav\n"
     ]
    },
    {
     "name": "stderr",
     "output_type": "stream",
     "text": [
      "25it [12:17, 30.17s/it]"
     ]
    },
    {
     "name": "stdout",
     "output_type": "stream",
     "text": [
      "/tmp/audio_gen/sample_beatles_Embracing the Unadorned_all_sep_norm_norm.wav /data/dsmdla100sx0213/subin/MOSTools/udio/Embracing the Unadorned_all_sep_svc_vocal.wav\n",
      "/tmp/audio_gen/sample_tony_56286cb6-d4c5-4700-88b6-02e6cc65a4f9_all_sep_norm_norm.wav /data/dsmdla100sx0213/subin/MOSTools/suno/56286cb6-d4c5-4700-88b6-02e6cc65a4f9_all_sep_svc_vocal.wav\n"
     ]
    },
    {
     "name": "stderr",
     "output_type": "stream",
     "text": [
      "26it [12:56, 32.69s/it]"
     ]
    },
    {
     "name": "stdout",
     "output_type": "stream",
     "text": [
      "/tmp/audio_gen/sample_tony_Moments of Light_all_sep_norm_norm.wav /data/dsmdla100sx0213/subin/MOSTools/udio/Moments of Light_all_sep_svc_vocal.wav\n",
      "/tmp/audio_gen/sample_airy_6ee70df5-d40b-4d4e-9da2-98a501205558_all_sep_norm_norm.wav /data/dsmdla100sx0213/subin/MOSTools/suno/6ee70df5-d40b-4d4e-9da2-98a501205558_all_sep_svc_vocal.wav\n"
     ]
    },
    {
     "name": "stderr",
     "output_type": "stream",
     "text": [
      "27it [13:28, 32.67s/it]"
     ]
    },
    {
     "name": "stdout",
     "output_type": "stream",
     "text": [
      "/tmp/audio_gen/sample_airy_Torn Between Two Worlds_all_sep_norm_norm.wav /data/dsmdla100sx0213/subin/MOSTools/udio/Torn Between Two Worlds_all_sep_svc_vocal.wav\n",
      "/tmp/audio_gen/sample_michaeljackson_dfc863d1-512a-4ffd-a0b5-6b6cad2e9dcc_all_sep_norm_norm.wav /data/dsmdla100sx0213/subin/MOSTools/suno/dfc863d1-512a-4ffd-a0b5-6b6cad2e9dcc_all_sep_svc_vocal.wav\n"
     ]
    },
    {
     "name": "stderr",
     "output_type": "stream",
     "text": [
      "28it [14:06, 34.30s/it]"
     ]
    },
    {
     "name": "stdout",
     "output_type": "stream",
     "text": [
      "/tmp/audio_gen/sample_michaeljackson_Dreams in the Desert_all_sep_norm_norm.wav /data/dsmdla100sx0213/subin/MOSTools/udio/Dreams in the Desert_all_sep_svc_vocal.wav\n",
      "/tmp/audio_gen/sample_anish_391a2a6f-0cff-48cd-b57d-7023fc0521f4_all_sep_norm_norm.wav /data/dsmdla100sx0213/subin/MOSTools/suno/391a2a6f-0cff-48cd-b57d-7023fc0521f4_all_sep_svc_vocal.wav\n"
     ]
    },
    {
     "name": "stderr",
     "output_type": "stream",
     "text": [
      "29it [14:38, 33.65s/it]"
     ]
    },
    {
     "name": "stdout",
     "output_type": "stream",
     "text": [
      "/tmp/audio_gen/sample_anish_Into the Wild_all_sep_norm_norm.wav /data/dsmdla100sx0213/subin/MOSTools/udio/Into the Wild_all_sep_svc_vocal.wav\n",
      "/tmp/audio_gen/sample_Ebenezer_b99fd038-0ce8-4d22-ae8e-eea6c8b337f7_all_sep_norm_norm.wav /data/dsmdla100sx0213/subin/MOSTools/suno/b99fd038-0ce8-4d22-ae8e-eea6c8b337f7_all_sep_svc_vocal.wav\n"
     ]
    },
    {
     "name": "stderr",
     "output_type": "stream",
     "text": [
      "30it [15:01, 30.36s/it]"
     ]
    },
    {
     "name": "stdout",
     "output_type": "stream",
     "text": [
      "/tmp/audio_gen/sample_Ebenezer_Echoes of Desolation_all_sep_norm_norm.wav /data/dsmdla100sx0213/subin/MOSTools/udio/Echoes of Desolation_all_sep_svc_vocal.wav\n",
      "/tmp/audio_gen/sample_eth_f3f61ff0-9ee6-4dbb-a9b3-a071b189e552_all_sep_norm_norm.wav /data/dsmdla100sx0213/subin/MOSTools/suno/f3f61ff0-9ee6-4dbb-a9b3-a071b189e552_all_sep_svc_vocal.wav\n"
     ]
    },
    {
     "name": "stderr",
     "output_type": "stream",
     "text": [
      "31it [15:39, 32.50s/it]"
     ]
    },
    {
     "name": "stdout",
     "output_type": "stream",
     "text": [
      "/tmp/audio_gen/sample_eth_Chasing the Stars_all_sep_norm_norm.wav /data/dsmdla100sx0213/subin/MOSTools/udio/Chasing the Stars_all_sep_svc_vocal.wav\n",
      "/tmp/audio_gen/sample_beatles_51e44bc2-ea3a-4499-b70f-c36750864556_all_sep_norm_norm.wav /data/dsmdla100sx0213/subin/MOSTools/suno/51e44bc2-ea3a-4499-b70f-c36750864556_all_sep_svc_vocal.wav\n"
     ]
    },
    {
     "name": "stderr",
     "output_type": "stream",
     "text": [
      "32it [16:15, 33.66s/it]"
     ]
    },
    {
     "name": "stdout",
     "output_type": "stream",
     "text": [
      "/tmp/audio_gen/sample_beatles_Together We Rise_all_sep_norm_norm.wav /data/dsmdla100sx0213/subin/MOSTools/udio/Together We Rise_all_sep_svc_vocal.wav\n",
      "/tmp/audio_gen/sample_tony_ecd2191f-e9fa-4123-9105-f8a6c52ee3b6_all_sep_norm_norm.wav /data/dsmdla100sx0213/subin/MOSTools/suno/ecd2191f-e9fa-4123-9105-f8a6c52ee3b6_all_sep_svc_vocal.wav\n"
     ]
    },
    {
     "name": "stderr",
     "output_type": "stream",
     "text": [
      "33it [16:54, 35.12s/it]"
     ]
    },
    {
     "name": "stdout",
     "output_type": "stream",
     "text": [
      "/tmp/audio_gen/sample_tony_Strange Kind of World_all_sep_norm_norm.wav /data/dsmdla100sx0213/subin/MOSTools/udio/Strange Kind of World_all_sep_svc_vocal.wav\n",
      "/tmp/audio_gen/sample_airy_6ab155ea-2d8a-49ec-a396-d7fbb0ca6203_all_sep_norm_norm.wav /data/dsmdla100sx0213/subin/MOSTools/suno/6ab155ea-2d8a-49ec-a396-d7fbb0ca6203_all_sep_svc_vocal.wav\n"
     ]
    },
    {
     "name": "stderr",
     "output_type": "stream",
     "text": [
      "34it [17:33, 36.28s/it]"
     ]
    },
    {
     "name": "stdout",
     "output_type": "stream",
     "text": [
      "/tmp/audio_gen/sample_airy_Through the Storm_all_sep_norm_norm.wav /data/dsmdla100sx0213/subin/MOSTools/udio/Through the Storm_all_sep_svc_vocal.wav\n",
      "/tmp/audio_gen/sample_michaeljackson_b8faf760-e0ec-4b02-add8-e2c052693149_all_sep_norm_norm.wav /data/dsmdla100sx0213/subin/MOSTools/suno/b8faf760-e0ec-4b02-add8-e2c052693149_all_sep_svc_vocal.wav\n"
     ]
    },
    {
     "name": "stderr",
     "output_type": "stream",
     "text": [
      "35it [18:03, 34.52s/it]"
     ]
    },
    {
     "name": "stdout",
     "output_type": "stream",
     "text": [
      "/tmp/audio_gen/sample_michaeljackson_Masks of Illusion_all_sep_norm_norm.wav /data/dsmdla100sx0213/subin/MOSTools/udio/Masks of Illusion_all_sep_svc_vocal.wav\n",
      "/tmp/audio_gen/sample_anish_fc4cbe97-3194-4865-9fd9-fc87feb6a7f8_all_sep_norm_norm.wav /data/dsmdla100sx0213/subin/MOSTools/suno/fc4cbe97-3194-4865-9fd9-fc87feb6a7f8_all_sep_svc_vocal.wav\n"
     ]
    },
    {
     "name": "stderr",
     "output_type": "stream",
     "text": [
      "36it [18:34, 33.39s/it]"
     ]
    },
    {
     "name": "stdout",
     "output_type": "stream",
     "text": [
      "/tmp/audio_gen/sample_anish_Edge of Bliss_all_sep_norm_norm.wav /data/dsmdla100sx0213/subin/MOSTools/udio/Edge of Bliss_all_sep_svc_vocal.wav\n",
      "/tmp/audio_gen/sample_Ebenezer_e50efffc-13e5-4c27-a18b-b55337fdf72b_all_sep_norm_norm.wav /data/dsmdla100sx0213/subin/MOSTools/suno/e50efffc-13e5-4c27-a18b-b55337fdf72b_all_sep_svc_vocal.wav\n"
     ]
    },
    {
     "name": "stderr",
     "output_type": "stream",
     "text": [
      "37it [19:05, 32.75s/it]"
     ]
    },
    {
     "name": "stdout",
     "output_type": "stream",
     "text": [
      "/tmp/audio_gen/sample_Ebenezer_Moments of Choice_all_sep_norm_norm.wav /data/dsmdla100sx0213/subin/MOSTools/udio/Moments of Choice_all_sep_svc_vocal.wav\n",
      "/tmp/audio_gen/sample_eth_19e50170-5ca1-416c-a28d-40b439d1e77f_all_sep_norm_norm.wav /data/dsmdla100sx0213/subin/MOSTools/suno/19e50170-5ca1-416c-a28d-40b439d1e77f_all_sep_svc_vocal.wav\n"
     ]
    },
    {
     "name": "stderr",
     "output_type": "stream",
     "text": [
      "38it [19:36, 32.23s/it]"
     ]
    },
    {
     "name": "stdout",
     "output_type": "stream",
     "text": [
      "/tmp/audio_gen/sample_eth_Diamonds in the Dark_all_sep_norm_norm.wav /data/dsmdla100sx0213/subin/MOSTools/udio/Diamonds in the Dark_all_sep_svc_vocal.wav\n",
      "/tmp/audio_gen/sample_beatles_682b83c5-0e67-4c71-99a9-67bf2a2e973b_all_sep_norm_norm.wav /data/dsmdla100sx0213/subin/MOSTools/suno/682b83c5-0e67-4c71-99a9-67bf2a2e973b_all_sep_svc_vocal.wav\n"
     ]
    },
    {
     "name": "stderr",
     "output_type": "stream",
     "text": [
      "39it [20:06, 31.48s/it]"
     ]
    },
    {
     "name": "stdout",
     "output_type": "stream",
     "text": [
      "/tmp/audio_gen/sample_beatles_Mirages at the Shore_all_sep_norm_norm.wav /data/dsmdla100sx0213/subin/MOSTools/udio/Mirages at the Shore_all_sep_svc_vocal.wav\n",
      "/tmp/audio_gen/sample_tony_61d752fa-9a38-4220-9def-102d7cb9b8de_all_sep_norm_norm.wav /data/dsmdla100sx0213/subin/MOSTools/suno/61d752fa-9a38-4220-9def-102d7cb9b8de_all_sep_svc_vocal.wav\n"
     ]
    },
    {
     "name": "stderr",
     "output_type": "stream",
     "text": [
      "40it [20:40, 32.45s/it]"
     ]
    },
    {
     "name": "stdout",
     "output_type": "stream",
     "text": [
      "/tmp/audio_gen/sample_tony_A Gentle Glow_all_sep_norm_norm.wav /data/dsmdla100sx0213/subin/MOSTools/udio/A Gentle Glow_all_sep_svc_vocal.wav\n",
      "/tmp/audio_gen/sample_airy_c81fecf6-09c8-4748-b04d-c9c8628cf178_all_sep_norm_norm.wav /data/dsmdla100sx0213/subin/MOSTools/suno/c81fecf6-09c8-4748-b04d-c9c8628cf178_all_sep_svc_vocal.wav\n"
     ]
    },
    {
     "name": "stderr",
     "output_type": "stream",
     "text": [
      "41it [21:11, 31.95s/it]"
     ]
    },
    {
     "name": "stdout",
     "output_type": "stream",
     "text": [
      "/tmp/audio_gen/sample_airy_Finding a Better Road_all_sep_norm_norm.wav /data/dsmdla100sx0213/subin/MOSTools/udio/Finding a Better Road_all_sep_svc_vocal.wav\n",
      "/tmp/audio_gen/sample_michaeljackson_a7511a64-ade4-4d41-af52-351a5103c61f_all_sep_norm_norm.wav /data/dsmdla100sx0213/subin/MOSTools/suno/a7511a64-ade4-4d41-af52-351a5103c61f_all_sep_svc_vocal.wav\n"
     ]
    },
    {
     "name": "stderr",
     "output_type": "stream",
     "text": [
      "42it [21:49, 33.79s/it]"
     ]
    },
    {
     "name": "stdout",
     "output_type": "stream",
     "text": [
      "/tmp/audio_gen/sample_michaeljackson_Masquerade of Truth_all_sep_norm_norm.wav /data/dsmdla100sx0213/subin/MOSTools/udio/Masquerade of Truth_all_sep_svc_vocal.wav\n",
      "/tmp/audio_gen/sample_anish_61780159-0569-4f12-a983-d50c964eb4ae_all_sep_norm_norm.wav /data/dsmdla100sx0213/subin/MOSTools/suno/61780159-0569-4f12-a983-d50c964eb4ae_all_sep_svc_vocal.wav\n"
     ]
    },
    {
     "name": "stderr",
     "output_type": "stream",
     "text": [
      "43it [22:18, 32.26s/it]"
     ]
    },
    {
     "name": "stdout",
     "output_type": "stream",
     "text": [
      "/tmp/audio_gen/sample_anish_Whispers in the Shadows_all_sep_norm_norm.wav /data/dsmdla100sx0213/subin/MOSTools/udio/Whispers in the Shadows_all_sep_svc_vocal.wav\n",
      "/tmp/audio_gen/sample_Ebenezer_b93d5bb3-3dcc-4709-bd81-f7a4a94e4351_all_sep_norm_norm.wav /data/dsmdla100sx0213/subin/MOSTools/suno/b93d5bb3-3dcc-4709-bd81-f7a4a94e4351_all_sep_svc_vocal.wav\n"
     ]
    },
    {
     "name": "stderr",
     "output_type": "stream",
     "text": [
      "44it [22:49, 32.03s/it]"
     ]
    },
    {
     "name": "stdout",
     "output_type": "stream",
     "text": [
      "/tmp/audio_gen/sample_Ebenezer_Stormy Embrace_all_sep_norm_norm.wav /data/dsmdla100sx0213/subin/MOSTools/udio/Stormy Embrace_all_sep_svc_vocal.wav\n",
      "/tmp/audio_gen/sample_eth_56140736-5da6-4686-be6a-eecff9fc932c_all_sep_norm_norm.wav /data/dsmdla100sx0213/subin/MOSTools/suno/56140736-5da6-4686-be6a-eecff9fc932c_all_sep_svc_vocal.wav\n"
     ]
    },
    {
     "name": "stderr",
     "output_type": "stream",
     "text": [
      "45it [23:22, 32.11s/it]"
     ]
    },
    {
     "name": "stdout",
     "output_type": "stream",
     "text": [
      "/tmp/audio_gen/sample_eth_Silent Fortitude_all_sep_norm_norm.wav /data/dsmdla100sx0213/subin/MOSTools/udio/Silent Fortitude_all_sep_svc_vocal.wav\n",
      "/tmp/audio_gen/sample_beatles_0a52af2e-7933-4e42-8734-1cbccef17755_all_sep_norm_norm.wav /data/dsmdla100sx0213/subin/MOSTools/suno/0a52af2e-7933-4e42-8734-1cbccef17755_all_sep_svc_vocal.wav\n"
     ]
    },
    {
     "name": "stderr",
     "output_type": "stream",
     "text": [
      "46it [23:52, 31.68s/it]"
     ]
    },
    {
     "name": "stdout",
     "output_type": "stream",
     "text": [
      "/tmp/audio_gen/sample_beatles_Current of Belonging_all_sep_norm_norm.wav /data/dsmdla100sx0213/subin/MOSTools/udio/Current of Belonging_all_sep_svc_vocal.wav\n",
      "/tmp/audio_gen/sample_tony_cd44897b-028e-471d-b907-87a08d96269a_all_sep_norm_norm.wav /data/dsmdla100sx0213/subin/MOSTools/suno/cd44897b-028e-471d-b907-87a08d96269a_all_sep_svc_vocal.wav\n"
     ]
    },
    {
     "name": "stderr",
     "output_type": "stream",
     "text": [
      "47it [24:29, 33.12s/it]"
     ]
    },
    {
     "name": "stdout",
     "output_type": "stream",
     "text": [
      "/tmp/audio_gen/sample_tony_Wings and Wheels_all_sep_norm_norm.wav /data/dsmdla100sx0213/subin/MOSTools/udio/Wings and Wheels_all_sep_svc_vocal.wav\n",
      "/tmp/audio_gen/sample_airy_d9862fa8-583e-46bc-9c47-067b3eb41205_all_sep_norm_norm.wav /data/dsmdla100sx0213/subin/MOSTools/suno/d9862fa8-583e-46bc-9c47-067b3eb41205_all_sep_svc_vocal.wav\n"
     ]
    },
    {
     "name": "stderr",
     "output_type": "stream",
     "text": [
      "48it [24:53, 30.50s/it]"
     ]
    },
    {
     "name": "stdout",
     "output_type": "stream",
     "text": [
      "/tmp/audio_gen/sample_airy_New Horizons Ahead_all_sep_norm_norm.wav /data/dsmdla100sx0213/subin/MOSTools/udio/New Horizons Ahead_all_sep_svc_vocal.wav\n",
      "/tmp/audio_gen/sample_michaeljackson_ca056b05-5e8e-4397-895c-b039277f6d7b_all_sep_norm_norm.wav /data/dsmdla100sx0213/subin/MOSTools/suno/ca056b05-5e8e-4397-895c-b039277f6d7b_all_sep_svc_vocal.wav\n"
     ]
    },
    {
     "name": "stderr",
     "output_type": "stream",
     "text": [
      "49it [25:23, 30.34s/it]"
     ]
    },
    {
     "name": "stdout",
     "output_type": "stream",
     "text": [
      "/tmp/audio_gen/sample_michaeljackson_Waves of Solitude_all_sep_norm_norm.wav /data/dsmdla100sx0213/subin/MOSTools/udio/Waves of Solitude_all_sep_svc_vocal.wav\n",
      "/tmp/audio_gen/sample_anish_5dfc4b27-6f13-47ae-9820-9db4832fe1c4_all_sep_norm_norm.wav /data/dsmdla100sx0213/subin/MOSTools/suno/5dfc4b27-6f13-47ae-9820-9db4832fe1c4_all_sep_svc_vocal.wav\n"
     ]
    },
    {
     "name": "stderr",
     "output_type": "stream",
     "text": [
      "50it [25:54, 30.34s/it]"
     ]
    },
    {
     "name": "stdout",
     "output_type": "stream",
     "text": [
      "/tmp/audio_gen/sample_anish_A Cheeky Delight_all_sep_norm_norm.wav /data/dsmdla100sx0213/subin/MOSTools/udio/A Cheeky Delight_all_sep_svc_vocal.wav\n",
      "/tmp/audio_gen/sample_Ebenezer_0c8f934c-d99d-4e9a-b9e2-ecccfbc21bf4_all_sep_norm_norm.wav /data/dsmdla100sx0213/subin/MOSTools/suno/0c8f934c-d99d-4e9a-b9e2-ecccfbc21bf4_all_sep_svc_vocal.wav\n"
     ]
    },
    {
     "name": "stderr",
     "output_type": "stream",
     "text": [
      "51it [26:25, 30.68s/it]"
     ]
    },
    {
     "name": "stdout",
     "output_type": "stream",
     "text": [
      "/tmp/audio_gen/sample_Ebenezer_Woven Contradictions_all_sep_norm_norm.wav /data/dsmdla100sx0213/subin/MOSTools/udio/Woven Contradictions_all_sep_svc_vocal.wav\n",
      "/tmp/audio_gen/sample_eth_797baf50-6424-4253-bc8f-90a3f49b9d46_all_sep_norm_norm.wav /data/dsmdla100sx0213/subin/MOSTools/suno/797baf50-6424-4253-bc8f-90a3f49b9d46_all_sep_svc_vocal.wav\n"
     ]
    },
    {
     "name": "stderr",
     "output_type": "stream",
     "text": [
      "52it [26:56, 30.83s/it]"
     ]
    },
    {
     "name": "stdout",
     "output_type": "stream",
     "text": [
      "/tmp/audio_gen/sample_eth_A Better Life_all_sep_norm_norm.wav /data/dsmdla100sx0213/subin/MOSTools/udio/A Better Life_all_sep_svc_vocal.wav\n",
      "/tmp/audio_gen/sample_beatles_bb24c7e3-8db8-4ee0-a538-10db3071f858_all_sep_norm_norm.wav /data/dsmdla100sx0213/subin/MOSTools/suno/bb24c7e3-8db8-4ee0-a538-10db3071f858_all_sep_svc_vocal.wav\n"
     ]
    },
    {
     "name": "stderr",
     "output_type": "stream",
     "text": [
      "53it [27:29, 31.24s/it]"
     ]
    },
    {
     "name": "stdout",
     "output_type": "stream",
     "text": [
      "/tmp/audio_gen/sample_beatles_Unexpected Moments_all_sep_norm_norm.wav /data/dsmdla100sx0213/subin/MOSTools/udio/Unexpected Moments_all_sep_svc_vocal.wav\n",
      "/tmp/audio_gen/sample_tony_22600eb5-fe0f-4adf-8131-d3acefd482d9_all_sep_norm_norm.wav /data/dsmdla100sx0213/subin/MOSTools/suno/22600eb5-fe0f-4adf-8131-d3acefd482d9_all_sep_svc_vocal.wav\n"
     ]
    },
    {
     "name": "stderr",
     "output_type": "stream",
     "text": [
      "54it [28:03, 32.25s/it]"
     ]
    },
    {
     "name": "stdout",
     "output_type": "stream",
     "text": [
      "/tmp/audio_gen/sample_tony_Echoes of the Past_all_sep_norm_norm.wav /data/dsmdla100sx0213/subin/MOSTools/udio/Echoes of the Past_all_sep_svc_vocal.wav\n",
      "/tmp/audio_gen/sample_airy_92b628db-9dd5-40a1-aa3f-daea0c4cafd1_all_sep_norm_norm.wav /data/dsmdla100sx0213/subin/MOSTools/suno/92b628db-9dd5-40a1-aa3f-daea0c4cafd1_all_sep_svc_vocal.wav\n"
     ]
    },
    {
     "name": "stderr",
     "output_type": "stream",
     "text": [
      "55it [28:34, 31.97s/it]"
     ]
    },
    {
     "name": "stdout",
     "output_type": "stream",
     "text": [
      "/tmp/audio_gen/sample_airy_Whispers of a Dream_all_sep_norm_norm.wav /data/dsmdla100sx0213/subin/MOSTools/udio/Whispers of a Dream_all_sep_svc_vocal.wav\n",
      "/tmp/audio_gen/sample_michaeljackson_36075256-152f-4742-9399-9018873c3294_all_sep_norm_norm.wav /data/dsmdla100sx0213/subin/MOSTools/suno/36075256-152f-4742-9399-9018873c3294_all_sep_svc_vocal.wav\n"
     ]
    },
    {
     "name": "stderr",
     "output_type": "stream",
     "text": [
      "56it [29:03, 30.87s/it]"
     ]
    },
    {
     "name": "stdout",
     "output_type": "stream",
     "text": [
      "/tmp/audio_gen/sample_michaeljackson_Bittersweet Solitude_all_sep_norm_norm.wav /data/dsmdla100sx0213/subin/MOSTools/udio/Bittersweet Solitude_all_sep_svc_vocal.wav\n",
      "/tmp/audio_gen/sample_anish_b74c3964-5c06-4862-863c-ecf5ed287a9d_all_sep_norm_norm.wav /data/dsmdla100sx0213/subin/MOSTools/suno/b74c3964-5c06-4862-863c-ecf5ed287a9d_all_sep_svc_vocal.wav\n"
     ]
    },
    {
     "name": "stderr",
     "output_type": "stream",
     "text": [
      "57it [29:39, 32.51s/it]"
     ]
    },
    {
     "name": "stdout",
     "output_type": "stream",
     "text": [
      "/tmp/audio_gen/sample_anish_Igniting Desire_all_sep_norm_norm.wav /data/dsmdla100sx0213/subin/MOSTools/udio/Igniting Desire_all_sep_svc_vocal.wav\n",
      "/tmp/audio_gen/sample_Ebenezer_c24a60e2-92dc-4984-a7d8-ba0519fb8dae_all_sep_norm_norm.wav /data/dsmdla100sx0213/subin/MOSTools/suno/c24a60e2-92dc-4984-a7d8-ba0519fb8dae_all_sep_svc_vocal.wav\n"
     ]
    },
    {
     "name": "stderr",
     "output_type": "stream",
     "text": [
      "58it [30:09, 31.65s/it]"
     ]
    },
    {
     "name": "stdout",
     "output_type": "stream",
     "text": [
      "/tmp/audio_gen/sample_Ebenezer_Whispers of the Red Shed_all_sep_norm_norm.wav /data/dsmdla100sx0213/subin/MOSTools/udio/Whispers of the Red Shed_all_sep_svc_vocal.wav\n",
      "/tmp/audio_gen/sample_eth_71460a24-4323-4ff4-b3e1-702317ac5727_all_sep_norm_norm.wav /data/dsmdla100sx0213/subin/MOSTools/suno/71460a24-4323-4ff4-b3e1-702317ac5727_all_sep_svc_vocal.wav\n"
     ]
    },
    {
     "name": "stderr",
     "output_type": "stream",
     "text": [
      "59it [30:24, 26.72s/it]"
     ]
    },
    {
     "name": "stdout",
     "output_type": "stream",
     "text": [
      "/tmp/audio_gen/sample_eth_Through It All_all_sep_norm_norm.wav /data/dsmdla100sx0213/subin/MOSTools/udio/Through It All_all_sep_svc_vocal.wav\n",
      "/tmp/audio_gen/sample_beatles_05cab456-fe8d-4724-abe8-57534eca0c53_all_sep_norm_norm.wav /data/dsmdla100sx0213/subin/MOSTools/suno/05cab456-fe8d-4724-abe8-57534eca0c53_all_sep_svc_vocal.wav\n"
     ]
    },
    {
     "name": "stderr",
     "output_type": "stream",
     "text": [
      "60it [30:48, 26.03s/it]"
     ]
    },
    {
     "name": "stdout",
     "output_type": "stream",
     "text": [
      "/tmp/audio_gen/sample_beatles_Under One Roof_all_sep_norm_norm.wav /data/dsmdla100sx0213/subin/MOSTools/udio/Under One Roof_all_sep_svc_vocal.wav\n",
      "/tmp/audio_gen/sample_tony_a261f3cc-9b64-49b1-a915-d64716771704_all_sep_norm_norm.wav /data/dsmdla100sx0213/subin/MOSTools/suno/a261f3cc-9b64-49b1-a915-d64716771704_all_sep_svc_vocal.wav\n"
     ]
    },
    {
     "name": "stderr",
     "output_type": "stream",
     "text": [
      "61it [31:20, 27.59s/it]"
     ]
    },
    {
     "name": "stdout",
     "output_type": "stream",
     "text": [
      "/tmp/audio_gen/sample_tony_Endless Skies_all_sep_norm_norm.wav /data/dsmdla100sx0213/subin/MOSTools/udio/Endless Skies_all_sep_svc_vocal.wav\n",
      "/tmp/audio_gen/sample_airy_d27e8a24-50ae-492f-bed8-c4904ee4051c_all_sep_norm_norm.wav /data/dsmdla100sx0213/subin/MOSTools/suno/d27e8a24-50ae-492f-bed8-c4904ee4051c_all_sep_svc_vocal.wav\n"
     ]
    },
    {
     "name": "stderr",
     "output_type": "stream",
     "text": [
      "62it [31:53, 29.41s/it]"
     ]
    },
    {
     "name": "stdout",
     "output_type": "stream",
     "text": [
      "/tmp/audio_gen/sample_airy_Wandering Through Twilight_all_sep_norm_norm.wav /data/dsmdla100sx0213/subin/MOSTools/udio/Wandering Through Twilight_all_sep_svc_vocal.wav\n",
      "/tmp/audio_gen/sample_michaeljackson_293097eb-a88e-404d-8257-309ce6e5fce6_all_sep_norm_norm.wav /data/dsmdla100sx0213/subin/MOSTools/suno/293097eb-a88e-404d-8257-309ce6e5fce6_all_sep_svc_vocal.wav\n"
     ]
    },
    {
     "name": "stderr",
     "output_type": "stream",
     "text": [
      "63it [32:23, 29.55s/it]"
     ]
    },
    {
     "name": "stdout",
     "output_type": "stream",
     "text": [
      "/tmp/audio_gen/sample_michaeljackson_Fleeting Fantasies_all_sep_norm_norm.wav /data/dsmdla100sx0213/subin/MOSTools/udio/Fleeting Fantasies_all_sep_svc_vocal.wav\n",
      "/tmp/audio_gen/sample_anish_2240122f-f83c-4965-a12a-d8359bee9ac9_all_sep_norm_norm.wav /data/dsmdla100sx0213/subin/MOSTools/suno/2240122f-f83c-4965-a12a-d8359bee9ac9_all_sep_svc_vocal.wav\n"
     ]
    },
    {
     "name": "stderr",
     "output_type": "stream",
     "text": [
      "64it [32:50, 28.72s/it]"
     ]
    },
    {
     "name": "stdout",
     "output_type": "stream",
     "text": [
      "/tmp/audio_gen/sample_anish_Echoes of What Was_all_sep_norm_norm.wav /data/dsmdla100sx0213/subin/MOSTools/udio/Echoes of What Was_all_sep_svc_vocal.wav\n",
      "/tmp/audio_gen/sample_Ebenezer_5723d64d-f42a-493c-98a7-bbc0e6ba5bd6_all_sep_norm_norm.wav /data/dsmdla100sx0213/subin/MOSTools/suno/5723d64d-f42a-493c-98a7-bbc0e6ba5bd6_all_sep_svc_vocal.wav\n"
     ]
    },
    {
     "name": "stderr",
     "output_type": "stream",
     "text": [
      "65it [33:17, 28.30s/it]"
     ]
    },
    {
     "name": "stdout",
     "output_type": "stream",
     "text": [
      "/tmp/audio_gen/sample_Ebenezer_Beneath the Surface_all_sep_norm_norm.wav /data/dsmdla100sx0213/subin/MOSTools/udio/Beneath the Surface_all_sep_svc_vocal.wav\n",
      "/tmp/audio_gen/sample_eth_7f2e2e73-69a3-44ab-be24-f09646376a83_all_sep_norm_norm.wav /data/dsmdla100sx0213/subin/MOSTools/suno/7f2e2e73-69a3-44ab-be24-f09646376a83_all_sep_svc_vocal.wav\n"
     ]
    },
    {
     "name": "stderr",
     "output_type": "stream",
     "text": [
      "66it [33:47, 28.87s/it]"
     ]
    },
    {
     "name": "stdout",
     "output_type": "stream",
     "text": [
      "/tmp/audio_gen/sample_eth_Echoes of Journeys_all_sep_norm_norm.wav /data/dsmdla100sx0213/subin/MOSTools/udio/Echoes of Journeys_all_sep_svc_vocal.wav\n",
      "/tmp/audio_gen/sample_beatles_3463cc83-6ec8-4c1e-bec7-a507c8127feb_all_sep_norm_norm.wav /data/dsmdla100sx0213/subin/MOSTools/suno/3463cc83-6ec8-4c1e-bec7-a507c8127feb_all_sep_svc_vocal.wav\n"
     ]
    },
    {
     "name": "stderr",
     "output_type": "stream",
     "text": [
      "67it [34:15, 28.43s/it]"
     ]
    },
    {
     "name": "stdout",
     "output_type": "stream",
     "text": [
      "/tmp/audio_gen/sample_beatles_Whispers in the Pond_all_sep_norm_norm.wav /data/dsmdla100sx0213/subin/MOSTools/udio/Whispers in the Pond_all_sep_svc_vocal.wav\n",
      "/tmp/audio_gen/sample_tony_025d1cfe-fb42-4412-b48a-cfd4a0df92f2_all_sep_norm_norm.wav /data/dsmdla100sx0213/subin/MOSTools/suno/025d1cfe-fb42-4412-b48a-cfd4a0df92f2_all_sep_svc_vocal.wav\n"
     ]
    },
    {
     "name": "stderr",
     "output_type": "stream",
     "text": [
      "68it [34:42, 28.14s/it]"
     ]
    },
    {
     "name": "stdout",
     "output_type": "stream",
     "text": [
      "/tmp/audio_gen/sample_tony_Fragments of Truth_all_sep_norm_norm.wav /data/dsmdla100sx0213/subin/MOSTools/udio/Fragments of Truth_all_sep_svc_vocal.wav\n",
      "/tmp/audio_gen/sample_airy_4bfae760-5e17-4bf1-ad08-3378d48c1d03_all_sep_norm_norm.wav /data/dsmdla100sx0213/subin/MOSTools/suno/4bfae760-5e17-4bf1-ad08-3378d48c1d03_all_sep_svc_vocal.wav\n"
     ]
    },
    {
     "name": "stderr",
     "output_type": "stream",
     "text": [
      "69it [35:21, 30.75s/it]"
     ]
    },
    {
     "name": "stdout",
     "output_type": "stream",
     "text": [
      "/tmp/audio_gen/sample_airy_Whispers of the Past_all_sep_norm_norm.wav /data/dsmdla100sx0213/subin/MOSTools/udio/Whispers of the Past_all_sep_svc_vocal.wav\n"
     ]
    },
    {
     "name": "stderr",
     "output_type": "stream",
     "text": [
      "\n"
     ]
    }
   ],
   "source": [
    "import requests\n",
    "import os\n",
    "def generate(prompt,source,acc):\n",
    "    source=source.absolute()\n",
    "    acc=acc.absolute()\n",
    "    query = {\n",
    "        \"prompt_auido\": str(prompt),\n",
    "        \"source_audio\": str(source.absolute()),\n",
    "        \"acc_audio\": str(acc.absolute()),\n",
    "        \"shift\": \"auto\",\n",
    "        \"model_path\": \"/data/dsmdla100sx0213/subin/wospeech/outputs/xps/e11594b7/checkpoint.th\"\n",
    "    }\n",
    "    # print(query)\n",
    "    resp=requests.post(\"http://216.81.245.60:8001/\",json=query)\n",
    "    # print(resp)\n",
    "    vocal = resp.json()[\"vocal\"]\n",
    "    song = resp.json()[\"song\"]\n",
    "    \n",
    "    refine_query = {\n",
    "        \"audio_path\": vocal\n",
    "    }\n",
    "    resp = requests.post(\"http://216.81.245.60:8000\", json=refine_query)\n",
    "    refine_vocal_fp = resp.content.decode()\n",
    "    \n",
    "    refine_query = {\n",
    "        \"audio_path\": song\n",
    "    }\n",
    "    resp = requests.post(\"http://216.81.245.60:8000\", json=refine_query)\n",
    "    refine_song_fp = resp.content.decode()\n",
    "\n",
    "    svc_vocal_name=source.with_stem(source.stem+\"_svc_vocal\")\n",
    "    \n",
    "    refine_svc_vocal_name=source.with_stem(source.stem+\"_svc_vocal_refine\")\n",
    "    svc_song_name=source.with_stem(source.stem+\"_svc_song\")\n",
    "    refine_svc_song_name=source.with_stem(source.stem+\"_svc_song_refine\")\n",
    "    print(vocal,svc_vocal_name)\n",
    "    os.system(f\"cp '{vocal}' '{svc_vocal_name}'\")\n",
    "    os.system(f\"cp '{song}' '{svc_song_name}'\")\n",
    "    os.system(f\"cp '{refine_vocal_fp}' '{refine_svc_vocal_name}'\")\n",
    "    os.system(f\"cp '{refine_song_fp}' '{refine_svc_song_name}'\")\n",
    "\n",
    "from tqdm import tqdm\n",
    "for prompt,s1,s2 in tqdm(zip(cycle(prompt_files),suno,udio)):\n",
    "    generate(prompt,s1[0],s1[1])\n",
    "    generate(prompt,s2[0],s2[1])\n",
    "    # print(prompt,suno,udio)"
   ]
  },
  {
   "cell_type": "code",
   "execution_count": 84,
   "id": "cb67995a-c560-4b7f-90a1-ed1fb0ece31b",
   "metadata": {},
   "outputs": [
    {
     "name": "stderr",
     "output_type": "stream",
     "text": [
      "69it [00:00, 29265.55it/s]\n"
     ]
    },
    {
     "data": {
      "text/plain": [
       "[['suno/10f213f1-d719-41fc-bba9-28ebe199a2e3.mp3',\n",
       "  'suno/10f213f1-d719-41fc-bba9-28ebe199a2e3_all_sep_svc_song.wav',\n",
       "  'suno/10f213f1-d719-41fc-bba9-28ebe199a2e3_all_sep_svc_song_refine.wav',\n",
       "  'udio/Chasing Magic.mp3',\n",
       "  'udio/Chasing Magic_all_sep_svc_song.wav',\n",
       "  'udio/Chasing Magic_all_sep_svc_song_refine.wav'],\n",
       " ['suno/0f249990-d2a0-4e1f-b7ab-8fde3c924d45.mp3',\n",
       "  'suno/0f249990-d2a0-4e1f-b7ab-8fde3c924d45_all_sep_svc_song.wav',\n",
       "  'suno/0f249990-d2a0-4e1f-b7ab-8fde3c924d45_all_sep_svc_song_refine.wav',\n",
       "  'udio/Behind the Mask.mp3',\n",
       "  'udio/Behind the Mask_all_sep_svc_song.wav',\n",
       "  'udio/Behind the Mask_all_sep_svc_song_refine.wav'],\n",
       " ['suno/365ea0d6-ab2c-4787-85f0-1349750f8c79.mp3',\n",
       "  'suno/365ea0d6-ab2c-4787-85f0-1349750f8c79_all_sep_svc_song.wav',\n",
       "  'suno/365ea0d6-ab2c-4787-85f0-1349750f8c79_all_sep_svc_song_refine.wav',\n",
       "  'udio/Chasing the Light.mp3',\n",
       "  'udio/Chasing the Light_all_sep_svc_song.wav',\n",
       "  'udio/Chasing the Light_all_sep_svc_song_refine.wav'],\n",
       " ['suno/0821da0e-6966-48ed-b88b-d3ae623206f8.mp3',\n",
       "  'suno/0821da0e-6966-48ed-b88b-d3ae623206f8_all_sep_svc_song.wav',\n",
       "  'suno/0821da0e-6966-48ed-b88b-d3ae623206f8_all_sep_svc_song_refine.wav',\n",
       "  'udio/Cycle of Shadows.mp3',\n",
       "  'udio/Cycle of Shadows_all_sep_svc_song.wav',\n",
       "  'udio/Cycle of Shadows_all_sep_svc_song_refine.wav'],\n",
       " ['suno/acffa5e5-8169-450e-b93f-7d24c55d4b93.mp3',\n",
       "  'suno/acffa5e5-8169-450e-b93f-7d24c55d4b93_all_sep_svc_song.wav',\n",
       "  'suno/acffa5e5-8169-450e-b93f-7d24c55d4b93_all_sep_svc_song_refine.wav',\n",
       "  'udio/Journey to Clarity.mp3',\n",
       "  'udio/Journey to Clarity_all_sep_svc_song.wav',\n",
       "  'udio/Journey to Clarity_all_sep_svc_song_refine.wav'],\n",
       " ['suno/4b6e9f89-46a7-4cce-bad8-67cfb98a3909.mp3',\n",
       "  'suno/4b6e9f89-46a7-4cce-bad8-67cfb98a3909_all_sep_svc_song.wav',\n",
       "  'suno/4b6e9f89-46a7-4cce-bad8-67cfb98a3909_all_sep_svc_song_refine.wav',\n",
       "  'udio/Whispers in the Fog.mp3',\n",
       "  'udio/Whispers in the Fog_all_sep_svc_song.wav',\n",
       "  'udio/Whispers in the Fog_all_sep_svc_song_refine.wav'],\n",
       " ['suno/de0d5e3f-d2fd-4fd8-866a-7c1061b5b63a.mp3',\n",
       "  'suno/de0d5e3f-d2fd-4fd8-866a-7c1061b5b63a_all_sep_svc_song.wav',\n",
       "  'suno/de0d5e3f-d2fd-4fd8-866a-7c1061b5b63a_all_sep_svc_song_refine.wav',\n",
       "  'udio/Through the Vines.mp3',\n",
       "  'udio/Through the Vines_all_sep_svc_song.wav',\n",
       "  'udio/Through the Vines_all_sep_svc_song_refine.wav'],\n",
       " ['suno/1b2a31e3-5a75-481b-82fc-ab9e3087fbee.mp3',\n",
       "  'suno/1b2a31e3-5a75-481b-82fc-ab9e3087fbee_all_sep_svc_song.wav',\n",
       "  'suno/1b2a31e3-5a75-481b-82fc-ab9e3087fbee_all_sep_svc_song_refine.wav',\n",
       "  'udio/Until We Find the Reason.mp3',\n",
       "  'udio/Until We Find the Reason_all_sep_svc_song.wav',\n",
       "  'udio/Until We Find the Reason_all_sep_svc_song_refine.wav'],\n",
       " ['suno/315e1ec8-9844-4967-819d-ba36f484f5b3.mp3',\n",
       "  'suno/315e1ec8-9844-4967-819d-ba36f484f5b3_all_sep_svc_song.wav',\n",
       "  'suno/315e1ec8-9844-4967-819d-ba36f484f5b3_all_sep_svc_song_refine.wav',\n",
       "  'udio/The Essence of Change.mp3',\n",
       "  'udio/The Essence of Change_all_sep_svc_song.wav',\n",
       "  'udio/The Essence of Change_all_sep_svc_song_refine.wav'],\n",
       " ['suno/9bc57280-a41d-427f-9b80-e7c4cc54a84a.mp3',\n",
       "  'suno/9bc57280-a41d-427f-9b80-e7c4cc54a84a_all_sep_svc_song.wav',\n",
       "  'suno/9bc57280-a41d-427f-9b80-e7c4cc54a84a_all_sep_svc_song_refine.wav',\n",
       "  'udio/Moments of Bliss.mp3',\n",
       "  'udio/Moments of Bliss_all_sep_svc_song.wav',\n",
       "  'udio/Moments of Bliss_all_sep_svc_song_refine.wav'],\n",
       " ['suno/765565a9-0b79-4b7b-8d20-a1470321ef78.mp3',\n",
       "  'suno/765565a9-0b79-4b7b-8d20-a1470321ef78_all_sep_svc_song.wav',\n",
       "  'suno/765565a9-0b79-4b7b-8d20-a1470321ef78_all_sep_svc_song_refine.wav',\n",
       "  'udio/Shadows of Steel.mp3',\n",
       "  'udio/Shadows of Steel_all_sep_svc_song.wav',\n",
       "  'udio/Shadows of Steel_all_sep_svc_song_refine.wav'],\n",
       " ['suno/c00621ce-f943-44db-bed1-49c8144a0237.mp3',\n",
       "  'suno/c00621ce-f943-44db-bed1-49c8144a0237_all_sep_svc_song.wav',\n",
       "  'suno/c00621ce-f943-44db-bed1-49c8144a0237_all_sep_svc_song_refine.wav',\n",
       "  'udio/The Cost of Convenience.mp3',\n",
       "  'udio/The Cost of Convenience_all_sep_svc_song.wav',\n",
       "  'udio/The Cost of Convenience_all_sep_svc_song_refine.wav'],\n",
       " ['suno/2ababd61-81cb-4acc-a1f6-8f9ce6368bdf.mp3',\n",
       "  'suno/2ababd61-81cb-4acc-a1f6-8f9ce6368bdf_all_sep_svc_song.wav',\n",
       "  'suno/2ababd61-81cb-4acc-a1f6-8f9ce6368bdf_all_sep_svc_song_refine.wav',\n",
       "  'udio/Awakening from Darkness.mp3',\n",
       "  'udio/Awakening from Darkness_all_sep_svc_song.wav',\n",
       "  'udio/Awakening from Darkness_all_sep_svc_song_refine.wav'],\n",
       " ['suno/327a9387-8a66-46b2-9bd0-a64379a94626.mp3',\n",
       "  'suno/327a9387-8a66-46b2-9bd0-a64379a94626_all_sep_svc_song.wav',\n",
       "  'suno/327a9387-8a66-46b2-9bd0-a64379a94626_all_sep_svc_song_refine.wav',\n",
       "  'udio/Unity in Diversity.mp3',\n",
       "  'udio/Unity in Diversity_all_sep_svc_song.wav',\n",
       "  'udio/Unity in Diversity_all_sep_svc_song_refine.wav'],\n",
       " ['suno/35df3d15-a891-49b5-8216-5ba35b5f051f.mp3',\n",
       "  'suno/35df3d15-a891-49b5-8216-5ba35b5f051f_all_sep_svc_song.wav',\n",
       "  'suno/35df3d15-a891-49b5-8216-5ba35b5f051f_all_sep_svc_song_refine.wav',\n",
       "  'udio/Flavor of Love.mp3',\n",
       "  'udio/Flavor of Love_all_sep_svc_song.wav',\n",
       "  'udio/Flavor of Love_all_sep_svc_song_refine.wav'],\n",
       " ['suno/48f1e32a-c5c1-4730-9f01-b2fcc2fafe30.mp3',\n",
       "  'suno/48f1e32a-c5c1-4730-9f01-b2fcc2fafe30_all_sep_svc_song.wav',\n",
       "  'suno/48f1e32a-c5c1-4730-9f01-b2fcc2fafe30_all_sep_svc_song_refine.wav',\n",
       "  'udio/Veil of Doubt.mp3',\n",
       "  'udio/Veil of Doubt_all_sep_svc_song.wav',\n",
       "  'udio/Veil of Doubt_all_sep_svc_song_refine.wav'],\n",
       " ['suno/4d8cd4be-86b3-415c-b8fd-0e722c77e2b9.mp3',\n",
       "  'suno/4d8cd4be-86b3-415c-b8fd-0e722c77e2b9_all_sep_svc_song.wav',\n",
       "  'suno/4d8cd4be-86b3-415c-b8fd-0e722c77e2b9_all_sep_svc_song_refine.wav',\n",
       "  'udio/Neon Dreams and Tender Hues.mp3',\n",
       "  'udio/Neon Dreams and Tender Hues_all_sep_svc_song.wav',\n",
       "  'udio/Neon Dreams and Tender Hues_all_sep_svc_song_refine.wav'],\n",
       " ['suno/c933c937-a95b-4378-a14c-21d8dee79550.mp3',\n",
       "  'suno/c933c937-a95b-4378-a14c-21d8dee79550_all_sep_svc_song.wav',\n",
       "  'suno/c933c937-a95b-4378-a14c-21d8dee79550_all_sep_svc_song_refine.wav',\n",
       "  'udio/Letting Go of Childhood.mp3',\n",
       "  'udio/Letting Go of Childhood_all_sep_svc_song.wav',\n",
       "  'udio/Letting Go of Childhood_all_sep_svc_song_refine.wav'],\n",
       " ['suno/e6d94f21-a228-4f30-8a81-aaf2058e1a94.mp3',\n",
       "  'suno/e6d94f21-a228-4f30-8a81-aaf2058e1a94_all_sep_svc_song.wav',\n",
       "  'suno/e6d94f21-a228-4f30-8a81-aaf2058e1a94_all_sep_svc_song_refine.wav',\n",
       "  'udio/Embrace of Shadows.mp3',\n",
       "  'udio/Embrace of Shadows_all_sep_svc_song.wav',\n",
       "  'udio/Embrace of Shadows_all_sep_svc_song_refine.wav'],\n",
       " ['suno/c4aa2b3a-b94d-4295-ac92-edddc62d1aae.mp3',\n",
       "  'suno/c4aa2b3a-b94d-4295-ac92-edddc62d1aae_all_sep_svc_song.wav',\n",
       "  'suno/c4aa2b3a-b94d-4295-ac92-edddc62d1aae_all_sep_svc_song_refine.wav',\n",
       "  'udio/Lessons in Reflection.mp3',\n",
       "  'udio/Lessons in Reflection_all_sep_svc_song.wav',\n",
       "  'udio/Lessons in Reflection_all_sep_svc_song_refine.wav'],\n",
       " ['suno/50a03c63-c1a4-4847-908b-79a2bb546f9e.mp3',\n",
       "  'suno/50a03c63-c1a4-4847-908b-79a2bb546f9e_all_sep_svc_song.wav',\n",
       "  'suno/50a03c63-c1a4-4847-908b-79a2bb546f9e_all_sep_svc_song_refine.wav',\n",
       "  'udio/Moments of Bravery.mp3',\n",
       "  'udio/Moments of Bravery_all_sep_svc_song.wav',\n",
       "  'udio/Moments of Bravery_all_sep_svc_song_refine.wav'],\n",
       " ['suno/9f7781c0-86ad-4f15-b25e-aaffe1b4af79.mp3',\n",
       "  'suno/9f7781c0-86ad-4f15-b25e-aaffe1b4af79_all_sep_svc_song.wav',\n",
       "  'suno/9f7781c0-86ad-4f15-b25e-aaffe1b4af79_all_sep_svc_song_refine.wav',\n",
       "  'udio/Chasing Heartache.mp3',\n",
       "  'udio/Chasing Heartache_all_sep_svc_song.wav',\n",
       "  'udio/Chasing Heartache_all_sep_svc_song_refine.wav'],\n",
       " ['suno/6164a646-c256-4d09-9e27-3d19112989fa.mp3',\n",
       "  'suno/6164a646-c256-4d09-9e27-3d19112989fa_all_sep_svc_song.wav',\n",
       "  'suno/6164a646-c256-4d09-9e27-3d19112989fa_all_sep_svc_song_refine.wav',\n",
       "  'udio/What Lies Beneath.mp3',\n",
       "  'udio/What Lies Beneath_all_sep_svc_song.wav',\n",
       "  'udio/What Lies Beneath_all_sep_svc_song_refine.wav'],\n",
       " ['suno/2896a364-1936-4048-b622-361eb017bbef.mp3',\n",
       "  'suno/2896a364-1936-4048-b622-361eb017bbef_all_sep_svc_song.wav',\n",
       "  'suno/2896a364-1936-4048-b622-361eb017bbef_all_sep_svc_song_refine.wav',\n",
       "  'udio/Tangled Lessons.mp3',\n",
       "  'udio/Tangled Lessons_all_sep_svc_song.wav',\n",
       "  'udio/Tangled Lessons_all_sep_svc_song_refine.wav'],\n",
       " ['suno/7c6d5ccd-5970-4748-8bfc-5358f36b7a75.mp3',\n",
       "  'suno/7c6d5ccd-5970-4748-8bfc-5358f36b7a75_all_sep_svc_song.wav',\n",
       "  'suno/7c6d5ccd-5970-4748-8bfc-5358f36b7a75_all_sep_svc_song_refine.wav',\n",
       "  'udio/Embracing the Unadorned.mp3',\n",
       "  'udio/Embracing the Unadorned_all_sep_svc_song.wav',\n",
       "  'udio/Embracing the Unadorned_all_sep_svc_song_refine.wav'],\n",
       " ['suno/56286cb6-d4c5-4700-88b6-02e6cc65a4f9.mp3',\n",
       "  'suno/56286cb6-d4c5-4700-88b6-02e6cc65a4f9_all_sep_svc_song.wav',\n",
       "  'suno/56286cb6-d4c5-4700-88b6-02e6cc65a4f9_all_sep_svc_song_refine.wav',\n",
       "  'udio/Moments of Light.mp3',\n",
       "  'udio/Moments of Light_all_sep_svc_song.wav',\n",
       "  'udio/Moments of Light_all_sep_svc_song_refine.wav'],\n",
       " ['suno/6ee70df5-d40b-4d4e-9da2-98a501205558.mp3',\n",
       "  'suno/6ee70df5-d40b-4d4e-9da2-98a501205558_all_sep_svc_song.wav',\n",
       "  'suno/6ee70df5-d40b-4d4e-9da2-98a501205558_all_sep_svc_song_refine.wav',\n",
       "  'udio/Torn Between Two Worlds.mp3',\n",
       "  'udio/Torn Between Two Worlds_all_sep_svc_song.wav',\n",
       "  'udio/Torn Between Two Worlds_all_sep_svc_song_refine.wav'],\n",
       " ['suno/dfc863d1-512a-4ffd-a0b5-6b6cad2e9dcc.mp3',\n",
       "  'suno/dfc863d1-512a-4ffd-a0b5-6b6cad2e9dcc_all_sep_svc_song.wav',\n",
       "  'suno/dfc863d1-512a-4ffd-a0b5-6b6cad2e9dcc_all_sep_svc_song_refine.wav',\n",
       "  'udio/Dreams in the Desert.mp3',\n",
       "  'udio/Dreams in the Desert_all_sep_svc_song.wav',\n",
       "  'udio/Dreams in the Desert_all_sep_svc_song_refine.wav'],\n",
       " ['suno/391a2a6f-0cff-48cd-b57d-7023fc0521f4.mp3',\n",
       "  'suno/391a2a6f-0cff-48cd-b57d-7023fc0521f4_all_sep_svc_song.wav',\n",
       "  'suno/391a2a6f-0cff-48cd-b57d-7023fc0521f4_all_sep_svc_song_refine.wav',\n",
       "  'udio/Into the Wild.mp3',\n",
       "  'udio/Into the Wild_all_sep_svc_song.wav',\n",
       "  'udio/Into the Wild_all_sep_svc_song_refine.wav'],\n",
       " ['suno/b99fd038-0ce8-4d22-ae8e-eea6c8b337f7.mp3',\n",
       "  'suno/b99fd038-0ce8-4d22-ae8e-eea6c8b337f7_all_sep_svc_song.wav',\n",
       "  'suno/b99fd038-0ce8-4d22-ae8e-eea6c8b337f7_all_sep_svc_song_refine.wav',\n",
       "  'udio/Echoes of Desolation.mp3',\n",
       "  'udio/Echoes of Desolation_all_sep_svc_song.wav',\n",
       "  'udio/Echoes of Desolation_all_sep_svc_song_refine.wav'],\n",
       " ['suno/f3f61ff0-9ee6-4dbb-a9b3-a071b189e552.mp3',\n",
       "  'suno/f3f61ff0-9ee6-4dbb-a9b3-a071b189e552_all_sep_svc_song.wav',\n",
       "  'suno/f3f61ff0-9ee6-4dbb-a9b3-a071b189e552_all_sep_svc_song_refine.wav',\n",
       "  'udio/Chasing the Stars.mp3',\n",
       "  'udio/Chasing the Stars_all_sep_svc_song.wav',\n",
       "  'udio/Chasing the Stars_all_sep_svc_song_refine.wav'],\n",
       " ['suno/51e44bc2-ea3a-4499-b70f-c36750864556.mp3',\n",
       "  'suno/51e44bc2-ea3a-4499-b70f-c36750864556_all_sep_svc_song.wav',\n",
       "  'suno/51e44bc2-ea3a-4499-b70f-c36750864556_all_sep_svc_song_refine.wav',\n",
       "  'udio/Together We Rise.mp3',\n",
       "  'udio/Together We Rise_all_sep_svc_song.wav',\n",
       "  'udio/Together We Rise_all_sep_svc_song_refine.wav'],\n",
       " ['suno/ecd2191f-e9fa-4123-9105-f8a6c52ee3b6.mp3',\n",
       "  'suno/ecd2191f-e9fa-4123-9105-f8a6c52ee3b6_all_sep_svc_song.wav',\n",
       "  'suno/ecd2191f-e9fa-4123-9105-f8a6c52ee3b6_all_sep_svc_song_refine.wav',\n",
       "  'udio/Strange Kind of World.mp3',\n",
       "  'udio/Strange Kind of World_all_sep_svc_song.wav',\n",
       "  'udio/Strange Kind of World_all_sep_svc_song_refine.wav'],\n",
       " ['suno/6ab155ea-2d8a-49ec-a396-d7fbb0ca6203.mp3',\n",
       "  'suno/6ab155ea-2d8a-49ec-a396-d7fbb0ca6203_all_sep_svc_song.wav',\n",
       "  'suno/6ab155ea-2d8a-49ec-a396-d7fbb0ca6203_all_sep_svc_song_refine.wav',\n",
       "  'udio/Through the Storm.mp3',\n",
       "  'udio/Through the Storm_all_sep_svc_song.wav',\n",
       "  'udio/Through the Storm_all_sep_svc_song_refine.wav'],\n",
       " ['suno/b8faf760-e0ec-4b02-add8-e2c052693149.mp3',\n",
       "  'suno/b8faf760-e0ec-4b02-add8-e2c052693149_all_sep_svc_song.wav',\n",
       "  'suno/b8faf760-e0ec-4b02-add8-e2c052693149_all_sep_svc_song_refine.wav',\n",
       "  'udio/Masks of Illusion.mp3',\n",
       "  'udio/Masks of Illusion_all_sep_svc_song.wav',\n",
       "  'udio/Masks of Illusion_all_sep_svc_song_refine.wav'],\n",
       " ['suno/fc4cbe97-3194-4865-9fd9-fc87feb6a7f8.mp3',\n",
       "  'suno/fc4cbe97-3194-4865-9fd9-fc87feb6a7f8_all_sep_svc_song.wav',\n",
       "  'suno/fc4cbe97-3194-4865-9fd9-fc87feb6a7f8_all_sep_svc_song_refine.wav',\n",
       "  'udio/Edge of Bliss.mp3',\n",
       "  'udio/Edge of Bliss_all_sep_svc_song.wav',\n",
       "  'udio/Edge of Bliss_all_sep_svc_song_refine.wav'],\n",
       " ['suno/e50efffc-13e5-4c27-a18b-b55337fdf72b.mp3',\n",
       "  'suno/e50efffc-13e5-4c27-a18b-b55337fdf72b_all_sep_svc_song.wav',\n",
       "  'suno/e50efffc-13e5-4c27-a18b-b55337fdf72b_all_sep_svc_song_refine.wav',\n",
       "  'udio/Moments of Choice.mp3',\n",
       "  'udio/Moments of Choice_all_sep_svc_song.wav',\n",
       "  'udio/Moments of Choice_all_sep_svc_song_refine.wav'],\n",
       " ['suno/19e50170-5ca1-416c-a28d-40b439d1e77f.mp3',\n",
       "  'suno/19e50170-5ca1-416c-a28d-40b439d1e77f_all_sep_svc_song.wav',\n",
       "  'suno/19e50170-5ca1-416c-a28d-40b439d1e77f_all_sep_svc_song_refine.wav',\n",
       "  'udio/Diamonds in the Dark.mp3',\n",
       "  'udio/Diamonds in the Dark_all_sep_svc_song.wav',\n",
       "  'udio/Diamonds in the Dark_all_sep_svc_song_refine.wav'],\n",
       " ['suno/682b83c5-0e67-4c71-99a9-67bf2a2e973b.mp3',\n",
       "  'suno/682b83c5-0e67-4c71-99a9-67bf2a2e973b_all_sep_svc_song.wav',\n",
       "  'suno/682b83c5-0e67-4c71-99a9-67bf2a2e973b_all_sep_svc_song_refine.wav',\n",
       "  'udio/Mirages at the Shore.mp3',\n",
       "  'udio/Mirages at the Shore_all_sep_svc_song.wav',\n",
       "  'udio/Mirages at the Shore_all_sep_svc_song_refine.wav'],\n",
       " ['suno/61d752fa-9a38-4220-9def-102d7cb9b8de.mp3',\n",
       "  'suno/61d752fa-9a38-4220-9def-102d7cb9b8de_all_sep_svc_song.wav',\n",
       "  'suno/61d752fa-9a38-4220-9def-102d7cb9b8de_all_sep_svc_song_refine.wav',\n",
       "  'udio/A Gentle Glow.mp3',\n",
       "  'udio/A Gentle Glow_all_sep_svc_song.wav',\n",
       "  'udio/A Gentle Glow_all_sep_svc_song_refine.wav'],\n",
       " ['suno/c81fecf6-09c8-4748-b04d-c9c8628cf178.mp3',\n",
       "  'suno/c81fecf6-09c8-4748-b04d-c9c8628cf178_all_sep_svc_song.wav',\n",
       "  'suno/c81fecf6-09c8-4748-b04d-c9c8628cf178_all_sep_svc_song_refine.wav',\n",
       "  'udio/Finding a Better Road.mp3',\n",
       "  'udio/Finding a Better Road_all_sep_svc_song.wav',\n",
       "  'udio/Finding a Better Road_all_sep_svc_song_refine.wav'],\n",
       " ['suno/a7511a64-ade4-4d41-af52-351a5103c61f.mp3',\n",
       "  'suno/a7511a64-ade4-4d41-af52-351a5103c61f_all_sep_svc_song.wav',\n",
       "  'suno/a7511a64-ade4-4d41-af52-351a5103c61f_all_sep_svc_song_refine.wav',\n",
       "  'udio/Masquerade of Truth.mp3',\n",
       "  'udio/Masquerade of Truth_all_sep_svc_song.wav',\n",
       "  'udio/Masquerade of Truth_all_sep_svc_song_refine.wav'],\n",
       " ['suno/61780159-0569-4f12-a983-d50c964eb4ae.mp3',\n",
       "  'suno/61780159-0569-4f12-a983-d50c964eb4ae_all_sep_svc_song.wav',\n",
       "  'suno/61780159-0569-4f12-a983-d50c964eb4ae_all_sep_svc_song_refine.wav',\n",
       "  'udio/Whispers in the Shadows.mp3',\n",
       "  'udio/Whispers in the Shadows_all_sep_svc_song.wav',\n",
       "  'udio/Whispers in the Shadows_all_sep_svc_song_refine.wav'],\n",
       " ['suno/b93d5bb3-3dcc-4709-bd81-f7a4a94e4351.mp3',\n",
       "  'suno/b93d5bb3-3dcc-4709-bd81-f7a4a94e4351_all_sep_svc_song.wav',\n",
       "  'suno/b93d5bb3-3dcc-4709-bd81-f7a4a94e4351_all_sep_svc_song_refine.wav',\n",
       "  'udio/Stormy Embrace.mp3',\n",
       "  'udio/Stormy Embrace_all_sep_svc_song.wav',\n",
       "  'udio/Stormy Embrace_all_sep_svc_song_refine.wav'],\n",
       " ['suno/56140736-5da6-4686-be6a-eecff9fc932c.mp3',\n",
       "  'suno/56140736-5da6-4686-be6a-eecff9fc932c_all_sep_svc_song.wav',\n",
       "  'suno/56140736-5da6-4686-be6a-eecff9fc932c_all_sep_svc_song_refine.wav',\n",
       "  'udio/Silent Fortitude.mp3',\n",
       "  'udio/Silent Fortitude_all_sep_svc_song.wav',\n",
       "  'udio/Silent Fortitude_all_sep_svc_song_refine.wav'],\n",
       " ['suno/0a52af2e-7933-4e42-8734-1cbccef17755.mp3',\n",
       "  'suno/0a52af2e-7933-4e42-8734-1cbccef17755_all_sep_svc_song.wav',\n",
       "  'suno/0a52af2e-7933-4e42-8734-1cbccef17755_all_sep_svc_song_refine.wav',\n",
       "  'udio/Current of Belonging.mp3',\n",
       "  'udio/Current of Belonging_all_sep_svc_song.wav',\n",
       "  'udio/Current of Belonging_all_sep_svc_song_refine.wav'],\n",
       " ['suno/cd44897b-028e-471d-b907-87a08d96269a.mp3',\n",
       "  'suno/cd44897b-028e-471d-b907-87a08d96269a_all_sep_svc_song.wav',\n",
       "  'suno/cd44897b-028e-471d-b907-87a08d96269a_all_sep_svc_song_refine.wav',\n",
       "  'udio/Wings and Wheels.mp3',\n",
       "  'udio/Wings and Wheels_all_sep_svc_song.wav',\n",
       "  'udio/Wings and Wheels_all_sep_svc_song_refine.wav'],\n",
       " ['suno/d9862fa8-583e-46bc-9c47-067b3eb41205.mp3',\n",
       "  'suno/d9862fa8-583e-46bc-9c47-067b3eb41205_all_sep_svc_song.wav',\n",
       "  'suno/d9862fa8-583e-46bc-9c47-067b3eb41205_all_sep_svc_song_refine.wav',\n",
       "  'udio/New Horizons Ahead.mp3',\n",
       "  'udio/New Horizons Ahead_all_sep_svc_song.wav',\n",
       "  'udio/New Horizons Ahead_all_sep_svc_song_refine.wav'],\n",
       " ['suno/ca056b05-5e8e-4397-895c-b039277f6d7b.mp3',\n",
       "  'suno/ca056b05-5e8e-4397-895c-b039277f6d7b_all_sep_svc_song.wav',\n",
       "  'suno/ca056b05-5e8e-4397-895c-b039277f6d7b_all_sep_svc_song_refine.wav',\n",
       "  'udio/Waves of Solitude.mp3',\n",
       "  'udio/Waves of Solitude_all_sep_svc_song.wav',\n",
       "  'udio/Waves of Solitude_all_sep_svc_song_refine.wav'],\n",
       " ['suno/5dfc4b27-6f13-47ae-9820-9db4832fe1c4.mp3',\n",
       "  'suno/5dfc4b27-6f13-47ae-9820-9db4832fe1c4_all_sep_svc_song.wav',\n",
       "  'suno/5dfc4b27-6f13-47ae-9820-9db4832fe1c4_all_sep_svc_song_refine.wav',\n",
       "  'udio/A Cheeky Delight.mp3',\n",
       "  'udio/A Cheeky Delight_all_sep_svc_song.wav',\n",
       "  'udio/A Cheeky Delight_all_sep_svc_song_refine.wav'],\n",
       " ['suno/0c8f934c-d99d-4e9a-b9e2-ecccfbc21bf4.mp3',\n",
       "  'suno/0c8f934c-d99d-4e9a-b9e2-ecccfbc21bf4_all_sep_svc_song.wav',\n",
       "  'suno/0c8f934c-d99d-4e9a-b9e2-ecccfbc21bf4_all_sep_svc_song_refine.wav',\n",
       "  'udio/Woven Contradictions.mp3',\n",
       "  'udio/Woven Contradictions_all_sep_svc_song.wav',\n",
       "  'udio/Woven Contradictions_all_sep_svc_song_refine.wav'],\n",
       " ['suno/797baf50-6424-4253-bc8f-90a3f49b9d46.mp3',\n",
       "  'suno/797baf50-6424-4253-bc8f-90a3f49b9d46_all_sep_svc_song.wav',\n",
       "  'suno/797baf50-6424-4253-bc8f-90a3f49b9d46_all_sep_svc_song_refine.wav',\n",
       "  'udio/A Better Life.mp3',\n",
       "  'udio/A Better Life_all_sep_svc_song.wav',\n",
       "  'udio/A Better Life_all_sep_svc_song_refine.wav'],\n",
       " ['suno/bb24c7e3-8db8-4ee0-a538-10db3071f858.mp3',\n",
       "  'suno/bb24c7e3-8db8-4ee0-a538-10db3071f858_all_sep_svc_song.wav',\n",
       "  'suno/bb24c7e3-8db8-4ee0-a538-10db3071f858_all_sep_svc_song_refine.wav',\n",
       "  'udio/Unexpected Moments.mp3',\n",
       "  'udio/Unexpected Moments_all_sep_svc_song.wav',\n",
       "  'udio/Unexpected Moments_all_sep_svc_song_refine.wav'],\n",
       " ['suno/22600eb5-fe0f-4adf-8131-d3acefd482d9.mp3',\n",
       "  'suno/22600eb5-fe0f-4adf-8131-d3acefd482d9_all_sep_svc_song.wav',\n",
       "  'suno/22600eb5-fe0f-4adf-8131-d3acefd482d9_all_sep_svc_song_refine.wav',\n",
       "  'udio/Echoes of the Past.mp3',\n",
       "  'udio/Echoes of the Past_all_sep_svc_song.wav',\n",
       "  'udio/Echoes of the Past_all_sep_svc_song_refine.wav'],\n",
       " ['suno/92b628db-9dd5-40a1-aa3f-daea0c4cafd1.mp3',\n",
       "  'suno/92b628db-9dd5-40a1-aa3f-daea0c4cafd1_all_sep_svc_song.wav',\n",
       "  'suno/92b628db-9dd5-40a1-aa3f-daea0c4cafd1_all_sep_svc_song_refine.wav',\n",
       "  'udio/Whispers of a Dream.mp3',\n",
       "  'udio/Whispers of a Dream_all_sep_svc_song.wav',\n",
       "  'udio/Whispers of a Dream_all_sep_svc_song_refine.wav'],\n",
       " ['suno/36075256-152f-4742-9399-9018873c3294.mp3',\n",
       "  'suno/36075256-152f-4742-9399-9018873c3294_all_sep_svc_song.wav',\n",
       "  'suno/36075256-152f-4742-9399-9018873c3294_all_sep_svc_song_refine.wav',\n",
       "  'udio/Bittersweet Solitude.mp3',\n",
       "  'udio/Bittersweet Solitude_all_sep_svc_song.wav',\n",
       "  'udio/Bittersweet Solitude_all_sep_svc_song_refine.wav'],\n",
       " ['suno/b74c3964-5c06-4862-863c-ecf5ed287a9d.mp3',\n",
       "  'suno/b74c3964-5c06-4862-863c-ecf5ed287a9d_all_sep_svc_song.wav',\n",
       "  'suno/b74c3964-5c06-4862-863c-ecf5ed287a9d_all_sep_svc_song_refine.wav',\n",
       "  'udio/Igniting Desire.mp3',\n",
       "  'udio/Igniting Desire_all_sep_svc_song.wav',\n",
       "  'udio/Igniting Desire_all_sep_svc_song_refine.wav'],\n",
       " ['suno/c24a60e2-92dc-4984-a7d8-ba0519fb8dae.mp3',\n",
       "  'suno/c24a60e2-92dc-4984-a7d8-ba0519fb8dae_all_sep_svc_song.wav',\n",
       "  'suno/c24a60e2-92dc-4984-a7d8-ba0519fb8dae_all_sep_svc_song_refine.wav',\n",
       "  'udio/Whispers of the Red Shed.mp3',\n",
       "  'udio/Whispers of the Red Shed_all_sep_svc_song.wav',\n",
       "  'udio/Whispers of the Red Shed_all_sep_svc_song_refine.wav'],\n",
       " ['suno/71460a24-4323-4ff4-b3e1-702317ac5727.mp3',\n",
       "  'suno/71460a24-4323-4ff4-b3e1-702317ac5727_all_sep_svc_song.wav',\n",
       "  'suno/71460a24-4323-4ff4-b3e1-702317ac5727_all_sep_svc_song_refine.wav',\n",
       "  'udio/Through It All.mp3',\n",
       "  'udio/Through It All_all_sep_svc_song.wav',\n",
       "  'udio/Through It All_all_sep_svc_song_refine.wav'],\n",
       " ['suno/05cab456-fe8d-4724-abe8-57534eca0c53.mp3',\n",
       "  'suno/05cab456-fe8d-4724-abe8-57534eca0c53_all_sep_svc_song.wav',\n",
       "  'suno/05cab456-fe8d-4724-abe8-57534eca0c53_all_sep_svc_song_refine.wav',\n",
       "  'udio/Under One Roof.mp3',\n",
       "  'udio/Under One Roof_all_sep_svc_song.wav',\n",
       "  'udio/Under One Roof_all_sep_svc_song_refine.wav'],\n",
       " ['suno/a261f3cc-9b64-49b1-a915-d64716771704.mp3',\n",
       "  'suno/a261f3cc-9b64-49b1-a915-d64716771704_all_sep_svc_song.wav',\n",
       "  'suno/a261f3cc-9b64-49b1-a915-d64716771704_all_sep_svc_song_refine.wav',\n",
       "  'udio/Endless Skies.mp3',\n",
       "  'udio/Endless Skies_all_sep_svc_song.wav',\n",
       "  'udio/Endless Skies_all_sep_svc_song_refine.wav'],\n",
       " ['suno/d27e8a24-50ae-492f-bed8-c4904ee4051c.mp3',\n",
       "  'suno/d27e8a24-50ae-492f-bed8-c4904ee4051c_all_sep_svc_song.wav',\n",
       "  'suno/d27e8a24-50ae-492f-bed8-c4904ee4051c_all_sep_svc_song_refine.wav',\n",
       "  'udio/Wandering Through Twilight.mp3',\n",
       "  'udio/Wandering Through Twilight_all_sep_svc_song.wav',\n",
       "  'udio/Wandering Through Twilight_all_sep_svc_song_refine.wav'],\n",
       " ['suno/293097eb-a88e-404d-8257-309ce6e5fce6.mp3',\n",
       "  'suno/293097eb-a88e-404d-8257-309ce6e5fce6_all_sep_svc_song.wav',\n",
       "  'suno/293097eb-a88e-404d-8257-309ce6e5fce6_all_sep_svc_song_refine.wav',\n",
       "  'udio/Fleeting Fantasies.mp3',\n",
       "  'udio/Fleeting Fantasies_all_sep_svc_song.wav',\n",
       "  'udio/Fleeting Fantasies_all_sep_svc_song_refine.wav'],\n",
       " ['suno/2240122f-f83c-4965-a12a-d8359bee9ac9.mp3',\n",
       "  'suno/2240122f-f83c-4965-a12a-d8359bee9ac9_all_sep_svc_song.wav',\n",
       "  'suno/2240122f-f83c-4965-a12a-d8359bee9ac9_all_sep_svc_song_refine.wav',\n",
       "  'udio/Echoes of What Was.mp3',\n",
       "  'udio/Echoes of What Was_all_sep_svc_song.wav',\n",
       "  'udio/Echoes of What Was_all_sep_svc_song_refine.wav'],\n",
       " ['suno/5723d64d-f42a-493c-98a7-bbc0e6ba5bd6.mp3',\n",
       "  'suno/5723d64d-f42a-493c-98a7-bbc0e6ba5bd6_all_sep_svc_song.wav',\n",
       "  'suno/5723d64d-f42a-493c-98a7-bbc0e6ba5bd6_all_sep_svc_song_refine.wav',\n",
       "  'udio/Beneath the Surface.mp3',\n",
       "  'udio/Beneath the Surface_all_sep_svc_song.wav',\n",
       "  'udio/Beneath the Surface_all_sep_svc_song_refine.wav'],\n",
       " ['suno/7f2e2e73-69a3-44ab-be24-f09646376a83.mp3',\n",
       "  'suno/7f2e2e73-69a3-44ab-be24-f09646376a83_all_sep_svc_song.wav',\n",
       "  'suno/7f2e2e73-69a3-44ab-be24-f09646376a83_all_sep_svc_song_refine.wav',\n",
       "  'udio/Echoes of Journeys.mp3',\n",
       "  'udio/Echoes of Journeys_all_sep_svc_song.wav',\n",
       "  'udio/Echoes of Journeys_all_sep_svc_song_refine.wav'],\n",
       " ['suno/3463cc83-6ec8-4c1e-bec7-a507c8127feb.mp3',\n",
       "  'suno/3463cc83-6ec8-4c1e-bec7-a507c8127feb_all_sep_svc_song.wav',\n",
       "  'suno/3463cc83-6ec8-4c1e-bec7-a507c8127feb_all_sep_svc_song_refine.wav',\n",
       "  'udio/Whispers in the Pond.mp3',\n",
       "  'udio/Whispers in the Pond_all_sep_svc_song.wav',\n",
       "  'udio/Whispers in the Pond_all_sep_svc_song_refine.wav'],\n",
       " ['suno/025d1cfe-fb42-4412-b48a-cfd4a0df92f2.mp3',\n",
       "  'suno/025d1cfe-fb42-4412-b48a-cfd4a0df92f2_all_sep_svc_song.wav',\n",
       "  'suno/025d1cfe-fb42-4412-b48a-cfd4a0df92f2_all_sep_svc_song_refine.wav',\n",
       "  'udio/Fragments of Truth.mp3',\n",
       "  'udio/Fragments of Truth_all_sep_svc_song.wav',\n",
       "  'udio/Fragments of Truth_all_sep_svc_song_refine.wav'],\n",
       " ['suno/4bfae760-5e17-4bf1-ad08-3378d48c1d03.mp3',\n",
       "  'suno/4bfae760-5e17-4bf1-ad08-3378d48c1d03_all_sep_svc_song.wav',\n",
       "  'suno/4bfae760-5e17-4bf1-ad08-3378d48c1d03_all_sep_svc_song_refine.wav',\n",
       "  'udio/Whispers of the Past.mp3',\n",
       "  'udio/Whispers of the Past_all_sep_svc_song.wav',\n",
       "  'udio/Whispers of the Past_all_sep_svc_song_refine.wav']]"
      ]
     },
     "execution_count": 84,
     "metadata": {},
     "output_type": "execute_result"
    }
   ],
   "source": [
    "\n",
    "def gen_mos_list(raw_filename):\n",
    "    stem=raw_filename.stem\n",
    "    raw=raw_filename.with_stem(stem.replace(\"_all_sep\",\"\")).with_suffix(\".mp3\")\n",
    "    song=raw_filename.with_stem(stem+\"_svc_song\").with_suffix(\".wav\")\n",
    "    song_refine=raw_filename.with_stem(stem+\"_svc_song_refine\").with_suffix(\".wav\")\n",
    "    if song.exists() and song_refine.exists():\n",
    "        return str(raw),str(song),str(song_refine)\n",
    "    else:\n",
    "        return None\n",
    "\n",
    "\n",
    "mos_list=[]\n",
    "for prompt,s1,s2 in tqdm(zip(cycle(prompt_files),suno,udio)):\n",
    "    g=[]\n",
    "    g.extend(gen_mos_list(s1[0]))\n",
    "    g.extend(gen_mos_list(s2[0]))\n",
    "    mos_list.append(g)\n",
    "mos_list\n",
    "    \n",
    "\n",
    "# suno_mos_list=[]\n",
    "# for x in Path(\"suno\").glob(\"*.mp3\"):\n",
    "#     y=gen_mos_list(x)\n",
    "#     suno_mos_list.append(y)\n",
    "# udio_mos_list=[]\n",
    "# for x in Path(\"udio\").glob(\"*.mp3\"):\n",
    "#     y=gen_mos_list(x)\n",
    "#     udio_mos_list.append(y)\n",
    "\n",
    "# suno_mos_list=list(filter(None,suno_mos_list))\n",
    "# udio_mos_list=list(filter(None,udio_mos_list))\n",
    "\n",
    "# mos_list=[]"
   ]
  },
  {
   "cell_type": "code",
   "execution_count": 85,
   "id": "011da3f8-8cfd-4980-bc94-127f15356f17",
   "metadata": {},
   "outputs": [
    {
     "name": "stdout",
     "output_type": "stream",
     "text": [
      "sudo aws s3 cp 'suno/10f213f1-d719-41fc-bba9-28ebe199a2e3.mp3' 's3://wondera-publicmaterials/suno/10f213f1-d719-41fc-bba9-28ebe199a2e3.mp3'\n",
      "sudo aws s3 cp 'suno/10f213f1-d719-41fc-bba9-28ebe199a2e3.mp3' 's3://wondera-publicmaterials/suno/10f213f1-d719-41fc-bba9-28ebe199a2e3.mp3'\n",
      "upload: suno/10f213f1-d719-41fc-bba9-28ebe199a2e3.mp3 to s3://wondera-publicmaterials/suno/10f213f1-d719-41fc-bba9-28ebe199a2e3.mp3\n",
      "sudo aws s3 cp 'suno/10f213f1-d719-41fc-bba9-28ebe199a2e3_all_sep_svc_song.wav' 's3://wondera-publicmaterials/suno/10f213f1-d719-41fc-bba9-28ebe199a2e3_all_sep_svc_song.wav'\n",
      "sudo aws s3 cp 'suno/10f213f1-d719-41fc-bba9-28ebe199a2e3_all_sep_svc_song_refine.wav' 's3://wondera-publicmaterials/suno/10f213f1-d719-41fc-bba9-28ebe199a2e3_all_sep_svc_song_refine.wav'\n",
      "sudo aws s3 cp 'udio/Chasing Magic.mp3' 's3://wondera-publicmaterials/udio/Chasing Magic.mp3'\n",
      "sudo aws s3 cp 'udio/Chasing Magic.mp3' 's3://wondera-publicmaterials/udio/Chasing Magic.mp3'\n",
      "upload: udio/Chasing Magic.mp3 to s3://wondera-publicmaterials/udio/Chasing Magic.mp3\n",
      "sudo aws s3 cp 'udio/Chasing Magic_all_sep_svc_song.wav' 's3://wondera-publicmaterials/udio/Chasing Magic_all_sep_svc_song.wav'\n",
      "sudo aws s3 cp 'udio/Chasing Magic_all_sep_svc_song_refine.wav' 's3://wondera-publicmaterials/udio/Chasing Magic_all_sep_svc_song_refine.wav'\n",
      "sudo aws s3 cp 'suno/0f249990-d2a0-4e1f-b7ab-8fde3c924d45.mp3' 's3://wondera-publicmaterials/suno/0f249990-d2a0-4e1f-b7ab-8fde3c924d45.mp3'\n",
      "sudo aws s3 cp 'suno/0f249990-d2a0-4e1f-b7ab-8fde3c924d45.mp3' 's3://wondera-publicmaterials/suno/0f249990-d2a0-4e1f-b7ab-8fde3c924d45.mp3'\n",
      "upload: suno/0f249990-d2a0-4e1f-b7ab-8fde3c924d45.mp3 to s3://wondera-publicmaterials/suno/0f249990-d2a0-4e1f-b7ab-8fde3c924d45.mp3\n",
      "sudo aws s3 cp 'suno/0f249990-d2a0-4e1f-b7ab-8fde3c924d45_all_sep_svc_song.wav' 's3://wondera-publicmaterials/suno/0f249990-d2a0-4e1f-b7ab-8fde3c924d45_all_sep_svc_song.wav'\n",
      "sudo aws s3 cp 'suno/0f249990-d2a0-4e1f-b7ab-8fde3c924d45_all_sep_svc_song_refine.wav' 's3://wondera-publicmaterials/suno/0f249990-d2a0-4e1f-b7ab-8fde3c924d45_all_sep_svc_song_refine.wav'\n",
      "sudo aws s3 cp 'udio/Behind the Mask.mp3' 's3://wondera-publicmaterials/udio/Behind the Mask.mp3'\n",
      "sudo aws s3 cp 'udio/Behind the Mask.mp3' 's3://wondera-publicmaterials/udio/Behind the Mask.mp3'\n",
      "upload: udio/Behind the Mask.mp3 to s3://wondera-publicmaterials/udio/Behind the Mask.mp3\n",
      "sudo aws s3 cp 'udio/Behind the Mask_all_sep_svc_song.wav' 's3://wondera-publicmaterials/udio/Behind the Mask_all_sep_svc_song.wav'\n",
      "sudo aws s3 cp 'udio/Behind the Mask_all_sep_svc_song_refine.wav' 's3://wondera-publicmaterials/udio/Behind the Mask_all_sep_svc_song_refine.wav'\n",
      "sudo aws s3 cp 'suno/365ea0d6-ab2c-4787-85f0-1349750f8c79.mp3' 's3://wondera-publicmaterials/suno/365ea0d6-ab2c-4787-85f0-1349750f8c79.mp3'\n",
      "sudo aws s3 cp 'suno/365ea0d6-ab2c-4787-85f0-1349750f8c79.mp3' 's3://wondera-publicmaterials/suno/365ea0d6-ab2c-4787-85f0-1349750f8c79.mp3'\n",
      "upload: suno/365ea0d6-ab2c-4787-85f0-1349750f8c79.mp3 to s3://wondera-publicmaterials/suno/365ea0d6-ab2c-4787-85f0-1349750f8c79.mp3\n",
      "sudo aws s3 cp 'suno/365ea0d6-ab2c-4787-85f0-1349750f8c79_all_sep_svc_song.wav' 's3://wondera-publicmaterials/suno/365ea0d6-ab2c-4787-85f0-1349750f8c79_all_sep_svc_song.wav'\n",
      "sudo aws s3 cp 'suno/365ea0d6-ab2c-4787-85f0-1349750f8c79_all_sep_svc_song_refine.wav' 's3://wondera-publicmaterials/suno/365ea0d6-ab2c-4787-85f0-1349750f8c79_all_sep_svc_song_refine.wav'\n",
      "sudo aws s3 cp 'udio/Chasing the Light.mp3' 's3://wondera-publicmaterials/udio/Chasing the Light.mp3'\n",
      "sudo aws s3 cp 'udio/Chasing the Light.mp3' 's3://wondera-publicmaterials/udio/Chasing the Light.mp3'\n",
      "upload: udio/Chasing the Light.mp3 to s3://wondera-publicmaterials/udio/Chasing the Light.mp3\n",
      "sudo aws s3 cp 'udio/Chasing the Light_all_sep_svc_song.wav' 's3://wondera-publicmaterials/udio/Chasing the Light_all_sep_svc_song.wav'\n",
      "sudo aws s3 cp 'udio/Chasing the Light_all_sep_svc_song_refine.wav' 's3://wondera-publicmaterials/udio/Chasing the Light_all_sep_svc_song_refine.wav'\n",
      "sudo aws s3 cp 'suno/0821da0e-6966-48ed-b88b-d3ae623206f8.mp3' 's3://wondera-publicmaterials/suno/0821da0e-6966-48ed-b88b-d3ae623206f8.mp3'\n",
      "sudo aws s3 cp 'suno/0821da0e-6966-48ed-b88b-d3ae623206f8.mp3' 's3://wondera-publicmaterials/suno/0821da0e-6966-48ed-b88b-d3ae623206f8.mp3'\n",
      "upload: suno/0821da0e-6966-48ed-b88b-d3ae623206f8.mp3 to s3://wondera-publicmaterials/suno/0821da0e-6966-48ed-b88b-d3ae623206f8.mp3\n",
      "sudo aws s3 cp 'suno/0821da0e-6966-48ed-b88b-d3ae623206f8_all_sep_svc_song.wav' 's3://wondera-publicmaterials/suno/0821da0e-6966-48ed-b88b-d3ae623206f8_all_sep_svc_song.wav'\n",
      "sudo aws s3 cp 'suno/0821da0e-6966-48ed-b88b-d3ae623206f8_all_sep_svc_song_refine.wav' 's3://wondera-publicmaterials/suno/0821da0e-6966-48ed-b88b-d3ae623206f8_all_sep_svc_song_refine.wav'\n",
      "sudo aws s3 cp 'udio/Cycle of Shadows.mp3' 's3://wondera-publicmaterials/udio/Cycle of Shadows.mp3'\n",
      "sudo aws s3 cp 'udio/Cycle of Shadows.mp3' 's3://wondera-publicmaterials/udio/Cycle of Shadows.mp3'\n",
      "upload: udio/Cycle of Shadows.mp3 to s3://wondera-publicmaterials/udio/Cycle of Shadows.mp3\n",
      "sudo aws s3 cp 'udio/Cycle of Shadows_all_sep_svc_song.wav' 's3://wondera-publicmaterials/udio/Cycle of Shadows_all_sep_svc_song.wav'\n",
      "sudo aws s3 cp 'udio/Cycle of Shadows_all_sep_svc_song_refine.wav' 's3://wondera-publicmaterials/udio/Cycle of Shadows_all_sep_svc_song_refine.wav'\n",
      "sudo aws s3 cp 'suno/acffa5e5-8169-450e-b93f-7d24c55d4b93.mp3' 's3://wondera-publicmaterials/suno/acffa5e5-8169-450e-b93f-7d24c55d4b93.mp3'\n",
      "sudo aws s3 cp 'suno/acffa5e5-8169-450e-b93f-7d24c55d4b93.mp3' 's3://wondera-publicmaterials/suno/acffa5e5-8169-450e-b93f-7d24c55d4b93.mp3'\n",
      "upload: suno/acffa5e5-8169-450e-b93f-7d24c55d4b93.mp3 to s3://wondera-publicmaterials/suno/acffa5e5-8169-450e-b93f-7d24c55d4b93.mp3\n",
      "sudo aws s3 cp 'suno/acffa5e5-8169-450e-b93f-7d24c55d4b93_all_sep_svc_song.wav' 's3://wondera-publicmaterials/suno/acffa5e5-8169-450e-b93f-7d24c55d4b93_all_sep_svc_song.wav'\n",
      "sudo aws s3 cp 'suno/acffa5e5-8169-450e-b93f-7d24c55d4b93_all_sep_svc_song_refine.wav' 's3://wondera-publicmaterials/suno/acffa5e5-8169-450e-b93f-7d24c55d4b93_all_sep_svc_song_refine.wav'\n",
      "sudo aws s3 cp 'udio/Journey to Clarity.mp3' 's3://wondera-publicmaterials/udio/Journey to Clarity.mp3'\n",
      "sudo aws s3 cp 'udio/Journey to Clarity.mp3' 's3://wondera-publicmaterials/udio/Journey to Clarity.mp3'\n",
      "upload: udio/Journey to Clarity.mp3 to s3://wondera-publicmaterials/udio/Journey to Clarity.mp3\n",
      "sudo aws s3 cp 'udio/Journey to Clarity_all_sep_svc_song.wav' 's3://wondera-publicmaterials/udio/Journey to Clarity_all_sep_svc_song.wav'\n",
      "sudo aws s3 cp 'udio/Journey to Clarity_all_sep_svc_song_refine.wav' 's3://wondera-publicmaterials/udio/Journey to Clarity_all_sep_svc_song_refine.wav'\n",
      "sudo aws s3 cp 'suno/4b6e9f89-46a7-4cce-bad8-67cfb98a3909.mp3' 's3://wondera-publicmaterials/suno/4b6e9f89-46a7-4cce-bad8-67cfb98a3909.mp3'\n",
      "sudo aws s3 cp 'suno/4b6e9f89-46a7-4cce-bad8-67cfb98a3909.mp3' 's3://wondera-publicmaterials/suno/4b6e9f89-46a7-4cce-bad8-67cfb98a3909.mp3'\n",
      "upload: suno/4b6e9f89-46a7-4cce-bad8-67cfb98a3909.mp3 to s3://wondera-publicmaterials/suno/4b6e9f89-46a7-4cce-bad8-67cfb98a3909.mp3\n",
      "sudo aws s3 cp 'suno/4b6e9f89-46a7-4cce-bad8-67cfb98a3909_all_sep_svc_song.wav' 's3://wondera-publicmaterials/suno/4b6e9f89-46a7-4cce-bad8-67cfb98a3909_all_sep_svc_song.wav'\n",
      "sudo aws s3 cp 'suno/4b6e9f89-46a7-4cce-bad8-67cfb98a3909_all_sep_svc_song_refine.wav' 's3://wondera-publicmaterials/suno/4b6e9f89-46a7-4cce-bad8-67cfb98a3909_all_sep_svc_song_refine.wav'\n",
      "sudo aws s3 cp 'udio/Whispers in the Fog.mp3' 's3://wondera-publicmaterials/udio/Whispers in the Fog.mp3'\n",
      "sudo aws s3 cp 'udio/Whispers in the Fog.mp3' 's3://wondera-publicmaterials/udio/Whispers in the Fog.mp3'\n",
      "upload: udio/Whispers in the Fog.mp3 to s3://wondera-publicmaterials/udio/Whispers in the Fog.mp3\n",
      "sudo aws s3 cp 'udio/Whispers in the Fog_all_sep_svc_song.wav' 's3://wondera-publicmaterials/udio/Whispers in the Fog_all_sep_svc_song.wav'\n",
      "sudo aws s3 cp 'udio/Whispers in the Fog_all_sep_svc_song_refine.wav' 's3://wondera-publicmaterials/udio/Whispers in the Fog_all_sep_svc_song_refine.wav'\n",
      "sudo aws s3 cp 'suno/de0d5e3f-d2fd-4fd8-866a-7c1061b5b63a.mp3' 's3://wondera-publicmaterials/suno/de0d5e3f-d2fd-4fd8-866a-7c1061b5b63a.mp3'\n",
      "sudo aws s3 cp 'suno/de0d5e3f-d2fd-4fd8-866a-7c1061b5b63a.mp3' 's3://wondera-publicmaterials/suno/de0d5e3f-d2fd-4fd8-866a-7c1061b5b63a.mp3'\n",
      "upload: suno/de0d5e3f-d2fd-4fd8-866a-7c1061b5b63a.mp3 to s3://wondera-publicmaterials/suno/de0d5e3f-d2fd-4fd8-866a-7c1061b5b63a.mp3\n",
      "sudo aws s3 cp 'suno/de0d5e3f-d2fd-4fd8-866a-7c1061b5b63a_all_sep_svc_song.wav' 's3://wondera-publicmaterials/suno/de0d5e3f-d2fd-4fd8-866a-7c1061b5b63a_all_sep_svc_song.wav'\n",
      "sudo aws s3 cp 'suno/de0d5e3f-d2fd-4fd8-866a-7c1061b5b63a_all_sep_svc_song_refine.wav' 's3://wondera-publicmaterials/suno/de0d5e3f-d2fd-4fd8-866a-7c1061b5b63a_all_sep_svc_song_refine.wav'\n",
      "sudo aws s3 cp 'udio/Through the Vines.mp3' 's3://wondera-publicmaterials/udio/Through the Vines.mp3'\n",
      "sudo aws s3 cp 'udio/Through the Vines.mp3' 's3://wondera-publicmaterials/udio/Through the Vines.mp3'\n",
      "upload: udio/Through the Vines.mp3 to s3://wondera-publicmaterials/udio/Through the Vines.mp3\n",
      "sudo aws s3 cp 'udio/Through the Vines_all_sep_svc_song.wav' 's3://wondera-publicmaterials/udio/Through the Vines_all_sep_svc_song.wav'\n",
      "sudo aws s3 cp 'udio/Through the Vines_all_sep_svc_song_refine.wav' 's3://wondera-publicmaterials/udio/Through the Vines_all_sep_svc_song_refine.wav'\n",
      "sudo aws s3 cp 'suno/1b2a31e3-5a75-481b-82fc-ab9e3087fbee.mp3' 's3://wondera-publicmaterials/suno/1b2a31e3-5a75-481b-82fc-ab9e3087fbee.mp3'\n",
      "sudo aws s3 cp 'suno/1b2a31e3-5a75-481b-82fc-ab9e3087fbee.mp3' 's3://wondera-publicmaterials/suno/1b2a31e3-5a75-481b-82fc-ab9e3087fbee.mp3'\n",
      "upload: suno/1b2a31e3-5a75-481b-82fc-ab9e3087fbee.mp3 to s3://wondera-publicmaterials/suno/1b2a31e3-5a75-481b-82fc-ab9e3087fbee.mp3\n",
      "sudo aws s3 cp 'suno/1b2a31e3-5a75-481b-82fc-ab9e3087fbee_all_sep_svc_song.wav' 's3://wondera-publicmaterials/suno/1b2a31e3-5a75-481b-82fc-ab9e3087fbee_all_sep_svc_song.wav'\n",
      "sudo aws s3 cp 'suno/1b2a31e3-5a75-481b-82fc-ab9e3087fbee_all_sep_svc_song_refine.wav' 's3://wondera-publicmaterials/suno/1b2a31e3-5a75-481b-82fc-ab9e3087fbee_all_sep_svc_song_refine.wav'\n",
      "sudo aws s3 cp 'udio/Until We Find the Reason.mp3' 's3://wondera-publicmaterials/udio/Until We Find the Reason.mp3'\n",
      "sudo aws s3 cp 'udio/Until We Find the Reason.mp3' 's3://wondera-publicmaterials/udio/Until We Find the Reason.mp3'\n",
      "upload: udio/Until We Find the Reason.mp3 to s3://wondera-publicmaterials/udio/Until We Find the Reason.mp3\n",
      "sudo aws s3 cp 'udio/Until We Find the Reason_all_sep_svc_song.wav' 's3://wondera-publicmaterials/udio/Until We Find the Reason_all_sep_svc_song.wav'\n",
      "sudo aws s3 cp 'udio/Until We Find the Reason_all_sep_svc_song_refine.wav' 's3://wondera-publicmaterials/udio/Until We Find the Reason_all_sep_svc_song_refine.wav'\n",
      "sudo aws s3 cp 'suno/315e1ec8-9844-4967-819d-ba36f484f5b3.mp3' 's3://wondera-publicmaterials/suno/315e1ec8-9844-4967-819d-ba36f484f5b3.mp3'\n",
      "sudo aws s3 cp 'suno/315e1ec8-9844-4967-819d-ba36f484f5b3.mp3' 's3://wondera-publicmaterials/suno/315e1ec8-9844-4967-819d-ba36f484f5b3.mp3'\n",
      "upload: suno/315e1ec8-9844-4967-819d-ba36f484f5b3.mp3 to s3://wondera-publicmaterials/suno/315e1ec8-9844-4967-819d-ba36f484f5b3.mp3\n",
      "sudo aws s3 cp 'suno/315e1ec8-9844-4967-819d-ba36f484f5b3_all_sep_svc_song.wav' 's3://wondera-publicmaterials/suno/315e1ec8-9844-4967-819d-ba36f484f5b3_all_sep_svc_song.wav'\n",
      "sudo aws s3 cp 'suno/315e1ec8-9844-4967-819d-ba36f484f5b3_all_sep_svc_song_refine.wav' 's3://wondera-publicmaterials/suno/315e1ec8-9844-4967-819d-ba36f484f5b3_all_sep_svc_song_refine.wav'\n",
      "sudo aws s3 cp 'udio/The Essence of Change.mp3' 's3://wondera-publicmaterials/udio/The Essence of Change.mp3'\n",
      "sudo aws s3 cp 'udio/The Essence of Change.mp3' 's3://wondera-publicmaterials/udio/The Essence of Change.mp3'\n",
      "upload: udio/The Essence of Change.mp3 to s3://wondera-publicmaterials/udio/The Essence of Change.mp3\n",
      "sudo aws s3 cp 'udio/The Essence of Change_all_sep_svc_song.wav' 's3://wondera-publicmaterials/udio/The Essence of Change_all_sep_svc_song.wav'\n",
      "sudo aws s3 cp 'udio/The Essence of Change_all_sep_svc_song_refine.wav' 's3://wondera-publicmaterials/udio/The Essence of Change_all_sep_svc_song_refine.wav'\n",
      "sudo aws s3 cp 'suno/9bc57280-a41d-427f-9b80-e7c4cc54a84a.mp3' 's3://wondera-publicmaterials/suno/9bc57280-a41d-427f-9b80-e7c4cc54a84a.mp3'\n",
      "sudo aws s3 cp 'suno/9bc57280-a41d-427f-9b80-e7c4cc54a84a.mp3' 's3://wondera-publicmaterials/suno/9bc57280-a41d-427f-9b80-e7c4cc54a84a.mp3'\n",
      "upload: suno/9bc57280-a41d-427f-9b80-e7c4cc54a84a.mp3 to s3://wondera-publicmaterials/suno/9bc57280-a41d-427f-9b80-e7c4cc54a84a.mp3\n",
      "sudo aws s3 cp 'suno/9bc57280-a41d-427f-9b80-e7c4cc54a84a_all_sep_svc_song.wav' 's3://wondera-publicmaterials/suno/9bc57280-a41d-427f-9b80-e7c4cc54a84a_all_sep_svc_song.wav'\n",
      "sudo aws s3 cp 'suno/9bc57280-a41d-427f-9b80-e7c4cc54a84a_all_sep_svc_song_refine.wav' 's3://wondera-publicmaterials/suno/9bc57280-a41d-427f-9b80-e7c4cc54a84a_all_sep_svc_song_refine.wav'\n",
      "sudo aws s3 cp 'udio/Moments of Bliss.mp3' 's3://wondera-publicmaterials/udio/Moments of Bliss.mp3'\n",
      "sudo aws s3 cp 'udio/Moments of Bliss.mp3' 's3://wondera-publicmaterials/udio/Moments of Bliss.mp3'\n",
      "upload: udio/Moments of Bliss.mp3 to s3://wondera-publicmaterials/udio/Moments of Bliss.mp3\n",
      "sudo aws s3 cp 'udio/Moments of Bliss_all_sep_svc_song.wav' 's3://wondera-publicmaterials/udio/Moments of Bliss_all_sep_svc_song.wav'\n",
      "sudo aws s3 cp 'udio/Moments of Bliss_all_sep_svc_song_refine.wav' 's3://wondera-publicmaterials/udio/Moments of Bliss_all_sep_svc_song_refine.wav'\n",
      "sudo aws s3 cp 'suno/765565a9-0b79-4b7b-8d20-a1470321ef78.mp3' 's3://wondera-publicmaterials/suno/765565a9-0b79-4b7b-8d20-a1470321ef78.mp3'\n",
      "sudo aws s3 cp 'suno/765565a9-0b79-4b7b-8d20-a1470321ef78.mp3' 's3://wondera-publicmaterials/suno/765565a9-0b79-4b7b-8d20-a1470321ef78.mp3'\n",
      "upload: suno/765565a9-0b79-4b7b-8d20-a1470321ef78.mp3 to s3://wondera-publicmaterials/suno/765565a9-0b79-4b7b-8d20-a1470321ef78.mp3\n",
      "sudo aws s3 cp 'suno/765565a9-0b79-4b7b-8d20-a1470321ef78_all_sep_svc_song.wav' 's3://wondera-publicmaterials/suno/765565a9-0b79-4b7b-8d20-a1470321ef78_all_sep_svc_song.wav'\n",
      "sudo aws s3 cp 'suno/765565a9-0b79-4b7b-8d20-a1470321ef78_all_sep_svc_song_refine.wav' 's3://wondera-publicmaterials/suno/765565a9-0b79-4b7b-8d20-a1470321ef78_all_sep_svc_song_refine.wav'\n",
      "sudo aws s3 cp 'udio/Shadows of Steel.mp3' 's3://wondera-publicmaterials/udio/Shadows of Steel.mp3'\n",
      "sudo aws s3 cp 'udio/Shadows of Steel.mp3' 's3://wondera-publicmaterials/udio/Shadows of Steel.mp3'\n",
      "upload: udio/Shadows of Steel.mp3 to s3://wondera-publicmaterials/udio/Shadows of Steel.mp3\n",
      "sudo aws s3 cp 'udio/Shadows of Steel_all_sep_svc_song.wav' 's3://wondera-publicmaterials/udio/Shadows of Steel_all_sep_svc_song.wav'\n",
      "sudo aws s3 cp 'udio/Shadows of Steel_all_sep_svc_song_refine.wav' 's3://wondera-publicmaterials/udio/Shadows of Steel_all_sep_svc_song_refine.wav'\n",
      "sudo aws s3 cp 'suno/c00621ce-f943-44db-bed1-49c8144a0237.mp3' 's3://wondera-publicmaterials/suno/c00621ce-f943-44db-bed1-49c8144a0237.mp3'\n",
      "sudo aws s3 cp 'suno/c00621ce-f943-44db-bed1-49c8144a0237.mp3' 's3://wondera-publicmaterials/suno/c00621ce-f943-44db-bed1-49c8144a0237.mp3'\n",
      "upload: suno/c00621ce-f943-44db-bed1-49c8144a0237.mp3 to s3://wondera-publicmaterials/suno/c00621ce-f943-44db-bed1-49c8144a0237.mp3\n",
      "sudo aws s3 cp 'suno/c00621ce-f943-44db-bed1-49c8144a0237_all_sep_svc_song.wav' 's3://wondera-publicmaterials/suno/c00621ce-f943-44db-bed1-49c8144a0237_all_sep_svc_song.wav'\n",
      "sudo aws s3 cp 'suno/c00621ce-f943-44db-bed1-49c8144a0237_all_sep_svc_song_refine.wav' 's3://wondera-publicmaterials/suno/c00621ce-f943-44db-bed1-49c8144a0237_all_sep_svc_song_refine.wav'\n",
      "sudo aws s3 cp 'udio/The Cost of Convenience.mp3' 's3://wondera-publicmaterials/udio/The Cost of Convenience.mp3'\n",
      "sudo aws s3 cp 'udio/The Cost of Convenience.mp3' 's3://wondera-publicmaterials/udio/The Cost of Convenience.mp3'\n",
      "upload: udio/The Cost of Convenience.mp3 to s3://wondera-publicmaterials/udio/The Cost of Convenience.mp3\n",
      "sudo aws s3 cp 'udio/The Cost of Convenience_all_sep_svc_song.wav' 's3://wondera-publicmaterials/udio/The Cost of Convenience_all_sep_svc_song.wav'\n",
      "sudo aws s3 cp 'udio/The Cost of Convenience_all_sep_svc_song_refine.wav' 's3://wondera-publicmaterials/udio/The Cost of Convenience_all_sep_svc_song_refine.wav'\n",
      "sudo aws s3 cp 'suno/2ababd61-81cb-4acc-a1f6-8f9ce6368bdf.mp3' 's3://wondera-publicmaterials/suno/2ababd61-81cb-4acc-a1f6-8f9ce6368bdf.mp3'\n",
      "sudo aws s3 cp 'suno/2ababd61-81cb-4acc-a1f6-8f9ce6368bdf.mp3' 's3://wondera-publicmaterials/suno/2ababd61-81cb-4acc-a1f6-8f9ce6368bdf.mp3'\n",
      "upload: suno/2ababd61-81cb-4acc-a1f6-8f9ce6368bdf.mp3 to s3://wondera-publicmaterials/suno/2ababd61-81cb-4acc-a1f6-8f9ce6368bdf.mp3\n",
      "sudo aws s3 cp 'suno/2ababd61-81cb-4acc-a1f6-8f9ce6368bdf_all_sep_svc_song.wav' 's3://wondera-publicmaterials/suno/2ababd61-81cb-4acc-a1f6-8f9ce6368bdf_all_sep_svc_song.wav'\n",
      "sudo aws s3 cp 'suno/2ababd61-81cb-4acc-a1f6-8f9ce6368bdf_all_sep_svc_song_refine.wav' 's3://wondera-publicmaterials/suno/2ababd61-81cb-4acc-a1f6-8f9ce6368bdf_all_sep_svc_song_refine.wav'\n",
      "sudo aws s3 cp 'udio/Awakening from Darkness.mp3' 's3://wondera-publicmaterials/udio/Awakening from Darkness.mp3'\n",
      "sudo aws s3 cp 'udio/Awakening from Darkness.mp3' 's3://wondera-publicmaterials/udio/Awakening from Darkness.mp3'\n",
      "upload: udio/Awakening from Darkness.mp3 to s3://wondera-publicmaterials/udio/Awakening from Darkness.mp3\n",
      "sudo aws s3 cp 'udio/Awakening from Darkness_all_sep_svc_song.wav' 's3://wondera-publicmaterials/udio/Awakening from Darkness_all_sep_svc_song.wav'\n",
      "sudo aws s3 cp 'udio/Awakening from Darkness_all_sep_svc_song_refine.wav' 's3://wondera-publicmaterials/udio/Awakening from Darkness_all_sep_svc_song_refine.wav'\n",
      "sudo aws s3 cp 'suno/327a9387-8a66-46b2-9bd0-a64379a94626.mp3' 's3://wondera-publicmaterials/suno/327a9387-8a66-46b2-9bd0-a64379a94626.mp3'\n",
      "sudo aws s3 cp 'suno/327a9387-8a66-46b2-9bd0-a64379a94626.mp3' 's3://wondera-publicmaterials/suno/327a9387-8a66-46b2-9bd0-a64379a94626.mp3'\n",
      "upload: suno/327a9387-8a66-46b2-9bd0-a64379a94626.mp3 to s3://wondera-publicmaterials/suno/327a9387-8a66-46b2-9bd0-a64379a94626.mp3\n",
      "sudo aws s3 cp 'suno/327a9387-8a66-46b2-9bd0-a64379a94626_all_sep_svc_song.wav' 's3://wondera-publicmaterials/suno/327a9387-8a66-46b2-9bd0-a64379a94626_all_sep_svc_song.wav'\n",
      "sudo aws s3 cp 'suno/327a9387-8a66-46b2-9bd0-a64379a94626_all_sep_svc_song_refine.wav' 's3://wondera-publicmaterials/suno/327a9387-8a66-46b2-9bd0-a64379a94626_all_sep_svc_song_refine.wav'\n",
      "sudo aws s3 cp 'udio/Unity in Diversity.mp3' 's3://wondera-publicmaterials/udio/Unity in Diversity.mp3'\n",
      "sudo aws s3 cp 'udio/Unity in Diversity.mp3' 's3://wondera-publicmaterials/udio/Unity in Diversity.mp3'\n",
      "upload: udio/Unity in Diversity.mp3 to s3://wondera-publicmaterials/udio/Unity in Diversity.mp3\n",
      "sudo aws s3 cp 'udio/Unity in Diversity_all_sep_svc_song.wav' 's3://wondera-publicmaterials/udio/Unity in Diversity_all_sep_svc_song.wav'\n",
      "sudo aws s3 cp 'udio/Unity in Diversity_all_sep_svc_song_refine.wav' 's3://wondera-publicmaterials/udio/Unity in Diversity_all_sep_svc_song_refine.wav'\n",
      "sudo aws s3 cp 'suno/35df3d15-a891-49b5-8216-5ba35b5f051f.mp3' 's3://wondera-publicmaterials/suno/35df3d15-a891-49b5-8216-5ba35b5f051f.mp3'\n",
      "sudo aws s3 cp 'suno/35df3d15-a891-49b5-8216-5ba35b5f051f.mp3' 's3://wondera-publicmaterials/suno/35df3d15-a891-49b5-8216-5ba35b5f051f.mp3'\n",
      "upload: suno/35df3d15-a891-49b5-8216-5ba35b5f051f.mp3 to s3://wondera-publicmaterials/suno/35df3d15-a891-49b5-8216-5ba35b5f051f.mp3\n",
      "sudo aws s3 cp 'suno/35df3d15-a891-49b5-8216-5ba35b5f051f_all_sep_svc_song.wav' 's3://wondera-publicmaterials/suno/35df3d15-a891-49b5-8216-5ba35b5f051f_all_sep_svc_song.wav'\n",
      "sudo aws s3 cp 'suno/35df3d15-a891-49b5-8216-5ba35b5f051f_all_sep_svc_song_refine.wav' 's3://wondera-publicmaterials/suno/35df3d15-a891-49b5-8216-5ba35b5f051f_all_sep_svc_song_refine.wav'\n",
      "sudo aws s3 cp 'udio/Flavor of Love.mp3' 's3://wondera-publicmaterials/udio/Flavor of Love.mp3'\n",
      "sudo aws s3 cp 'udio/Flavor of Love.mp3' 's3://wondera-publicmaterials/udio/Flavor of Love.mp3'\n",
      "upload: udio/Flavor of Love.mp3 to s3://wondera-publicmaterials/udio/Flavor of Love.mp3\n",
      "sudo aws s3 cp 'udio/Flavor of Love_all_sep_svc_song.wav' 's3://wondera-publicmaterials/udio/Flavor of Love_all_sep_svc_song.wav'\n",
      "sudo aws s3 cp 'udio/Flavor of Love_all_sep_svc_song_refine.wav' 's3://wondera-publicmaterials/udio/Flavor of Love_all_sep_svc_song_refine.wav'\n",
      "sudo aws s3 cp 'suno/48f1e32a-c5c1-4730-9f01-b2fcc2fafe30.mp3' 's3://wondera-publicmaterials/suno/48f1e32a-c5c1-4730-9f01-b2fcc2fafe30.mp3'\n",
      "sudo aws s3 cp 'suno/48f1e32a-c5c1-4730-9f01-b2fcc2fafe30.mp3' 's3://wondera-publicmaterials/suno/48f1e32a-c5c1-4730-9f01-b2fcc2fafe30.mp3'\n",
      "upload: suno/48f1e32a-c5c1-4730-9f01-b2fcc2fafe30.mp3 to s3://wondera-publicmaterials/suno/48f1e32a-c5c1-4730-9f01-b2fcc2fafe30.mp3\n",
      "sudo aws s3 cp 'suno/48f1e32a-c5c1-4730-9f01-b2fcc2fafe30_all_sep_svc_song.wav' 's3://wondera-publicmaterials/suno/48f1e32a-c5c1-4730-9f01-b2fcc2fafe30_all_sep_svc_song.wav'\n",
      "sudo aws s3 cp 'suno/48f1e32a-c5c1-4730-9f01-b2fcc2fafe30_all_sep_svc_song_refine.wav' 's3://wondera-publicmaterials/suno/48f1e32a-c5c1-4730-9f01-b2fcc2fafe30_all_sep_svc_song_refine.wav'\n",
      "sudo aws s3 cp 'udio/Veil of Doubt.mp3' 's3://wondera-publicmaterials/udio/Veil of Doubt.mp3'\n",
      "sudo aws s3 cp 'udio/Veil of Doubt.mp3' 's3://wondera-publicmaterials/udio/Veil of Doubt.mp3'\n",
      "upload: udio/Veil of Doubt.mp3 to s3://wondera-publicmaterials/udio/Veil of Doubt.mp3\n",
      "sudo aws s3 cp 'udio/Veil of Doubt_all_sep_svc_song.wav' 's3://wondera-publicmaterials/udio/Veil of Doubt_all_sep_svc_song.wav'\n",
      "sudo aws s3 cp 'udio/Veil of Doubt_all_sep_svc_song_refine.wav' 's3://wondera-publicmaterials/udio/Veil of Doubt_all_sep_svc_song_refine.wav'\n",
      "sudo aws s3 cp 'suno/4d8cd4be-86b3-415c-b8fd-0e722c77e2b9.mp3' 's3://wondera-publicmaterials/suno/4d8cd4be-86b3-415c-b8fd-0e722c77e2b9.mp3'\n",
      "sudo aws s3 cp 'suno/4d8cd4be-86b3-415c-b8fd-0e722c77e2b9.mp3' 's3://wondera-publicmaterials/suno/4d8cd4be-86b3-415c-b8fd-0e722c77e2b9.mp3'\n",
      "upload: suno/4d8cd4be-86b3-415c-b8fd-0e722c77e2b9.mp3 to s3://wondera-publicmaterials/suno/4d8cd4be-86b3-415c-b8fd-0e722c77e2b9.mp3\n",
      "sudo aws s3 cp 'suno/4d8cd4be-86b3-415c-b8fd-0e722c77e2b9_all_sep_svc_song.wav' 's3://wondera-publicmaterials/suno/4d8cd4be-86b3-415c-b8fd-0e722c77e2b9_all_sep_svc_song.wav'\n",
      "sudo aws s3 cp 'suno/4d8cd4be-86b3-415c-b8fd-0e722c77e2b9_all_sep_svc_song_refine.wav' 's3://wondera-publicmaterials/suno/4d8cd4be-86b3-415c-b8fd-0e722c77e2b9_all_sep_svc_song_refine.wav'\n",
      "sudo aws s3 cp 'udio/Neon Dreams and Tender Hues.mp3' 's3://wondera-publicmaterials/udio/Neon Dreams and Tender Hues.mp3'\n",
      "sudo aws s3 cp 'udio/Neon Dreams and Tender Hues.mp3' 's3://wondera-publicmaterials/udio/Neon Dreams and Tender Hues.mp3'\n",
      "upload: udio/Neon Dreams and Tender Hues.mp3 to s3://wondera-publicmaterials/udio/Neon Dreams and Tender Hues.mp3\n",
      "sudo aws s3 cp 'udio/Neon Dreams and Tender Hues_all_sep_svc_song.wav' 's3://wondera-publicmaterials/udio/Neon Dreams and Tender Hues_all_sep_svc_song.wav'\n",
      "sudo aws s3 cp 'udio/Neon Dreams and Tender Hues_all_sep_svc_song_refine.wav' 's3://wondera-publicmaterials/udio/Neon Dreams and Tender Hues_all_sep_svc_song_refine.wav'\n",
      "sudo aws s3 cp 'suno/c933c937-a95b-4378-a14c-21d8dee79550.mp3' 's3://wondera-publicmaterials/suno/c933c937-a95b-4378-a14c-21d8dee79550.mp3'\n",
      "sudo aws s3 cp 'suno/c933c937-a95b-4378-a14c-21d8dee79550.mp3' 's3://wondera-publicmaterials/suno/c933c937-a95b-4378-a14c-21d8dee79550.mp3'\n",
      "upload: suno/c933c937-a95b-4378-a14c-21d8dee79550.mp3 to s3://wondera-publicmaterials/suno/c933c937-a95b-4378-a14c-21d8dee79550.mp3\n",
      "sudo aws s3 cp 'suno/c933c937-a95b-4378-a14c-21d8dee79550_all_sep_svc_song.wav' 's3://wondera-publicmaterials/suno/c933c937-a95b-4378-a14c-21d8dee79550_all_sep_svc_song.wav'\n",
      "sudo aws s3 cp 'suno/c933c937-a95b-4378-a14c-21d8dee79550_all_sep_svc_song_refine.wav' 's3://wondera-publicmaterials/suno/c933c937-a95b-4378-a14c-21d8dee79550_all_sep_svc_song_refine.wav'\n",
      "sudo aws s3 cp 'udio/Letting Go of Childhood.mp3' 's3://wondera-publicmaterials/udio/Letting Go of Childhood.mp3'\n",
      "sudo aws s3 cp 'udio/Letting Go of Childhood.mp3' 's3://wondera-publicmaterials/udio/Letting Go of Childhood.mp3'\n",
      "upload: udio/Letting Go of Childhood.mp3 to s3://wondera-publicmaterials/udio/Letting Go of Childhood.mp3\n",
      "sudo aws s3 cp 'udio/Letting Go of Childhood_all_sep_svc_song.wav' 's3://wondera-publicmaterials/udio/Letting Go of Childhood_all_sep_svc_song.wav'\n",
      "sudo aws s3 cp 'udio/Letting Go of Childhood_all_sep_svc_song_refine.wav' 's3://wondera-publicmaterials/udio/Letting Go of Childhood_all_sep_svc_song_refine.wav'\n",
      "sudo aws s3 cp 'suno/e6d94f21-a228-4f30-8a81-aaf2058e1a94.mp3' 's3://wondera-publicmaterials/suno/e6d94f21-a228-4f30-8a81-aaf2058e1a94.mp3'\n",
      "sudo aws s3 cp 'suno/e6d94f21-a228-4f30-8a81-aaf2058e1a94.mp3' 's3://wondera-publicmaterials/suno/e6d94f21-a228-4f30-8a81-aaf2058e1a94.mp3'\n",
      "upload: suno/e6d94f21-a228-4f30-8a81-aaf2058e1a94.mp3 to s3://wondera-publicmaterials/suno/e6d94f21-a228-4f30-8a81-aaf2058e1a94.mp3\n",
      "sudo aws s3 cp 'suno/e6d94f21-a228-4f30-8a81-aaf2058e1a94_all_sep_svc_song.wav' 's3://wondera-publicmaterials/suno/e6d94f21-a228-4f30-8a81-aaf2058e1a94_all_sep_svc_song.wav'\n",
      "sudo aws s3 cp 'suno/e6d94f21-a228-4f30-8a81-aaf2058e1a94_all_sep_svc_song_refine.wav' 's3://wondera-publicmaterials/suno/e6d94f21-a228-4f30-8a81-aaf2058e1a94_all_sep_svc_song_refine.wav'\n",
      "sudo aws s3 cp 'udio/Embrace of Shadows.mp3' 's3://wondera-publicmaterials/udio/Embrace of Shadows.mp3'\n",
      "sudo aws s3 cp 'udio/Embrace of Shadows.mp3' 's3://wondera-publicmaterials/udio/Embrace of Shadows.mp3'\n",
      "upload: udio/Embrace of Shadows.mp3 to s3://wondera-publicmaterials/udio/Embrace of Shadows.mp3\n",
      "sudo aws s3 cp 'udio/Embrace of Shadows_all_sep_svc_song.wav' 's3://wondera-publicmaterials/udio/Embrace of Shadows_all_sep_svc_song.wav'\n",
      "sudo aws s3 cp 'udio/Embrace of Shadows_all_sep_svc_song_refine.wav' 's3://wondera-publicmaterials/udio/Embrace of Shadows_all_sep_svc_song_refine.wav'\n",
      "sudo aws s3 cp 'suno/c4aa2b3a-b94d-4295-ac92-edddc62d1aae.mp3' 's3://wondera-publicmaterials/suno/c4aa2b3a-b94d-4295-ac92-edddc62d1aae.mp3'\n",
      "sudo aws s3 cp 'suno/c4aa2b3a-b94d-4295-ac92-edddc62d1aae.mp3' 's3://wondera-publicmaterials/suno/c4aa2b3a-b94d-4295-ac92-edddc62d1aae.mp3'\n",
      "upload: suno/c4aa2b3a-b94d-4295-ac92-edddc62d1aae.mp3 to s3://wondera-publicmaterials/suno/c4aa2b3a-b94d-4295-ac92-edddc62d1aae.mp3\n",
      "sudo aws s3 cp 'suno/c4aa2b3a-b94d-4295-ac92-edddc62d1aae_all_sep_svc_song.wav' 's3://wondera-publicmaterials/suno/c4aa2b3a-b94d-4295-ac92-edddc62d1aae_all_sep_svc_song.wav'\n",
      "sudo aws s3 cp 'suno/c4aa2b3a-b94d-4295-ac92-edddc62d1aae_all_sep_svc_song_refine.wav' 's3://wondera-publicmaterials/suno/c4aa2b3a-b94d-4295-ac92-edddc62d1aae_all_sep_svc_song_refine.wav'\n",
      "sudo aws s3 cp 'udio/Lessons in Reflection.mp3' 's3://wondera-publicmaterials/udio/Lessons in Reflection.mp3'\n",
      "sudo aws s3 cp 'udio/Lessons in Reflection.mp3' 's3://wondera-publicmaterials/udio/Lessons in Reflection.mp3'\n",
      "upload: udio/Lessons in Reflection.mp3 to s3://wondera-publicmaterials/udio/Lessons in Reflection.mp3\n",
      "sudo aws s3 cp 'udio/Lessons in Reflection_all_sep_svc_song.wav' 's3://wondera-publicmaterials/udio/Lessons in Reflection_all_sep_svc_song.wav'\n",
      "sudo aws s3 cp 'udio/Lessons in Reflection_all_sep_svc_song_refine.wav' 's3://wondera-publicmaterials/udio/Lessons in Reflection_all_sep_svc_song_refine.wav'\n",
      "sudo aws s3 cp 'suno/50a03c63-c1a4-4847-908b-79a2bb546f9e.mp3' 's3://wondera-publicmaterials/suno/50a03c63-c1a4-4847-908b-79a2bb546f9e.mp3'\n",
      "sudo aws s3 cp 'suno/50a03c63-c1a4-4847-908b-79a2bb546f9e.mp3' 's3://wondera-publicmaterials/suno/50a03c63-c1a4-4847-908b-79a2bb546f9e.mp3'\n",
      "upload: suno/50a03c63-c1a4-4847-908b-79a2bb546f9e.mp3 to s3://wondera-publicmaterials/suno/50a03c63-c1a4-4847-908b-79a2bb546f9e.mp3\n",
      "sudo aws s3 cp 'suno/50a03c63-c1a4-4847-908b-79a2bb546f9e_all_sep_svc_song.wav' 's3://wondera-publicmaterials/suno/50a03c63-c1a4-4847-908b-79a2bb546f9e_all_sep_svc_song.wav'\n",
      "sudo aws s3 cp 'suno/50a03c63-c1a4-4847-908b-79a2bb546f9e_all_sep_svc_song_refine.wav' 's3://wondera-publicmaterials/suno/50a03c63-c1a4-4847-908b-79a2bb546f9e_all_sep_svc_song_refine.wav'\n",
      "sudo aws s3 cp 'udio/Moments of Bravery.mp3' 's3://wondera-publicmaterials/udio/Moments of Bravery.mp3'\n",
      "sudo aws s3 cp 'udio/Moments of Bravery.mp3' 's3://wondera-publicmaterials/udio/Moments of Bravery.mp3'\n",
      "upload: udio/Moments of Bravery.mp3 to s3://wondera-publicmaterials/udio/Moments of Bravery.mp3\n",
      "sudo aws s3 cp 'udio/Moments of Bravery_all_sep_svc_song.wav' 's3://wondera-publicmaterials/udio/Moments of Bravery_all_sep_svc_song.wav'\n",
      "sudo aws s3 cp 'udio/Moments of Bravery_all_sep_svc_song_refine.wav' 's3://wondera-publicmaterials/udio/Moments of Bravery_all_sep_svc_song_refine.wav'\n",
      "sudo aws s3 cp 'suno/9f7781c0-86ad-4f15-b25e-aaffe1b4af79.mp3' 's3://wondera-publicmaterials/suno/9f7781c0-86ad-4f15-b25e-aaffe1b4af79.mp3'\n",
      "sudo aws s3 cp 'suno/9f7781c0-86ad-4f15-b25e-aaffe1b4af79.mp3' 's3://wondera-publicmaterials/suno/9f7781c0-86ad-4f15-b25e-aaffe1b4af79.mp3'\n",
      "upload: suno/9f7781c0-86ad-4f15-b25e-aaffe1b4af79.mp3 to s3://wondera-publicmaterials/suno/9f7781c0-86ad-4f15-b25e-aaffe1b4af79.mp3\n",
      "sudo aws s3 cp 'suno/9f7781c0-86ad-4f15-b25e-aaffe1b4af79_all_sep_svc_song.wav' 's3://wondera-publicmaterials/suno/9f7781c0-86ad-4f15-b25e-aaffe1b4af79_all_sep_svc_song.wav'\n",
      "sudo aws s3 cp 'suno/9f7781c0-86ad-4f15-b25e-aaffe1b4af79_all_sep_svc_song_refine.wav' 's3://wondera-publicmaterials/suno/9f7781c0-86ad-4f15-b25e-aaffe1b4af79_all_sep_svc_song_refine.wav'\n",
      "sudo aws s3 cp 'udio/Chasing Heartache.mp3' 's3://wondera-publicmaterials/udio/Chasing Heartache.mp3'\n",
      "sudo aws s3 cp 'udio/Chasing Heartache.mp3' 's3://wondera-publicmaterials/udio/Chasing Heartache.mp3'\n",
      "upload: udio/Chasing Heartache.mp3 to s3://wondera-publicmaterials/udio/Chasing Heartache.mp3\n",
      "sudo aws s3 cp 'udio/Chasing Heartache_all_sep_svc_song.wav' 's3://wondera-publicmaterials/udio/Chasing Heartache_all_sep_svc_song.wav'\n",
      "sudo aws s3 cp 'udio/Chasing Heartache_all_sep_svc_song_refine.wav' 's3://wondera-publicmaterials/udio/Chasing Heartache_all_sep_svc_song_refine.wav'\n",
      "sudo aws s3 cp 'suno/6164a646-c256-4d09-9e27-3d19112989fa.mp3' 's3://wondera-publicmaterials/suno/6164a646-c256-4d09-9e27-3d19112989fa.mp3'\n",
      "sudo aws s3 cp 'suno/6164a646-c256-4d09-9e27-3d19112989fa.mp3' 's3://wondera-publicmaterials/suno/6164a646-c256-4d09-9e27-3d19112989fa.mp3'\n",
      "upload: suno/6164a646-c256-4d09-9e27-3d19112989fa.mp3 to s3://wondera-publicmaterials/suno/6164a646-c256-4d09-9e27-3d19112989fa.mp3\n",
      "sudo aws s3 cp 'suno/6164a646-c256-4d09-9e27-3d19112989fa_all_sep_svc_song.wav' 's3://wondera-publicmaterials/suno/6164a646-c256-4d09-9e27-3d19112989fa_all_sep_svc_song.wav'\n",
      "sudo aws s3 cp 'suno/6164a646-c256-4d09-9e27-3d19112989fa_all_sep_svc_song_refine.wav' 's3://wondera-publicmaterials/suno/6164a646-c256-4d09-9e27-3d19112989fa_all_sep_svc_song_refine.wav'\n",
      "sudo aws s3 cp 'udio/What Lies Beneath.mp3' 's3://wondera-publicmaterials/udio/What Lies Beneath.mp3'\n",
      "sudo aws s3 cp 'udio/What Lies Beneath.mp3' 's3://wondera-publicmaterials/udio/What Lies Beneath.mp3'\n",
      "upload: udio/What Lies Beneath.mp3 to s3://wondera-publicmaterials/udio/What Lies Beneath.mp3\n",
      "sudo aws s3 cp 'udio/What Lies Beneath_all_sep_svc_song.wav' 's3://wondera-publicmaterials/udio/What Lies Beneath_all_sep_svc_song.wav'\n",
      "sudo aws s3 cp 'udio/What Lies Beneath_all_sep_svc_song_refine.wav' 's3://wondera-publicmaterials/udio/What Lies Beneath_all_sep_svc_song_refine.wav'\n",
      "sudo aws s3 cp 'suno/2896a364-1936-4048-b622-361eb017bbef.mp3' 's3://wondera-publicmaterials/suno/2896a364-1936-4048-b622-361eb017bbef.mp3'\n",
      "sudo aws s3 cp 'suno/2896a364-1936-4048-b622-361eb017bbef.mp3' 's3://wondera-publicmaterials/suno/2896a364-1936-4048-b622-361eb017bbef.mp3'\n",
      "upload: suno/2896a364-1936-4048-b622-361eb017bbef.mp3 to s3://wondera-publicmaterials/suno/2896a364-1936-4048-b622-361eb017bbef.mp3\n",
      "sudo aws s3 cp 'suno/2896a364-1936-4048-b622-361eb017bbef_all_sep_svc_song.wav' 's3://wondera-publicmaterials/suno/2896a364-1936-4048-b622-361eb017bbef_all_sep_svc_song.wav'\n",
      "sudo aws s3 cp 'suno/2896a364-1936-4048-b622-361eb017bbef_all_sep_svc_song_refine.wav' 's3://wondera-publicmaterials/suno/2896a364-1936-4048-b622-361eb017bbef_all_sep_svc_song_refine.wav'\n",
      "sudo aws s3 cp 'udio/Tangled Lessons.mp3' 's3://wondera-publicmaterials/udio/Tangled Lessons.mp3'\n",
      "sudo aws s3 cp 'udio/Tangled Lessons.mp3' 's3://wondera-publicmaterials/udio/Tangled Lessons.mp3'\n",
      "upload: udio/Tangled Lessons.mp3 to s3://wondera-publicmaterials/udio/Tangled Lessons.mp3\n",
      "sudo aws s3 cp 'udio/Tangled Lessons_all_sep_svc_song.wav' 's3://wondera-publicmaterials/udio/Tangled Lessons_all_sep_svc_song.wav'\n",
      "sudo aws s3 cp 'udio/Tangled Lessons_all_sep_svc_song_refine.wav' 's3://wondera-publicmaterials/udio/Tangled Lessons_all_sep_svc_song_refine.wav'\n",
      "sudo aws s3 cp 'suno/7c6d5ccd-5970-4748-8bfc-5358f36b7a75.mp3' 's3://wondera-publicmaterials/suno/7c6d5ccd-5970-4748-8bfc-5358f36b7a75.mp3'\n",
      "sudo aws s3 cp 'suno/7c6d5ccd-5970-4748-8bfc-5358f36b7a75.mp3' 's3://wondera-publicmaterials/suno/7c6d5ccd-5970-4748-8bfc-5358f36b7a75.mp3'\n",
      "upload: suno/7c6d5ccd-5970-4748-8bfc-5358f36b7a75.mp3 to s3://wondera-publicmaterials/suno/7c6d5ccd-5970-4748-8bfc-5358f36b7a75.mp3\n",
      "sudo aws s3 cp 'suno/7c6d5ccd-5970-4748-8bfc-5358f36b7a75_all_sep_svc_song.wav' 's3://wondera-publicmaterials/suno/7c6d5ccd-5970-4748-8bfc-5358f36b7a75_all_sep_svc_song.wav'\n",
      "sudo aws s3 cp 'suno/7c6d5ccd-5970-4748-8bfc-5358f36b7a75_all_sep_svc_song_refine.wav' 's3://wondera-publicmaterials/suno/7c6d5ccd-5970-4748-8bfc-5358f36b7a75_all_sep_svc_song_refine.wav'\n",
      "sudo aws s3 cp 'udio/Embracing the Unadorned.mp3' 's3://wondera-publicmaterials/udio/Embracing the Unadorned.mp3'\n",
      "sudo aws s3 cp 'udio/Embracing the Unadorned.mp3' 's3://wondera-publicmaterials/udio/Embracing the Unadorned.mp3'\n",
      "upload: udio/Embracing the Unadorned.mp3 to s3://wondera-publicmaterials/udio/Embracing the Unadorned.mp3\n",
      "sudo aws s3 cp 'udio/Embracing the Unadorned_all_sep_svc_song.wav' 's3://wondera-publicmaterials/udio/Embracing the Unadorned_all_sep_svc_song.wav'\n",
      "sudo aws s3 cp 'udio/Embracing the Unadorned_all_sep_svc_song_refine.wav' 's3://wondera-publicmaterials/udio/Embracing the Unadorned_all_sep_svc_song_refine.wav'\n",
      "sudo aws s3 cp 'suno/56286cb6-d4c5-4700-88b6-02e6cc65a4f9.mp3' 's3://wondera-publicmaterials/suno/56286cb6-d4c5-4700-88b6-02e6cc65a4f9.mp3'\n",
      "sudo aws s3 cp 'suno/56286cb6-d4c5-4700-88b6-02e6cc65a4f9.mp3' 's3://wondera-publicmaterials/suno/56286cb6-d4c5-4700-88b6-02e6cc65a4f9.mp3'\n",
      "upload: suno/56286cb6-d4c5-4700-88b6-02e6cc65a4f9.mp3 to s3://wondera-publicmaterials/suno/56286cb6-d4c5-4700-88b6-02e6cc65a4f9.mp3\n",
      "sudo aws s3 cp 'suno/56286cb6-d4c5-4700-88b6-02e6cc65a4f9_all_sep_svc_song.wav' 's3://wondera-publicmaterials/suno/56286cb6-d4c5-4700-88b6-02e6cc65a4f9_all_sep_svc_song.wav'\n",
      "sudo aws s3 cp 'suno/56286cb6-d4c5-4700-88b6-02e6cc65a4f9_all_sep_svc_song_refine.wav' 's3://wondera-publicmaterials/suno/56286cb6-d4c5-4700-88b6-02e6cc65a4f9_all_sep_svc_song_refine.wav'\n",
      "sudo aws s3 cp 'udio/Moments of Light.mp3' 's3://wondera-publicmaterials/udio/Moments of Light.mp3'\n",
      "sudo aws s3 cp 'udio/Moments of Light.mp3' 's3://wondera-publicmaterials/udio/Moments of Light.mp3'\n",
      "upload: udio/Moments of Light.mp3 to s3://wondera-publicmaterials/udio/Moments of Light.mp3\n",
      "sudo aws s3 cp 'udio/Moments of Light_all_sep_svc_song.wav' 's3://wondera-publicmaterials/udio/Moments of Light_all_sep_svc_song.wav'\n",
      "sudo aws s3 cp 'udio/Moments of Light_all_sep_svc_song_refine.wav' 's3://wondera-publicmaterials/udio/Moments of Light_all_sep_svc_song_refine.wav'\n",
      "sudo aws s3 cp 'suno/6ee70df5-d40b-4d4e-9da2-98a501205558.mp3' 's3://wondera-publicmaterials/suno/6ee70df5-d40b-4d4e-9da2-98a501205558.mp3'\n",
      "sudo aws s3 cp 'suno/6ee70df5-d40b-4d4e-9da2-98a501205558.mp3' 's3://wondera-publicmaterials/suno/6ee70df5-d40b-4d4e-9da2-98a501205558.mp3'\n",
      "upload: suno/6ee70df5-d40b-4d4e-9da2-98a501205558.mp3 to s3://wondera-publicmaterials/suno/6ee70df5-d40b-4d4e-9da2-98a501205558.mp3\n",
      "sudo aws s3 cp 'suno/6ee70df5-d40b-4d4e-9da2-98a501205558_all_sep_svc_song.wav' 's3://wondera-publicmaterials/suno/6ee70df5-d40b-4d4e-9da2-98a501205558_all_sep_svc_song.wav'\n",
      "sudo aws s3 cp 'suno/6ee70df5-d40b-4d4e-9da2-98a501205558_all_sep_svc_song_refine.wav' 's3://wondera-publicmaterials/suno/6ee70df5-d40b-4d4e-9da2-98a501205558_all_sep_svc_song_refine.wav'\n",
      "sudo aws s3 cp 'udio/Torn Between Two Worlds.mp3' 's3://wondera-publicmaterials/udio/Torn Between Two Worlds.mp3'\n",
      "sudo aws s3 cp 'udio/Torn Between Two Worlds.mp3' 's3://wondera-publicmaterials/udio/Torn Between Two Worlds.mp3'\n",
      "upload: udio/Torn Between Two Worlds.mp3 to s3://wondera-publicmaterials/udio/Torn Between Two Worlds.mp3\n",
      "sudo aws s3 cp 'udio/Torn Between Two Worlds_all_sep_svc_song.wav' 's3://wondera-publicmaterials/udio/Torn Between Two Worlds_all_sep_svc_song.wav'\n",
      "sudo aws s3 cp 'udio/Torn Between Two Worlds_all_sep_svc_song_refine.wav' 's3://wondera-publicmaterials/udio/Torn Between Two Worlds_all_sep_svc_song_refine.wav'\n",
      "sudo aws s3 cp 'suno/dfc863d1-512a-4ffd-a0b5-6b6cad2e9dcc.mp3' 's3://wondera-publicmaterials/suno/dfc863d1-512a-4ffd-a0b5-6b6cad2e9dcc.mp3'\n",
      "sudo aws s3 cp 'suno/dfc863d1-512a-4ffd-a0b5-6b6cad2e9dcc.mp3' 's3://wondera-publicmaterials/suno/dfc863d1-512a-4ffd-a0b5-6b6cad2e9dcc.mp3'\n",
      "upload: suno/dfc863d1-512a-4ffd-a0b5-6b6cad2e9dcc.mp3 to s3://wondera-publicmaterials/suno/dfc863d1-512a-4ffd-a0b5-6b6cad2e9dcc.mp3\n",
      "sudo aws s3 cp 'suno/dfc863d1-512a-4ffd-a0b5-6b6cad2e9dcc_all_sep_svc_song.wav' 's3://wondera-publicmaterials/suno/dfc863d1-512a-4ffd-a0b5-6b6cad2e9dcc_all_sep_svc_song.wav'\n",
      "sudo aws s3 cp 'suno/dfc863d1-512a-4ffd-a0b5-6b6cad2e9dcc_all_sep_svc_song_refine.wav' 's3://wondera-publicmaterials/suno/dfc863d1-512a-4ffd-a0b5-6b6cad2e9dcc_all_sep_svc_song_refine.wav'\n",
      "sudo aws s3 cp 'udio/Dreams in the Desert.mp3' 's3://wondera-publicmaterials/udio/Dreams in the Desert.mp3'\n",
      "sudo aws s3 cp 'udio/Dreams in the Desert.mp3' 's3://wondera-publicmaterials/udio/Dreams in the Desert.mp3'\n",
      "upload: udio/Dreams in the Desert.mp3 to s3://wondera-publicmaterials/udio/Dreams in the Desert.mp3\n",
      "sudo aws s3 cp 'udio/Dreams in the Desert_all_sep_svc_song.wav' 's3://wondera-publicmaterials/udio/Dreams in the Desert_all_sep_svc_song.wav'\n",
      "sudo aws s3 cp 'udio/Dreams in the Desert_all_sep_svc_song_refine.wav' 's3://wondera-publicmaterials/udio/Dreams in the Desert_all_sep_svc_song_refine.wav'\n",
      "sudo aws s3 cp 'suno/391a2a6f-0cff-48cd-b57d-7023fc0521f4.mp3' 's3://wondera-publicmaterials/suno/391a2a6f-0cff-48cd-b57d-7023fc0521f4.mp3'\n",
      "sudo aws s3 cp 'suno/391a2a6f-0cff-48cd-b57d-7023fc0521f4.mp3' 's3://wondera-publicmaterials/suno/391a2a6f-0cff-48cd-b57d-7023fc0521f4.mp3'\n",
      "upload: suno/391a2a6f-0cff-48cd-b57d-7023fc0521f4.mp3 to s3://wondera-publicmaterials/suno/391a2a6f-0cff-48cd-b57d-7023fc0521f4.mp3\n",
      "sudo aws s3 cp 'suno/391a2a6f-0cff-48cd-b57d-7023fc0521f4_all_sep_svc_song.wav' 's3://wondera-publicmaterials/suno/391a2a6f-0cff-48cd-b57d-7023fc0521f4_all_sep_svc_song.wav'\n",
      "sudo aws s3 cp 'suno/391a2a6f-0cff-48cd-b57d-7023fc0521f4_all_sep_svc_song_refine.wav' 's3://wondera-publicmaterials/suno/391a2a6f-0cff-48cd-b57d-7023fc0521f4_all_sep_svc_song_refine.wav'\n",
      "sudo aws s3 cp 'udio/Into the Wild.mp3' 's3://wondera-publicmaterials/udio/Into the Wild.mp3'\n",
      "sudo aws s3 cp 'udio/Into the Wild.mp3' 's3://wondera-publicmaterials/udio/Into the Wild.mp3'\n",
      "upload: udio/Into the Wild.mp3 to s3://wondera-publicmaterials/udio/Into the Wild.mp3\n",
      "sudo aws s3 cp 'udio/Into the Wild_all_sep_svc_song.wav' 's3://wondera-publicmaterials/udio/Into the Wild_all_sep_svc_song.wav'\n",
      "sudo aws s3 cp 'udio/Into the Wild_all_sep_svc_song_refine.wav' 's3://wondera-publicmaterials/udio/Into the Wild_all_sep_svc_song_refine.wav'\n",
      "sudo aws s3 cp 'suno/b99fd038-0ce8-4d22-ae8e-eea6c8b337f7.mp3' 's3://wondera-publicmaterials/suno/b99fd038-0ce8-4d22-ae8e-eea6c8b337f7.mp3'\n",
      "sudo aws s3 cp 'suno/b99fd038-0ce8-4d22-ae8e-eea6c8b337f7.mp3' 's3://wondera-publicmaterials/suno/b99fd038-0ce8-4d22-ae8e-eea6c8b337f7.mp3'\n",
      "upload: suno/b99fd038-0ce8-4d22-ae8e-eea6c8b337f7.mp3 to s3://wondera-publicmaterials/suno/b99fd038-0ce8-4d22-ae8e-eea6c8b337f7.mp3\n",
      "sudo aws s3 cp 'suno/b99fd038-0ce8-4d22-ae8e-eea6c8b337f7_all_sep_svc_song.wav' 's3://wondera-publicmaterials/suno/b99fd038-0ce8-4d22-ae8e-eea6c8b337f7_all_sep_svc_song.wav'\n",
      "sudo aws s3 cp 'suno/b99fd038-0ce8-4d22-ae8e-eea6c8b337f7_all_sep_svc_song_refine.wav' 's3://wondera-publicmaterials/suno/b99fd038-0ce8-4d22-ae8e-eea6c8b337f7_all_sep_svc_song_refine.wav'\n",
      "sudo aws s3 cp 'udio/Echoes of Desolation.mp3' 's3://wondera-publicmaterials/udio/Echoes of Desolation.mp3'\n",
      "sudo aws s3 cp 'udio/Echoes of Desolation.mp3' 's3://wondera-publicmaterials/udio/Echoes of Desolation.mp3'\n",
      "upload: udio/Echoes of Desolation.mp3 to s3://wondera-publicmaterials/udio/Echoes of Desolation.mp3\n",
      "sudo aws s3 cp 'udio/Echoes of Desolation_all_sep_svc_song.wav' 's3://wondera-publicmaterials/udio/Echoes of Desolation_all_sep_svc_song.wav'\n",
      "sudo aws s3 cp 'udio/Echoes of Desolation_all_sep_svc_song_refine.wav' 's3://wondera-publicmaterials/udio/Echoes of Desolation_all_sep_svc_song_refine.wav'\n",
      "sudo aws s3 cp 'suno/f3f61ff0-9ee6-4dbb-a9b3-a071b189e552.mp3' 's3://wondera-publicmaterials/suno/f3f61ff0-9ee6-4dbb-a9b3-a071b189e552.mp3'\n",
      "sudo aws s3 cp 'suno/f3f61ff0-9ee6-4dbb-a9b3-a071b189e552.mp3' 's3://wondera-publicmaterials/suno/f3f61ff0-9ee6-4dbb-a9b3-a071b189e552.mp3'\n",
      "upload: suno/f3f61ff0-9ee6-4dbb-a9b3-a071b189e552.mp3 to s3://wondera-publicmaterials/suno/f3f61ff0-9ee6-4dbb-a9b3-a071b189e552.mp3\n",
      "sudo aws s3 cp 'suno/f3f61ff0-9ee6-4dbb-a9b3-a071b189e552_all_sep_svc_song.wav' 's3://wondera-publicmaterials/suno/f3f61ff0-9ee6-4dbb-a9b3-a071b189e552_all_sep_svc_song.wav'\n",
      "sudo aws s3 cp 'suno/f3f61ff0-9ee6-4dbb-a9b3-a071b189e552_all_sep_svc_song_refine.wav' 's3://wondera-publicmaterials/suno/f3f61ff0-9ee6-4dbb-a9b3-a071b189e552_all_sep_svc_song_refine.wav'\n",
      "sudo aws s3 cp 'udio/Chasing the Stars.mp3' 's3://wondera-publicmaterials/udio/Chasing the Stars.mp3'\n",
      "sudo aws s3 cp 'udio/Chasing the Stars.mp3' 's3://wondera-publicmaterials/udio/Chasing the Stars.mp3'\n",
      "upload: udio/Chasing the Stars.mp3 to s3://wondera-publicmaterials/udio/Chasing the Stars.mp3\n",
      "sudo aws s3 cp 'udio/Chasing the Stars_all_sep_svc_song.wav' 's3://wondera-publicmaterials/udio/Chasing the Stars_all_sep_svc_song.wav'\n",
      "sudo aws s3 cp 'udio/Chasing the Stars_all_sep_svc_song_refine.wav' 's3://wondera-publicmaterials/udio/Chasing the Stars_all_sep_svc_song_refine.wav'\n",
      "sudo aws s3 cp 'suno/51e44bc2-ea3a-4499-b70f-c36750864556.mp3' 's3://wondera-publicmaterials/suno/51e44bc2-ea3a-4499-b70f-c36750864556.mp3'\n",
      "sudo aws s3 cp 'suno/51e44bc2-ea3a-4499-b70f-c36750864556.mp3' 's3://wondera-publicmaterials/suno/51e44bc2-ea3a-4499-b70f-c36750864556.mp3'\n",
      "upload: suno/51e44bc2-ea3a-4499-b70f-c36750864556.mp3 to s3://wondera-publicmaterials/suno/51e44bc2-ea3a-4499-b70f-c36750864556.mp3\n",
      "sudo aws s3 cp 'suno/51e44bc2-ea3a-4499-b70f-c36750864556_all_sep_svc_song.wav' 's3://wondera-publicmaterials/suno/51e44bc2-ea3a-4499-b70f-c36750864556_all_sep_svc_song.wav'\n",
      "sudo aws s3 cp 'suno/51e44bc2-ea3a-4499-b70f-c36750864556_all_sep_svc_song_refine.wav' 's3://wondera-publicmaterials/suno/51e44bc2-ea3a-4499-b70f-c36750864556_all_sep_svc_song_refine.wav'\n",
      "sudo aws s3 cp 'udio/Together We Rise.mp3' 's3://wondera-publicmaterials/udio/Together We Rise.mp3'\n",
      "sudo aws s3 cp 'udio/Together We Rise.mp3' 's3://wondera-publicmaterials/udio/Together We Rise.mp3'\n",
      "upload: udio/Together We Rise.mp3 to s3://wondera-publicmaterials/udio/Together We Rise.mp3\n",
      "sudo aws s3 cp 'udio/Together We Rise_all_sep_svc_song.wav' 's3://wondera-publicmaterials/udio/Together We Rise_all_sep_svc_song.wav'\n",
      "sudo aws s3 cp 'udio/Together We Rise_all_sep_svc_song_refine.wav' 's3://wondera-publicmaterials/udio/Together We Rise_all_sep_svc_song_refine.wav'\n",
      "sudo aws s3 cp 'suno/ecd2191f-e9fa-4123-9105-f8a6c52ee3b6.mp3' 's3://wondera-publicmaterials/suno/ecd2191f-e9fa-4123-9105-f8a6c52ee3b6.mp3'\n",
      "sudo aws s3 cp 'suno/ecd2191f-e9fa-4123-9105-f8a6c52ee3b6.mp3' 's3://wondera-publicmaterials/suno/ecd2191f-e9fa-4123-9105-f8a6c52ee3b6.mp3'\n",
      "upload: suno/ecd2191f-e9fa-4123-9105-f8a6c52ee3b6.mp3 to s3://wondera-publicmaterials/suno/ecd2191f-e9fa-4123-9105-f8a6c52ee3b6.mp3\n",
      "sudo aws s3 cp 'suno/ecd2191f-e9fa-4123-9105-f8a6c52ee3b6_all_sep_svc_song.wav' 's3://wondera-publicmaterials/suno/ecd2191f-e9fa-4123-9105-f8a6c52ee3b6_all_sep_svc_song.wav'\n",
      "sudo aws s3 cp 'suno/ecd2191f-e9fa-4123-9105-f8a6c52ee3b6_all_sep_svc_song_refine.wav' 's3://wondera-publicmaterials/suno/ecd2191f-e9fa-4123-9105-f8a6c52ee3b6_all_sep_svc_song_refine.wav'\n",
      "sudo aws s3 cp 'udio/Strange Kind of World.mp3' 's3://wondera-publicmaterials/udio/Strange Kind of World.mp3'\n",
      "sudo aws s3 cp 'udio/Strange Kind of World.mp3' 's3://wondera-publicmaterials/udio/Strange Kind of World.mp3'\n",
      "upload: udio/Strange Kind of World.mp3 to s3://wondera-publicmaterials/udio/Strange Kind of World.mp3\n",
      "sudo aws s3 cp 'udio/Strange Kind of World_all_sep_svc_song.wav' 's3://wondera-publicmaterials/udio/Strange Kind of World_all_sep_svc_song.wav'\n",
      "sudo aws s3 cp 'udio/Strange Kind of World_all_sep_svc_song_refine.wav' 's3://wondera-publicmaterials/udio/Strange Kind of World_all_sep_svc_song_refine.wav'\n",
      "sudo aws s3 cp 'suno/6ab155ea-2d8a-49ec-a396-d7fbb0ca6203.mp3' 's3://wondera-publicmaterials/suno/6ab155ea-2d8a-49ec-a396-d7fbb0ca6203.mp3'\n",
      "sudo aws s3 cp 'suno/6ab155ea-2d8a-49ec-a396-d7fbb0ca6203.mp3' 's3://wondera-publicmaterials/suno/6ab155ea-2d8a-49ec-a396-d7fbb0ca6203.mp3'\n",
      "upload: suno/6ab155ea-2d8a-49ec-a396-d7fbb0ca6203.mp3 to s3://wondera-publicmaterials/suno/6ab155ea-2d8a-49ec-a396-d7fbb0ca6203.mp3\n",
      "sudo aws s3 cp 'suno/6ab155ea-2d8a-49ec-a396-d7fbb0ca6203_all_sep_svc_song.wav' 's3://wondera-publicmaterials/suno/6ab155ea-2d8a-49ec-a396-d7fbb0ca6203_all_sep_svc_song.wav'\n",
      "sudo aws s3 cp 'suno/6ab155ea-2d8a-49ec-a396-d7fbb0ca6203_all_sep_svc_song_refine.wav' 's3://wondera-publicmaterials/suno/6ab155ea-2d8a-49ec-a396-d7fbb0ca6203_all_sep_svc_song_refine.wav'\n",
      "sudo aws s3 cp 'udio/Through the Storm.mp3' 's3://wondera-publicmaterials/udio/Through the Storm.mp3'\n",
      "sudo aws s3 cp 'udio/Through the Storm.mp3' 's3://wondera-publicmaterials/udio/Through the Storm.mp3'\n",
      "upload: udio/Through the Storm.mp3 to s3://wondera-publicmaterials/udio/Through the Storm.mp3\n",
      "sudo aws s3 cp 'udio/Through the Storm_all_sep_svc_song.wav' 's3://wondera-publicmaterials/udio/Through the Storm_all_sep_svc_song.wav'\n",
      "sudo aws s3 cp 'udio/Through the Storm_all_sep_svc_song_refine.wav' 's3://wondera-publicmaterials/udio/Through the Storm_all_sep_svc_song_refine.wav'\n",
      "sudo aws s3 cp 'suno/b8faf760-e0ec-4b02-add8-e2c052693149.mp3' 's3://wondera-publicmaterials/suno/b8faf760-e0ec-4b02-add8-e2c052693149.mp3'\n",
      "sudo aws s3 cp 'suno/b8faf760-e0ec-4b02-add8-e2c052693149.mp3' 's3://wondera-publicmaterials/suno/b8faf760-e0ec-4b02-add8-e2c052693149.mp3'\n",
      "upload: suno/b8faf760-e0ec-4b02-add8-e2c052693149.mp3 to s3://wondera-publicmaterials/suno/b8faf760-e0ec-4b02-add8-e2c052693149.mp3\n",
      "sudo aws s3 cp 'suno/b8faf760-e0ec-4b02-add8-e2c052693149_all_sep_svc_song.wav' 's3://wondera-publicmaterials/suno/b8faf760-e0ec-4b02-add8-e2c052693149_all_sep_svc_song.wav'\n",
      "sudo aws s3 cp 'suno/b8faf760-e0ec-4b02-add8-e2c052693149_all_sep_svc_song_refine.wav' 's3://wondera-publicmaterials/suno/b8faf760-e0ec-4b02-add8-e2c052693149_all_sep_svc_song_refine.wav'\n",
      "sudo aws s3 cp 'udio/Masks of Illusion.mp3' 's3://wondera-publicmaterials/udio/Masks of Illusion.mp3'\n",
      "sudo aws s3 cp 'udio/Masks of Illusion.mp3' 's3://wondera-publicmaterials/udio/Masks of Illusion.mp3'\n",
      "upload: udio/Masks of Illusion.mp3 to s3://wondera-publicmaterials/udio/Masks of Illusion.mp3\n",
      "sudo aws s3 cp 'udio/Masks of Illusion_all_sep_svc_song.wav' 's3://wondera-publicmaterials/udio/Masks of Illusion_all_sep_svc_song.wav'\n",
      "sudo aws s3 cp 'udio/Masks of Illusion_all_sep_svc_song_refine.wav' 's3://wondera-publicmaterials/udio/Masks of Illusion_all_sep_svc_song_refine.wav'\n",
      "sudo aws s3 cp 'suno/fc4cbe97-3194-4865-9fd9-fc87feb6a7f8.mp3' 's3://wondera-publicmaterials/suno/fc4cbe97-3194-4865-9fd9-fc87feb6a7f8.mp3'\n",
      "sudo aws s3 cp 'suno/fc4cbe97-3194-4865-9fd9-fc87feb6a7f8.mp3' 's3://wondera-publicmaterials/suno/fc4cbe97-3194-4865-9fd9-fc87feb6a7f8.mp3'\n",
      "upload: suno/fc4cbe97-3194-4865-9fd9-fc87feb6a7f8.mp3 to s3://wondera-publicmaterials/suno/fc4cbe97-3194-4865-9fd9-fc87feb6a7f8.mp3\n",
      "sudo aws s3 cp 'suno/fc4cbe97-3194-4865-9fd9-fc87feb6a7f8_all_sep_svc_song.wav' 's3://wondera-publicmaterials/suno/fc4cbe97-3194-4865-9fd9-fc87feb6a7f8_all_sep_svc_song.wav'\n",
      "sudo aws s3 cp 'suno/fc4cbe97-3194-4865-9fd9-fc87feb6a7f8_all_sep_svc_song_refine.wav' 's3://wondera-publicmaterials/suno/fc4cbe97-3194-4865-9fd9-fc87feb6a7f8_all_sep_svc_song_refine.wav'\n",
      "sudo aws s3 cp 'udio/Edge of Bliss.mp3' 's3://wondera-publicmaterials/udio/Edge of Bliss.mp3'\n",
      "sudo aws s3 cp 'udio/Edge of Bliss.mp3' 's3://wondera-publicmaterials/udio/Edge of Bliss.mp3'\n",
      "upload: udio/Edge of Bliss.mp3 to s3://wondera-publicmaterials/udio/Edge of Bliss.mp3\n",
      "sudo aws s3 cp 'udio/Edge of Bliss_all_sep_svc_song.wav' 's3://wondera-publicmaterials/udio/Edge of Bliss_all_sep_svc_song.wav'\n",
      "sudo aws s3 cp 'udio/Edge of Bliss_all_sep_svc_song_refine.wav' 's3://wondera-publicmaterials/udio/Edge of Bliss_all_sep_svc_song_refine.wav'\n",
      "sudo aws s3 cp 'suno/e50efffc-13e5-4c27-a18b-b55337fdf72b.mp3' 's3://wondera-publicmaterials/suno/e50efffc-13e5-4c27-a18b-b55337fdf72b.mp3'\n",
      "sudo aws s3 cp 'suno/e50efffc-13e5-4c27-a18b-b55337fdf72b.mp3' 's3://wondera-publicmaterials/suno/e50efffc-13e5-4c27-a18b-b55337fdf72b.mp3'\n",
      "upload: suno/e50efffc-13e5-4c27-a18b-b55337fdf72b.mp3 to s3://wondera-publicmaterials/suno/e50efffc-13e5-4c27-a18b-b55337fdf72b.mp3\n",
      "sudo aws s3 cp 'suno/e50efffc-13e5-4c27-a18b-b55337fdf72b_all_sep_svc_song.wav' 's3://wondera-publicmaterials/suno/e50efffc-13e5-4c27-a18b-b55337fdf72b_all_sep_svc_song.wav'\n",
      "sudo aws s3 cp 'suno/e50efffc-13e5-4c27-a18b-b55337fdf72b_all_sep_svc_song_refine.wav' 's3://wondera-publicmaterials/suno/e50efffc-13e5-4c27-a18b-b55337fdf72b_all_sep_svc_song_refine.wav'\n",
      "sudo aws s3 cp 'udio/Moments of Choice.mp3' 's3://wondera-publicmaterials/udio/Moments of Choice.mp3'\n",
      "sudo aws s3 cp 'udio/Moments of Choice.mp3' 's3://wondera-publicmaterials/udio/Moments of Choice.mp3'\n",
      "upload: udio/Moments of Choice.mp3 to s3://wondera-publicmaterials/udio/Moments of Choice.mp3\n",
      "sudo aws s3 cp 'udio/Moments of Choice_all_sep_svc_song.wav' 's3://wondera-publicmaterials/udio/Moments of Choice_all_sep_svc_song.wav'\n",
      "sudo aws s3 cp 'udio/Moments of Choice_all_sep_svc_song_refine.wav' 's3://wondera-publicmaterials/udio/Moments of Choice_all_sep_svc_song_refine.wav'\n",
      "sudo aws s3 cp 'suno/19e50170-5ca1-416c-a28d-40b439d1e77f.mp3' 's3://wondera-publicmaterials/suno/19e50170-5ca1-416c-a28d-40b439d1e77f.mp3'\n",
      "sudo aws s3 cp 'suno/19e50170-5ca1-416c-a28d-40b439d1e77f.mp3' 's3://wondera-publicmaterials/suno/19e50170-5ca1-416c-a28d-40b439d1e77f.mp3'\n",
      "upload: suno/19e50170-5ca1-416c-a28d-40b439d1e77f.mp3 to s3://wondera-publicmaterials/suno/19e50170-5ca1-416c-a28d-40b439d1e77f.mp3\n",
      "sudo aws s3 cp 'suno/19e50170-5ca1-416c-a28d-40b439d1e77f_all_sep_svc_song.wav' 's3://wondera-publicmaterials/suno/19e50170-5ca1-416c-a28d-40b439d1e77f_all_sep_svc_song.wav'\n",
      "sudo aws s3 cp 'suno/19e50170-5ca1-416c-a28d-40b439d1e77f_all_sep_svc_song_refine.wav' 's3://wondera-publicmaterials/suno/19e50170-5ca1-416c-a28d-40b439d1e77f_all_sep_svc_song_refine.wav'\n",
      "sudo aws s3 cp 'udio/Diamonds in the Dark.mp3' 's3://wondera-publicmaterials/udio/Diamonds in the Dark.mp3'\n",
      "sudo aws s3 cp 'udio/Diamonds in the Dark.mp3' 's3://wondera-publicmaterials/udio/Diamonds in the Dark.mp3'\n",
      "upload: udio/Diamonds in the Dark.mp3 to s3://wondera-publicmaterials/udio/Diamonds in the Dark.mp3\n",
      "sudo aws s3 cp 'udio/Diamonds in the Dark_all_sep_svc_song.wav' 's3://wondera-publicmaterials/udio/Diamonds in the Dark_all_sep_svc_song.wav'\n",
      "sudo aws s3 cp 'udio/Diamonds in the Dark_all_sep_svc_song_refine.wav' 's3://wondera-publicmaterials/udio/Diamonds in the Dark_all_sep_svc_song_refine.wav'\n",
      "sudo aws s3 cp 'suno/682b83c5-0e67-4c71-99a9-67bf2a2e973b.mp3' 's3://wondera-publicmaterials/suno/682b83c5-0e67-4c71-99a9-67bf2a2e973b.mp3'\n",
      "sudo aws s3 cp 'suno/682b83c5-0e67-4c71-99a9-67bf2a2e973b.mp3' 's3://wondera-publicmaterials/suno/682b83c5-0e67-4c71-99a9-67bf2a2e973b.mp3'\n",
      "upload: suno/682b83c5-0e67-4c71-99a9-67bf2a2e973b.mp3 to s3://wondera-publicmaterials/suno/682b83c5-0e67-4c71-99a9-67bf2a2e973b.mp3\n",
      "sudo aws s3 cp 'suno/682b83c5-0e67-4c71-99a9-67bf2a2e973b_all_sep_svc_song.wav' 's3://wondera-publicmaterials/suno/682b83c5-0e67-4c71-99a9-67bf2a2e973b_all_sep_svc_song.wav'\n",
      "sudo aws s3 cp 'suno/682b83c5-0e67-4c71-99a9-67bf2a2e973b_all_sep_svc_song_refine.wav' 's3://wondera-publicmaterials/suno/682b83c5-0e67-4c71-99a9-67bf2a2e973b_all_sep_svc_song_refine.wav'\n",
      "sudo aws s3 cp 'udio/Mirages at the Shore.mp3' 's3://wondera-publicmaterials/udio/Mirages at the Shore.mp3'\n",
      "sudo aws s3 cp 'udio/Mirages at the Shore.mp3' 's3://wondera-publicmaterials/udio/Mirages at the Shore.mp3'\n",
      "upload: udio/Mirages at the Shore.mp3 to s3://wondera-publicmaterials/udio/Mirages at the Shore.mp3\n",
      "sudo aws s3 cp 'udio/Mirages at the Shore_all_sep_svc_song.wav' 's3://wondera-publicmaterials/udio/Mirages at the Shore_all_sep_svc_song.wav'\n",
      "sudo aws s3 cp 'udio/Mirages at the Shore_all_sep_svc_song_refine.wav' 's3://wondera-publicmaterials/udio/Mirages at the Shore_all_sep_svc_song_refine.wav'\n",
      "sudo aws s3 cp 'suno/61d752fa-9a38-4220-9def-102d7cb9b8de.mp3' 's3://wondera-publicmaterials/suno/61d752fa-9a38-4220-9def-102d7cb9b8de.mp3'\n",
      "sudo aws s3 cp 'suno/61d752fa-9a38-4220-9def-102d7cb9b8de.mp3' 's3://wondera-publicmaterials/suno/61d752fa-9a38-4220-9def-102d7cb9b8de.mp3'\n",
      "upload: suno/61d752fa-9a38-4220-9def-102d7cb9b8de.mp3 to s3://wondera-publicmaterials/suno/61d752fa-9a38-4220-9def-102d7cb9b8de.mp3\n",
      "sudo aws s3 cp 'suno/61d752fa-9a38-4220-9def-102d7cb9b8de_all_sep_svc_song.wav' 's3://wondera-publicmaterials/suno/61d752fa-9a38-4220-9def-102d7cb9b8de_all_sep_svc_song.wav'\n",
      "sudo aws s3 cp 'suno/61d752fa-9a38-4220-9def-102d7cb9b8de_all_sep_svc_song_refine.wav' 's3://wondera-publicmaterials/suno/61d752fa-9a38-4220-9def-102d7cb9b8de_all_sep_svc_song_refine.wav'\n",
      "sudo aws s3 cp 'udio/A Gentle Glow.mp3' 's3://wondera-publicmaterials/udio/A Gentle Glow.mp3'\n",
      "sudo aws s3 cp 'udio/A Gentle Glow.mp3' 's3://wondera-publicmaterials/udio/A Gentle Glow.mp3'\n",
      "upload: udio/A Gentle Glow.mp3 to s3://wondera-publicmaterials/udio/A Gentle Glow.mp3\n",
      "sudo aws s3 cp 'udio/A Gentle Glow_all_sep_svc_song.wav' 's3://wondera-publicmaterials/udio/A Gentle Glow_all_sep_svc_song.wav'\n",
      "sudo aws s3 cp 'udio/A Gentle Glow_all_sep_svc_song_refine.wav' 's3://wondera-publicmaterials/udio/A Gentle Glow_all_sep_svc_song_refine.wav'\n",
      "sudo aws s3 cp 'suno/c81fecf6-09c8-4748-b04d-c9c8628cf178.mp3' 's3://wondera-publicmaterials/suno/c81fecf6-09c8-4748-b04d-c9c8628cf178.mp3'\n",
      "sudo aws s3 cp 'suno/c81fecf6-09c8-4748-b04d-c9c8628cf178.mp3' 's3://wondera-publicmaterials/suno/c81fecf6-09c8-4748-b04d-c9c8628cf178.mp3'\n",
      "upload: suno/c81fecf6-09c8-4748-b04d-c9c8628cf178.mp3 to s3://wondera-publicmaterials/suno/c81fecf6-09c8-4748-b04d-c9c8628cf178.mp3\n",
      "sudo aws s3 cp 'suno/c81fecf6-09c8-4748-b04d-c9c8628cf178_all_sep_svc_song.wav' 's3://wondera-publicmaterials/suno/c81fecf6-09c8-4748-b04d-c9c8628cf178_all_sep_svc_song.wav'\n",
      "sudo aws s3 cp 'suno/c81fecf6-09c8-4748-b04d-c9c8628cf178_all_sep_svc_song_refine.wav' 's3://wondera-publicmaterials/suno/c81fecf6-09c8-4748-b04d-c9c8628cf178_all_sep_svc_song_refine.wav'\n",
      "sudo aws s3 cp 'udio/Finding a Better Road.mp3' 's3://wondera-publicmaterials/udio/Finding a Better Road.mp3'\n",
      "sudo aws s3 cp 'udio/Finding a Better Road.mp3' 's3://wondera-publicmaterials/udio/Finding a Better Road.mp3'\n",
      "upload: udio/Finding a Better Road.mp3 to s3://wondera-publicmaterials/udio/Finding a Better Road.mp3\n",
      "sudo aws s3 cp 'udio/Finding a Better Road_all_sep_svc_song.wav' 's3://wondera-publicmaterials/udio/Finding a Better Road_all_sep_svc_song.wav'\n",
      "sudo aws s3 cp 'udio/Finding a Better Road_all_sep_svc_song_refine.wav' 's3://wondera-publicmaterials/udio/Finding a Better Road_all_sep_svc_song_refine.wav'\n",
      "sudo aws s3 cp 'suno/a7511a64-ade4-4d41-af52-351a5103c61f.mp3' 's3://wondera-publicmaterials/suno/a7511a64-ade4-4d41-af52-351a5103c61f.mp3'\n",
      "sudo aws s3 cp 'suno/a7511a64-ade4-4d41-af52-351a5103c61f.mp3' 's3://wondera-publicmaterials/suno/a7511a64-ade4-4d41-af52-351a5103c61f.mp3'\n",
      "upload: suno/a7511a64-ade4-4d41-af52-351a5103c61f.mp3 to s3://wondera-publicmaterials/suno/a7511a64-ade4-4d41-af52-351a5103c61f.mp3\n",
      "sudo aws s3 cp 'suno/a7511a64-ade4-4d41-af52-351a5103c61f_all_sep_svc_song.wav' 's3://wondera-publicmaterials/suno/a7511a64-ade4-4d41-af52-351a5103c61f_all_sep_svc_song.wav'\n",
      "sudo aws s3 cp 'suno/a7511a64-ade4-4d41-af52-351a5103c61f_all_sep_svc_song_refine.wav' 's3://wondera-publicmaterials/suno/a7511a64-ade4-4d41-af52-351a5103c61f_all_sep_svc_song_refine.wav'\n",
      "sudo aws s3 cp 'udio/Masquerade of Truth.mp3' 's3://wondera-publicmaterials/udio/Masquerade of Truth.mp3'\n",
      "sudo aws s3 cp 'udio/Masquerade of Truth.mp3' 's3://wondera-publicmaterials/udio/Masquerade of Truth.mp3'\n",
      "upload: udio/Masquerade of Truth.mp3 to s3://wondera-publicmaterials/udio/Masquerade of Truth.mp3\n",
      "sudo aws s3 cp 'udio/Masquerade of Truth_all_sep_svc_song.wav' 's3://wondera-publicmaterials/udio/Masquerade of Truth_all_sep_svc_song.wav'\n",
      "sudo aws s3 cp 'udio/Masquerade of Truth_all_sep_svc_song_refine.wav' 's3://wondera-publicmaterials/udio/Masquerade of Truth_all_sep_svc_song_refine.wav'\n",
      "sudo aws s3 cp 'suno/61780159-0569-4f12-a983-d50c964eb4ae.mp3' 's3://wondera-publicmaterials/suno/61780159-0569-4f12-a983-d50c964eb4ae.mp3'\n",
      "sudo aws s3 cp 'suno/61780159-0569-4f12-a983-d50c964eb4ae.mp3' 's3://wondera-publicmaterials/suno/61780159-0569-4f12-a983-d50c964eb4ae.mp3'\n",
      "upload: suno/61780159-0569-4f12-a983-d50c964eb4ae.mp3 to s3://wondera-publicmaterials/suno/61780159-0569-4f12-a983-d50c964eb4ae.mp3\n",
      "sudo aws s3 cp 'suno/61780159-0569-4f12-a983-d50c964eb4ae_all_sep_svc_song.wav' 's3://wondera-publicmaterials/suno/61780159-0569-4f12-a983-d50c964eb4ae_all_sep_svc_song.wav'\n",
      "sudo aws s3 cp 'suno/61780159-0569-4f12-a983-d50c964eb4ae_all_sep_svc_song_refine.wav' 's3://wondera-publicmaterials/suno/61780159-0569-4f12-a983-d50c964eb4ae_all_sep_svc_song_refine.wav'\n",
      "sudo aws s3 cp 'udio/Whispers in the Shadows.mp3' 's3://wondera-publicmaterials/udio/Whispers in the Shadows.mp3'\n",
      "sudo aws s3 cp 'udio/Whispers in the Shadows.mp3' 's3://wondera-publicmaterials/udio/Whispers in the Shadows.mp3'\n",
      "upload: udio/Whispers in the Shadows.mp3 to s3://wondera-publicmaterials/udio/Whispers in the Shadows.mp3\n",
      "sudo aws s3 cp 'udio/Whispers in the Shadows_all_sep_svc_song.wav' 's3://wondera-publicmaterials/udio/Whispers in the Shadows_all_sep_svc_song.wav'\n",
      "sudo aws s3 cp 'udio/Whispers in the Shadows_all_sep_svc_song_refine.wav' 's3://wondera-publicmaterials/udio/Whispers in the Shadows_all_sep_svc_song_refine.wav'\n",
      "sudo aws s3 cp 'suno/b93d5bb3-3dcc-4709-bd81-f7a4a94e4351.mp3' 's3://wondera-publicmaterials/suno/b93d5bb3-3dcc-4709-bd81-f7a4a94e4351.mp3'\n",
      "sudo aws s3 cp 'suno/b93d5bb3-3dcc-4709-bd81-f7a4a94e4351.mp3' 's3://wondera-publicmaterials/suno/b93d5bb3-3dcc-4709-bd81-f7a4a94e4351.mp3'\n",
      "upload: suno/b93d5bb3-3dcc-4709-bd81-f7a4a94e4351.mp3 to s3://wondera-publicmaterials/suno/b93d5bb3-3dcc-4709-bd81-f7a4a94e4351.mp3\n",
      "sudo aws s3 cp 'suno/b93d5bb3-3dcc-4709-bd81-f7a4a94e4351_all_sep_svc_song.wav' 's3://wondera-publicmaterials/suno/b93d5bb3-3dcc-4709-bd81-f7a4a94e4351_all_sep_svc_song.wav'\n",
      "sudo aws s3 cp 'suno/b93d5bb3-3dcc-4709-bd81-f7a4a94e4351_all_sep_svc_song_refine.wav' 's3://wondera-publicmaterials/suno/b93d5bb3-3dcc-4709-bd81-f7a4a94e4351_all_sep_svc_song_refine.wav'\n",
      "sudo aws s3 cp 'udio/Stormy Embrace.mp3' 's3://wondera-publicmaterials/udio/Stormy Embrace.mp3'\n",
      "sudo aws s3 cp 'udio/Stormy Embrace.mp3' 's3://wondera-publicmaterials/udio/Stormy Embrace.mp3'\n",
      "upload: udio/Stormy Embrace.mp3 to s3://wondera-publicmaterials/udio/Stormy Embrace.mp3\n",
      "sudo aws s3 cp 'udio/Stormy Embrace_all_sep_svc_song.wav' 's3://wondera-publicmaterials/udio/Stormy Embrace_all_sep_svc_song.wav'\n",
      "sudo aws s3 cp 'udio/Stormy Embrace_all_sep_svc_song_refine.wav' 's3://wondera-publicmaterials/udio/Stormy Embrace_all_sep_svc_song_refine.wav'\n",
      "sudo aws s3 cp 'suno/56140736-5da6-4686-be6a-eecff9fc932c.mp3' 's3://wondera-publicmaterials/suno/56140736-5da6-4686-be6a-eecff9fc932c.mp3'\n",
      "sudo aws s3 cp 'suno/56140736-5da6-4686-be6a-eecff9fc932c.mp3' 's3://wondera-publicmaterials/suno/56140736-5da6-4686-be6a-eecff9fc932c.mp3'\n",
      "upload: suno/56140736-5da6-4686-be6a-eecff9fc932c.mp3 to s3://wondera-publicmaterials/suno/56140736-5da6-4686-be6a-eecff9fc932c.mp3\n",
      "sudo aws s3 cp 'suno/56140736-5da6-4686-be6a-eecff9fc932c_all_sep_svc_song.wav' 's3://wondera-publicmaterials/suno/56140736-5da6-4686-be6a-eecff9fc932c_all_sep_svc_song.wav'\n",
      "sudo aws s3 cp 'suno/56140736-5da6-4686-be6a-eecff9fc932c_all_sep_svc_song_refine.wav' 's3://wondera-publicmaterials/suno/56140736-5da6-4686-be6a-eecff9fc932c_all_sep_svc_song_refine.wav'\n",
      "sudo aws s3 cp 'udio/Silent Fortitude.mp3' 's3://wondera-publicmaterials/udio/Silent Fortitude.mp3'\n",
      "sudo aws s3 cp 'udio/Silent Fortitude.mp3' 's3://wondera-publicmaterials/udio/Silent Fortitude.mp3'\n",
      "upload: udio/Silent Fortitude.mp3 to s3://wondera-publicmaterials/udio/Silent Fortitude.mp3\n",
      "sudo aws s3 cp 'udio/Silent Fortitude_all_sep_svc_song.wav' 's3://wondera-publicmaterials/udio/Silent Fortitude_all_sep_svc_song.wav'\n",
      "sudo aws s3 cp 'udio/Silent Fortitude_all_sep_svc_song_refine.wav' 's3://wondera-publicmaterials/udio/Silent Fortitude_all_sep_svc_song_refine.wav'\n",
      "sudo aws s3 cp 'suno/0a52af2e-7933-4e42-8734-1cbccef17755.mp3' 's3://wondera-publicmaterials/suno/0a52af2e-7933-4e42-8734-1cbccef17755.mp3'\n",
      "sudo aws s3 cp 'suno/0a52af2e-7933-4e42-8734-1cbccef17755.mp3' 's3://wondera-publicmaterials/suno/0a52af2e-7933-4e42-8734-1cbccef17755.mp3'\n",
      "upload: suno/0a52af2e-7933-4e42-8734-1cbccef17755.mp3 to s3://wondera-publicmaterials/suno/0a52af2e-7933-4e42-8734-1cbccef17755.mp3\n",
      "sudo aws s3 cp 'suno/0a52af2e-7933-4e42-8734-1cbccef17755_all_sep_svc_song.wav' 's3://wondera-publicmaterials/suno/0a52af2e-7933-4e42-8734-1cbccef17755_all_sep_svc_song.wav'\n",
      "sudo aws s3 cp 'suno/0a52af2e-7933-4e42-8734-1cbccef17755_all_sep_svc_song_refine.wav' 's3://wondera-publicmaterials/suno/0a52af2e-7933-4e42-8734-1cbccef17755_all_sep_svc_song_refine.wav'\n",
      "sudo aws s3 cp 'udio/Current of Belonging.mp3' 's3://wondera-publicmaterials/udio/Current of Belonging.mp3'\n",
      "sudo aws s3 cp 'udio/Current of Belonging.mp3' 's3://wondera-publicmaterials/udio/Current of Belonging.mp3'\n",
      "upload: udio/Current of Belonging.mp3 to s3://wondera-publicmaterials/udio/Current of Belonging.mp3\n",
      "sudo aws s3 cp 'udio/Current of Belonging_all_sep_svc_song.wav' 's3://wondera-publicmaterials/udio/Current of Belonging_all_sep_svc_song.wav'\n",
      "sudo aws s3 cp 'udio/Current of Belonging_all_sep_svc_song_refine.wav' 's3://wondera-publicmaterials/udio/Current of Belonging_all_sep_svc_song_refine.wav'\n",
      "sudo aws s3 cp 'suno/cd44897b-028e-471d-b907-87a08d96269a.mp3' 's3://wondera-publicmaterials/suno/cd44897b-028e-471d-b907-87a08d96269a.mp3'\n",
      "sudo aws s3 cp 'suno/cd44897b-028e-471d-b907-87a08d96269a.mp3' 's3://wondera-publicmaterials/suno/cd44897b-028e-471d-b907-87a08d96269a.mp3'\n",
      "upload: suno/cd44897b-028e-471d-b907-87a08d96269a.mp3 to s3://wondera-publicmaterials/suno/cd44897b-028e-471d-b907-87a08d96269a.mp3\n",
      "sudo aws s3 cp 'suno/cd44897b-028e-471d-b907-87a08d96269a_all_sep_svc_song.wav' 's3://wondera-publicmaterials/suno/cd44897b-028e-471d-b907-87a08d96269a_all_sep_svc_song.wav'\n",
      "sudo aws s3 cp 'suno/cd44897b-028e-471d-b907-87a08d96269a_all_sep_svc_song_refine.wav' 's3://wondera-publicmaterials/suno/cd44897b-028e-471d-b907-87a08d96269a_all_sep_svc_song_refine.wav'\n",
      "sudo aws s3 cp 'udio/Wings and Wheels.mp3' 's3://wondera-publicmaterials/udio/Wings and Wheels.mp3'\n",
      "sudo aws s3 cp 'udio/Wings and Wheels.mp3' 's3://wondera-publicmaterials/udio/Wings and Wheels.mp3'\n",
      "upload: udio/Wings and Wheels.mp3 to s3://wondera-publicmaterials/udio/Wings and Wheels.mp3\n",
      "sudo aws s3 cp 'udio/Wings and Wheels_all_sep_svc_song.wav' 's3://wondera-publicmaterials/udio/Wings and Wheels_all_sep_svc_song.wav'\n",
      "sudo aws s3 cp 'udio/Wings and Wheels_all_sep_svc_song_refine.wav' 's3://wondera-publicmaterials/udio/Wings and Wheels_all_sep_svc_song_refine.wav'\n",
      "sudo aws s3 cp 'suno/d9862fa8-583e-46bc-9c47-067b3eb41205.mp3' 's3://wondera-publicmaterials/suno/d9862fa8-583e-46bc-9c47-067b3eb41205.mp3'\n",
      "sudo aws s3 cp 'suno/d9862fa8-583e-46bc-9c47-067b3eb41205.mp3' 's3://wondera-publicmaterials/suno/d9862fa8-583e-46bc-9c47-067b3eb41205.mp3'\n",
      "upload: suno/d9862fa8-583e-46bc-9c47-067b3eb41205.mp3 to s3://wondera-publicmaterials/suno/d9862fa8-583e-46bc-9c47-067b3eb41205.mp3\n",
      "sudo aws s3 cp 'suno/d9862fa8-583e-46bc-9c47-067b3eb41205_all_sep_svc_song.wav' 's3://wondera-publicmaterials/suno/d9862fa8-583e-46bc-9c47-067b3eb41205_all_sep_svc_song.wav'\n",
      "sudo aws s3 cp 'suno/d9862fa8-583e-46bc-9c47-067b3eb41205_all_sep_svc_song_refine.wav' 's3://wondera-publicmaterials/suno/d9862fa8-583e-46bc-9c47-067b3eb41205_all_sep_svc_song_refine.wav'\n",
      "sudo aws s3 cp 'udio/New Horizons Ahead.mp3' 's3://wondera-publicmaterials/udio/New Horizons Ahead.mp3'\n",
      "sudo aws s3 cp 'udio/New Horizons Ahead.mp3' 's3://wondera-publicmaterials/udio/New Horizons Ahead.mp3'\n",
      "upload: udio/New Horizons Ahead.mp3 to s3://wondera-publicmaterials/udio/New Horizons Ahead.mp3\n",
      "sudo aws s3 cp 'udio/New Horizons Ahead_all_sep_svc_song.wav' 's3://wondera-publicmaterials/udio/New Horizons Ahead_all_sep_svc_song.wav'\n",
      "sudo aws s3 cp 'udio/New Horizons Ahead_all_sep_svc_song_refine.wav' 's3://wondera-publicmaterials/udio/New Horizons Ahead_all_sep_svc_song_refine.wav'\n",
      "sudo aws s3 cp 'suno/ca056b05-5e8e-4397-895c-b039277f6d7b.mp3' 's3://wondera-publicmaterials/suno/ca056b05-5e8e-4397-895c-b039277f6d7b.mp3'\n",
      "sudo aws s3 cp 'suno/ca056b05-5e8e-4397-895c-b039277f6d7b.mp3' 's3://wondera-publicmaterials/suno/ca056b05-5e8e-4397-895c-b039277f6d7b.mp3'\n",
      "upload: suno/ca056b05-5e8e-4397-895c-b039277f6d7b.mp3 to s3://wondera-publicmaterials/suno/ca056b05-5e8e-4397-895c-b039277f6d7b.mp3\n",
      "sudo aws s3 cp 'suno/ca056b05-5e8e-4397-895c-b039277f6d7b_all_sep_svc_song.wav' 's3://wondera-publicmaterials/suno/ca056b05-5e8e-4397-895c-b039277f6d7b_all_sep_svc_song.wav'\n",
      "sudo aws s3 cp 'suno/ca056b05-5e8e-4397-895c-b039277f6d7b_all_sep_svc_song_refine.wav' 's3://wondera-publicmaterials/suno/ca056b05-5e8e-4397-895c-b039277f6d7b_all_sep_svc_song_refine.wav'\n",
      "sudo aws s3 cp 'udio/Waves of Solitude.mp3' 's3://wondera-publicmaterials/udio/Waves of Solitude.mp3'\n",
      "sudo aws s3 cp 'udio/Waves of Solitude.mp3' 's3://wondera-publicmaterials/udio/Waves of Solitude.mp3'\n",
      "upload: udio/Waves of Solitude.mp3 to s3://wondera-publicmaterials/udio/Waves of Solitude.mp3\n",
      "sudo aws s3 cp 'udio/Waves of Solitude_all_sep_svc_song.wav' 's3://wondera-publicmaterials/udio/Waves of Solitude_all_sep_svc_song.wav'\n",
      "sudo aws s3 cp 'udio/Waves of Solitude_all_sep_svc_song_refine.wav' 's3://wondera-publicmaterials/udio/Waves of Solitude_all_sep_svc_song_refine.wav'\n",
      "sudo aws s3 cp 'suno/5dfc4b27-6f13-47ae-9820-9db4832fe1c4.mp3' 's3://wondera-publicmaterials/suno/5dfc4b27-6f13-47ae-9820-9db4832fe1c4.mp3'\n",
      "sudo aws s3 cp 'suno/5dfc4b27-6f13-47ae-9820-9db4832fe1c4.mp3' 's3://wondera-publicmaterials/suno/5dfc4b27-6f13-47ae-9820-9db4832fe1c4.mp3'\n",
      "upload: suno/5dfc4b27-6f13-47ae-9820-9db4832fe1c4.mp3 to s3://wondera-publicmaterials/suno/5dfc4b27-6f13-47ae-9820-9db4832fe1c4.mp3\n",
      "sudo aws s3 cp 'suno/5dfc4b27-6f13-47ae-9820-9db4832fe1c4_all_sep_svc_song.wav' 's3://wondera-publicmaterials/suno/5dfc4b27-6f13-47ae-9820-9db4832fe1c4_all_sep_svc_song.wav'\n",
      "sudo aws s3 cp 'suno/5dfc4b27-6f13-47ae-9820-9db4832fe1c4_all_sep_svc_song_refine.wav' 's3://wondera-publicmaterials/suno/5dfc4b27-6f13-47ae-9820-9db4832fe1c4_all_sep_svc_song_refine.wav'\n",
      "sudo aws s3 cp 'udio/A Cheeky Delight.mp3' 's3://wondera-publicmaterials/udio/A Cheeky Delight.mp3'\n",
      "sudo aws s3 cp 'udio/A Cheeky Delight.mp3' 's3://wondera-publicmaterials/udio/A Cheeky Delight.mp3'\n",
      "upload: udio/A Cheeky Delight.mp3 to s3://wondera-publicmaterials/udio/A Cheeky Delight.mp3\n",
      "sudo aws s3 cp 'udio/A Cheeky Delight_all_sep_svc_song.wav' 's3://wondera-publicmaterials/udio/A Cheeky Delight_all_sep_svc_song.wav'\n",
      "sudo aws s3 cp 'udio/A Cheeky Delight_all_sep_svc_song_refine.wav' 's3://wondera-publicmaterials/udio/A Cheeky Delight_all_sep_svc_song_refine.wav'\n",
      "sudo aws s3 cp 'suno/0c8f934c-d99d-4e9a-b9e2-ecccfbc21bf4.mp3' 's3://wondera-publicmaterials/suno/0c8f934c-d99d-4e9a-b9e2-ecccfbc21bf4.mp3'\n",
      "sudo aws s3 cp 'suno/0c8f934c-d99d-4e9a-b9e2-ecccfbc21bf4.mp3' 's3://wondera-publicmaterials/suno/0c8f934c-d99d-4e9a-b9e2-ecccfbc21bf4.mp3'\n",
      "upload: suno/0c8f934c-d99d-4e9a-b9e2-ecccfbc21bf4.mp3 to s3://wondera-publicmaterials/suno/0c8f934c-d99d-4e9a-b9e2-ecccfbc21bf4.mp3\n",
      "sudo aws s3 cp 'suno/0c8f934c-d99d-4e9a-b9e2-ecccfbc21bf4_all_sep_svc_song.wav' 's3://wondera-publicmaterials/suno/0c8f934c-d99d-4e9a-b9e2-ecccfbc21bf4_all_sep_svc_song.wav'\n",
      "sudo aws s3 cp 'suno/0c8f934c-d99d-4e9a-b9e2-ecccfbc21bf4_all_sep_svc_song_refine.wav' 's3://wondera-publicmaterials/suno/0c8f934c-d99d-4e9a-b9e2-ecccfbc21bf4_all_sep_svc_song_refine.wav'\n",
      "sudo aws s3 cp 'udio/Woven Contradictions.mp3' 's3://wondera-publicmaterials/udio/Woven Contradictions.mp3'\n",
      "sudo aws s3 cp 'udio/Woven Contradictions.mp3' 's3://wondera-publicmaterials/udio/Woven Contradictions.mp3'\n",
      "upload: udio/Woven Contradictions.mp3 to s3://wondera-publicmaterials/udio/Woven Contradictions.mp3\n",
      "sudo aws s3 cp 'udio/Woven Contradictions_all_sep_svc_song.wav' 's3://wondera-publicmaterials/udio/Woven Contradictions_all_sep_svc_song.wav'\n",
      "sudo aws s3 cp 'udio/Woven Contradictions_all_sep_svc_song_refine.wav' 's3://wondera-publicmaterials/udio/Woven Contradictions_all_sep_svc_song_refine.wav'\n",
      "sudo aws s3 cp 'suno/797baf50-6424-4253-bc8f-90a3f49b9d46.mp3' 's3://wondera-publicmaterials/suno/797baf50-6424-4253-bc8f-90a3f49b9d46.mp3'\n",
      "sudo aws s3 cp 'suno/797baf50-6424-4253-bc8f-90a3f49b9d46.mp3' 's3://wondera-publicmaterials/suno/797baf50-6424-4253-bc8f-90a3f49b9d46.mp3'\n",
      "upload: suno/797baf50-6424-4253-bc8f-90a3f49b9d46.mp3 to s3://wondera-publicmaterials/suno/797baf50-6424-4253-bc8f-90a3f49b9d46.mp3\n",
      "sudo aws s3 cp 'suno/797baf50-6424-4253-bc8f-90a3f49b9d46_all_sep_svc_song.wav' 's3://wondera-publicmaterials/suno/797baf50-6424-4253-bc8f-90a3f49b9d46_all_sep_svc_song.wav'\n",
      "sudo aws s3 cp 'suno/797baf50-6424-4253-bc8f-90a3f49b9d46_all_sep_svc_song_refine.wav' 's3://wondera-publicmaterials/suno/797baf50-6424-4253-bc8f-90a3f49b9d46_all_sep_svc_song_refine.wav'\n",
      "sudo aws s3 cp 'udio/A Better Life.mp3' 's3://wondera-publicmaterials/udio/A Better Life.mp3'\n",
      "sudo aws s3 cp 'udio/A Better Life.mp3' 's3://wondera-publicmaterials/udio/A Better Life.mp3'\n",
      "upload: udio/A Better Life.mp3 to s3://wondera-publicmaterials/udio/A Better Life.mp3\n",
      "sudo aws s3 cp 'udio/A Better Life_all_sep_svc_song.wav' 's3://wondera-publicmaterials/udio/A Better Life_all_sep_svc_song.wav'\n",
      "sudo aws s3 cp 'udio/A Better Life_all_sep_svc_song_refine.wav' 's3://wondera-publicmaterials/udio/A Better Life_all_sep_svc_song_refine.wav'\n",
      "sudo aws s3 cp 'suno/bb24c7e3-8db8-4ee0-a538-10db3071f858.mp3' 's3://wondera-publicmaterials/suno/bb24c7e3-8db8-4ee0-a538-10db3071f858.mp3'\n",
      "sudo aws s3 cp 'suno/bb24c7e3-8db8-4ee0-a538-10db3071f858.mp3' 's3://wondera-publicmaterials/suno/bb24c7e3-8db8-4ee0-a538-10db3071f858.mp3'\n",
      "upload: suno/bb24c7e3-8db8-4ee0-a538-10db3071f858.mp3 to s3://wondera-publicmaterials/suno/bb24c7e3-8db8-4ee0-a538-10db3071f858.mp3\n",
      "sudo aws s3 cp 'suno/bb24c7e3-8db8-4ee0-a538-10db3071f858_all_sep_svc_song.wav' 's3://wondera-publicmaterials/suno/bb24c7e3-8db8-4ee0-a538-10db3071f858_all_sep_svc_song.wav'\n",
      "sudo aws s3 cp 'suno/bb24c7e3-8db8-4ee0-a538-10db3071f858_all_sep_svc_song_refine.wav' 's3://wondera-publicmaterials/suno/bb24c7e3-8db8-4ee0-a538-10db3071f858_all_sep_svc_song_refine.wav'\n",
      "sudo aws s3 cp 'udio/Unexpected Moments.mp3' 's3://wondera-publicmaterials/udio/Unexpected Moments.mp3'\n",
      "sudo aws s3 cp 'udio/Unexpected Moments.mp3' 's3://wondera-publicmaterials/udio/Unexpected Moments.mp3'\n",
      "upload: udio/Unexpected Moments.mp3 to s3://wondera-publicmaterials/udio/Unexpected Moments.mp3\n",
      "sudo aws s3 cp 'udio/Unexpected Moments_all_sep_svc_song.wav' 's3://wondera-publicmaterials/udio/Unexpected Moments_all_sep_svc_song.wav'\n",
      "sudo aws s3 cp 'udio/Unexpected Moments_all_sep_svc_song_refine.wav' 's3://wondera-publicmaterials/udio/Unexpected Moments_all_sep_svc_song_refine.wav'\n",
      "sudo aws s3 cp 'suno/22600eb5-fe0f-4adf-8131-d3acefd482d9.mp3' 's3://wondera-publicmaterials/suno/22600eb5-fe0f-4adf-8131-d3acefd482d9.mp3'\n",
      "sudo aws s3 cp 'suno/22600eb5-fe0f-4adf-8131-d3acefd482d9.mp3' 's3://wondera-publicmaterials/suno/22600eb5-fe0f-4adf-8131-d3acefd482d9.mp3'\n",
      "upload: suno/22600eb5-fe0f-4adf-8131-d3acefd482d9.mp3 to s3://wondera-publicmaterials/suno/22600eb5-fe0f-4adf-8131-d3acefd482d9.mp3\n",
      "sudo aws s3 cp 'suno/22600eb5-fe0f-4adf-8131-d3acefd482d9_all_sep_svc_song.wav' 's3://wondera-publicmaterials/suno/22600eb5-fe0f-4adf-8131-d3acefd482d9_all_sep_svc_song.wav'\n",
      "sudo aws s3 cp 'suno/22600eb5-fe0f-4adf-8131-d3acefd482d9_all_sep_svc_song_refine.wav' 's3://wondera-publicmaterials/suno/22600eb5-fe0f-4adf-8131-d3acefd482d9_all_sep_svc_song_refine.wav'\n",
      "sudo aws s3 cp 'udio/Echoes of the Past.mp3' 's3://wondera-publicmaterials/udio/Echoes of the Past.mp3'\n",
      "sudo aws s3 cp 'udio/Echoes of the Past.mp3' 's3://wondera-publicmaterials/udio/Echoes of the Past.mp3'\n",
      "upload: udio/Echoes of the Past.mp3 to s3://wondera-publicmaterials/udio/Echoes of the Past.mp3\n",
      "sudo aws s3 cp 'udio/Echoes of the Past_all_sep_svc_song.wav' 's3://wondera-publicmaterials/udio/Echoes of the Past_all_sep_svc_song.wav'\n",
      "sudo aws s3 cp 'udio/Echoes of the Past_all_sep_svc_song_refine.wav' 's3://wondera-publicmaterials/udio/Echoes of the Past_all_sep_svc_song_refine.wav'\n",
      "sudo aws s3 cp 'suno/92b628db-9dd5-40a1-aa3f-daea0c4cafd1.mp3' 's3://wondera-publicmaterials/suno/92b628db-9dd5-40a1-aa3f-daea0c4cafd1.mp3'\n",
      "sudo aws s3 cp 'suno/92b628db-9dd5-40a1-aa3f-daea0c4cafd1.mp3' 's3://wondera-publicmaterials/suno/92b628db-9dd5-40a1-aa3f-daea0c4cafd1.mp3'\n",
      "upload: suno/92b628db-9dd5-40a1-aa3f-daea0c4cafd1.mp3 to s3://wondera-publicmaterials/suno/92b628db-9dd5-40a1-aa3f-daea0c4cafd1.mp3\n",
      "sudo aws s3 cp 'suno/92b628db-9dd5-40a1-aa3f-daea0c4cafd1_all_sep_svc_song.wav' 's3://wondera-publicmaterials/suno/92b628db-9dd5-40a1-aa3f-daea0c4cafd1_all_sep_svc_song.wav'\n",
      "sudo aws s3 cp 'suno/92b628db-9dd5-40a1-aa3f-daea0c4cafd1_all_sep_svc_song_refine.wav' 's3://wondera-publicmaterials/suno/92b628db-9dd5-40a1-aa3f-daea0c4cafd1_all_sep_svc_song_refine.wav'\n",
      "sudo aws s3 cp 'udio/Whispers of a Dream.mp3' 's3://wondera-publicmaterials/udio/Whispers of a Dream.mp3'\n",
      "sudo aws s3 cp 'udio/Whispers of a Dream.mp3' 's3://wondera-publicmaterials/udio/Whispers of a Dream.mp3'\n",
      "upload: udio/Whispers of a Dream.mp3 to s3://wondera-publicmaterials/udio/Whispers of a Dream.mp3\n",
      "sudo aws s3 cp 'udio/Whispers of a Dream_all_sep_svc_song.wav' 's3://wondera-publicmaterials/udio/Whispers of a Dream_all_sep_svc_song.wav'\n",
      "sudo aws s3 cp 'udio/Whispers of a Dream_all_sep_svc_song_refine.wav' 's3://wondera-publicmaterials/udio/Whispers of a Dream_all_sep_svc_song_refine.wav'\n",
      "sudo aws s3 cp 'suno/36075256-152f-4742-9399-9018873c3294.mp3' 's3://wondera-publicmaterials/suno/36075256-152f-4742-9399-9018873c3294.mp3'\n",
      "sudo aws s3 cp 'suno/36075256-152f-4742-9399-9018873c3294.mp3' 's3://wondera-publicmaterials/suno/36075256-152f-4742-9399-9018873c3294.mp3'\n",
      "upload: suno/36075256-152f-4742-9399-9018873c3294.mp3 to s3://wondera-publicmaterials/suno/36075256-152f-4742-9399-9018873c3294.mp3\n",
      "sudo aws s3 cp 'suno/36075256-152f-4742-9399-9018873c3294_all_sep_svc_song.wav' 's3://wondera-publicmaterials/suno/36075256-152f-4742-9399-9018873c3294_all_sep_svc_song.wav'\n",
      "sudo aws s3 cp 'suno/36075256-152f-4742-9399-9018873c3294_all_sep_svc_song_refine.wav' 's3://wondera-publicmaterials/suno/36075256-152f-4742-9399-9018873c3294_all_sep_svc_song_refine.wav'\n",
      "sudo aws s3 cp 'udio/Bittersweet Solitude.mp3' 's3://wondera-publicmaterials/udio/Bittersweet Solitude.mp3'\n",
      "sudo aws s3 cp 'udio/Bittersweet Solitude.mp3' 's3://wondera-publicmaterials/udio/Bittersweet Solitude.mp3'\n",
      "upload: udio/Bittersweet Solitude.mp3 to s3://wondera-publicmaterials/udio/Bittersweet Solitude.mp3\n",
      "sudo aws s3 cp 'udio/Bittersweet Solitude_all_sep_svc_song.wav' 's3://wondera-publicmaterials/udio/Bittersweet Solitude_all_sep_svc_song.wav'\n",
      "sudo aws s3 cp 'udio/Bittersweet Solitude_all_sep_svc_song_refine.wav' 's3://wondera-publicmaterials/udio/Bittersweet Solitude_all_sep_svc_song_refine.wav'\n",
      "sudo aws s3 cp 'suno/b74c3964-5c06-4862-863c-ecf5ed287a9d.mp3' 's3://wondera-publicmaterials/suno/b74c3964-5c06-4862-863c-ecf5ed287a9d.mp3'\n",
      "sudo aws s3 cp 'suno/b74c3964-5c06-4862-863c-ecf5ed287a9d.mp3' 's3://wondera-publicmaterials/suno/b74c3964-5c06-4862-863c-ecf5ed287a9d.mp3'\n",
      "upload: suno/b74c3964-5c06-4862-863c-ecf5ed287a9d.mp3 to s3://wondera-publicmaterials/suno/b74c3964-5c06-4862-863c-ecf5ed287a9d.mp3\n",
      "sudo aws s3 cp 'suno/b74c3964-5c06-4862-863c-ecf5ed287a9d_all_sep_svc_song.wav' 's3://wondera-publicmaterials/suno/b74c3964-5c06-4862-863c-ecf5ed287a9d_all_sep_svc_song.wav'\n",
      "sudo aws s3 cp 'suno/b74c3964-5c06-4862-863c-ecf5ed287a9d_all_sep_svc_song_refine.wav' 's3://wondera-publicmaterials/suno/b74c3964-5c06-4862-863c-ecf5ed287a9d_all_sep_svc_song_refine.wav'\n",
      "sudo aws s3 cp 'udio/Igniting Desire.mp3' 's3://wondera-publicmaterials/udio/Igniting Desire.mp3'\n",
      "sudo aws s3 cp 'udio/Igniting Desire.mp3' 's3://wondera-publicmaterials/udio/Igniting Desire.mp3'\n",
      "upload: udio/Igniting Desire.mp3 to s3://wondera-publicmaterials/udio/Igniting Desire.mp3\n",
      "sudo aws s3 cp 'udio/Igniting Desire_all_sep_svc_song.wav' 's3://wondera-publicmaterials/udio/Igniting Desire_all_sep_svc_song.wav'\n",
      "sudo aws s3 cp 'udio/Igniting Desire_all_sep_svc_song_refine.wav' 's3://wondera-publicmaterials/udio/Igniting Desire_all_sep_svc_song_refine.wav'\n",
      "sudo aws s3 cp 'suno/c24a60e2-92dc-4984-a7d8-ba0519fb8dae.mp3' 's3://wondera-publicmaterials/suno/c24a60e2-92dc-4984-a7d8-ba0519fb8dae.mp3'\n",
      "sudo aws s3 cp 'suno/c24a60e2-92dc-4984-a7d8-ba0519fb8dae.mp3' 's3://wondera-publicmaterials/suno/c24a60e2-92dc-4984-a7d8-ba0519fb8dae.mp3'\n",
      "upload: suno/c24a60e2-92dc-4984-a7d8-ba0519fb8dae.mp3 to s3://wondera-publicmaterials/suno/c24a60e2-92dc-4984-a7d8-ba0519fb8dae.mp3\n",
      "sudo aws s3 cp 'suno/c24a60e2-92dc-4984-a7d8-ba0519fb8dae_all_sep_svc_song.wav' 's3://wondera-publicmaterials/suno/c24a60e2-92dc-4984-a7d8-ba0519fb8dae_all_sep_svc_song.wav'\n",
      "sudo aws s3 cp 'suno/c24a60e2-92dc-4984-a7d8-ba0519fb8dae_all_sep_svc_song_refine.wav' 's3://wondera-publicmaterials/suno/c24a60e2-92dc-4984-a7d8-ba0519fb8dae_all_sep_svc_song_refine.wav'\n",
      "sudo aws s3 cp 'udio/Whispers of the Red Shed.mp3' 's3://wondera-publicmaterials/udio/Whispers of the Red Shed.mp3'\n",
      "sudo aws s3 cp 'udio/Whispers of the Red Shed.mp3' 's3://wondera-publicmaterials/udio/Whispers of the Red Shed.mp3'\n",
      "upload: udio/Whispers of the Red Shed.mp3 to s3://wondera-publicmaterials/udio/Whispers of the Red Shed.mp3\n",
      "sudo aws s3 cp 'udio/Whispers of the Red Shed_all_sep_svc_song.wav' 's3://wondera-publicmaterials/udio/Whispers of the Red Shed_all_sep_svc_song.wav'\n",
      "sudo aws s3 cp 'udio/Whispers of the Red Shed_all_sep_svc_song_refine.wav' 's3://wondera-publicmaterials/udio/Whispers of the Red Shed_all_sep_svc_song_refine.wav'\n",
      "sudo aws s3 cp 'suno/71460a24-4323-4ff4-b3e1-702317ac5727.mp3' 's3://wondera-publicmaterials/suno/71460a24-4323-4ff4-b3e1-702317ac5727.mp3'\n",
      "sudo aws s3 cp 'suno/71460a24-4323-4ff4-b3e1-702317ac5727.mp3' 's3://wondera-publicmaterials/suno/71460a24-4323-4ff4-b3e1-702317ac5727.mp3'\n",
      "upload: suno/71460a24-4323-4ff4-b3e1-702317ac5727.mp3 to s3://wondera-publicmaterials/suno/71460a24-4323-4ff4-b3e1-702317ac5727.mp3\n",
      "sudo aws s3 cp 'suno/71460a24-4323-4ff4-b3e1-702317ac5727_all_sep_svc_song.wav' 's3://wondera-publicmaterials/suno/71460a24-4323-4ff4-b3e1-702317ac5727_all_sep_svc_song.wav'\n",
      "sudo aws s3 cp 'suno/71460a24-4323-4ff4-b3e1-702317ac5727_all_sep_svc_song_refine.wav' 's3://wondera-publicmaterials/suno/71460a24-4323-4ff4-b3e1-702317ac5727_all_sep_svc_song_refine.wav'\n",
      "sudo aws s3 cp 'udio/Through It All.mp3' 's3://wondera-publicmaterials/udio/Through It All.mp3'\n",
      "sudo aws s3 cp 'udio/Through It All.mp3' 's3://wondera-publicmaterials/udio/Through It All.mp3'\n",
      "upload: udio/Through It All.mp3 to s3://wondera-publicmaterials/udio/Through It All.mp3\n",
      "sudo aws s3 cp 'udio/Through It All_all_sep_svc_song.wav' 's3://wondera-publicmaterials/udio/Through It All_all_sep_svc_song.wav'\n",
      "sudo aws s3 cp 'udio/Through It All_all_sep_svc_song_refine.wav' 's3://wondera-publicmaterials/udio/Through It All_all_sep_svc_song_refine.wav'\n",
      "sudo aws s3 cp 'suno/05cab456-fe8d-4724-abe8-57534eca0c53.mp3' 's3://wondera-publicmaterials/suno/05cab456-fe8d-4724-abe8-57534eca0c53.mp3'\n",
      "sudo aws s3 cp 'suno/05cab456-fe8d-4724-abe8-57534eca0c53.mp3' 's3://wondera-publicmaterials/suno/05cab456-fe8d-4724-abe8-57534eca0c53.mp3'\n",
      "upload: suno/05cab456-fe8d-4724-abe8-57534eca0c53.mp3 to s3://wondera-publicmaterials/suno/05cab456-fe8d-4724-abe8-57534eca0c53.mp3\n",
      "sudo aws s3 cp 'suno/05cab456-fe8d-4724-abe8-57534eca0c53_all_sep_svc_song.wav' 's3://wondera-publicmaterials/suno/05cab456-fe8d-4724-abe8-57534eca0c53_all_sep_svc_song.wav'\n",
      "sudo aws s3 cp 'suno/05cab456-fe8d-4724-abe8-57534eca0c53_all_sep_svc_song_refine.wav' 's3://wondera-publicmaterials/suno/05cab456-fe8d-4724-abe8-57534eca0c53_all_sep_svc_song_refine.wav'\n",
      "sudo aws s3 cp 'udio/Under One Roof.mp3' 's3://wondera-publicmaterials/udio/Under One Roof.mp3'\n",
      "sudo aws s3 cp 'udio/Under One Roof.mp3' 's3://wondera-publicmaterials/udio/Under One Roof.mp3'\n",
      "upload: udio/Under One Roof.mp3 to s3://wondera-publicmaterials/udio/Under One Roof.mp3\n",
      "sudo aws s3 cp 'udio/Under One Roof_all_sep_svc_song.wav' 's3://wondera-publicmaterials/udio/Under One Roof_all_sep_svc_song.wav'\n",
      "sudo aws s3 cp 'udio/Under One Roof_all_sep_svc_song_refine.wav' 's3://wondera-publicmaterials/udio/Under One Roof_all_sep_svc_song_refine.wav'\n",
      "sudo aws s3 cp 'suno/a261f3cc-9b64-49b1-a915-d64716771704.mp3' 's3://wondera-publicmaterials/suno/a261f3cc-9b64-49b1-a915-d64716771704.mp3'\n",
      "sudo aws s3 cp 'suno/a261f3cc-9b64-49b1-a915-d64716771704.mp3' 's3://wondera-publicmaterials/suno/a261f3cc-9b64-49b1-a915-d64716771704.mp3'\n",
      "upload: suno/a261f3cc-9b64-49b1-a915-d64716771704.mp3 to s3://wondera-publicmaterials/suno/a261f3cc-9b64-49b1-a915-d64716771704.mp3\n",
      "sudo aws s3 cp 'suno/a261f3cc-9b64-49b1-a915-d64716771704_all_sep_svc_song.wav' 's3://wondera-publicmaterials/suno/a261f3cc-9b64-49b1-a915-d64716771704_all_sep_svc_song.wav'\n",
      "sudo aws s3 cp 'suno/a261f3cc-9b64-49b1-a915-d64716771704_all_sep_svc_song_refine.wav' 's3://wondera-publicmaterials/suno/a261f3cc-9b64-49b1-a915-d64716771704_all_sep_svc_song_refine.wav'\n",
      "sudo aws s3 cp 'udio/Endless Skies.mp3' 's3://wondera-publicmaterials/udio/Endless Skies.mp3'\n",
      "sudo aws s3 cp 'udio/Endless Skies.mp3' 's3://wondera-publicmaterials/udio/Endless Skies.mp3'\n",
      "upload: udio/Endless Skies.mp3 to s3://wondera-publicmaterials/udio/Endless Skies.mp3\n",
      "sudo aws s3 cp 'udio/Endless Skies_all_sep_svc_song.wav' 's3://wondera-publicmaterials/udio/Endless Skies_all_sep_svc_song.wav'\n",
      "sudo aws s3 cp 'udio/Endless Skies_all_sep_svc_song_refine.wav' 's3://wondera-publicmaterials/udio/Endless Skies_all_sep_svc_song_refine.wav'\n",
      "sudo aws s3 cp 'suno/d27e8a24-50ae-492f-bed8-c4904ee4051c.mp3' 's3://wondera-publicmaterials/suno/d27e8a24-50ae-492f-bed8-c4904ee4051c.mp3'\n",
      "sudo aws s3 cp 'suno/d27e8a24-50ae-492f-bed8-c4904ee4051c.mp3' 's3://wondera-publicmaterials/suno/d27e8a24-50ae-492f-bed8-c4904ee4051c.mp3'\n",
      "upload: suno/d27e8a24-50ae-492f-bed8-c4904ee4051c.mp3 to s3://wondera-publicmaterials/suno/d27e8a24-50ae-492f-bed8-c4904ee4051c.mp3\n",
      "sudo aws s3 cp 'suno/d27e8a24-50ae-492f-bed8-c4904ee4051c_all_sep_svc_song.wav' 's3://wondera-publicmaterials/suno/d27e8a24-50ae-492f-bed8-c4904ee4051c_all_sep_svc_song.wav'\n",
      "sudo aws s3 cp 'suno/d27e8a24-50ae-492f-bed8-c4904ee4051c_all_sep_svc_song_refine.wav' 's3://wondera-publicmaterials/suno/d27e8a24-50ae-492f-bed8-c4904ee4051c_all_sep_svc_song_refine.wav'\n",
      "sudo aws s3 cp 'udio/Wandering Through Twilight.mp3' 's3://wondera-publicmaterials/udio/Wandering Through Twilight.mp3'\n",
      "sudo aws s3 cp 'udio/Wandering Through Twilight.mp3' 's3://wondera-publicmaterials/udio/Wandering Through Twilight.mp3'\n",
      "upload: udio/Wandering Through Twilight.mp3 to s3://wondera-publicmaterials/udio/Wandering Through Twilight.mp3\n",
      "sudo aws s3 cp 'udio/Wandering Through Twilight_all_sep_svc_song.wav' 's3://wondera-publicmaterials/udio/Wandering Through Twilight_all_sep_svc_song.wav'\n",
      "sudo aws s3 cp 'udio/Wandering Through Twilight_all_sep_svc_song_refine.wav' 's3://wondera-publicmaterials/udio/Wandering Through Twilight_all_sep_svc_song_refine.wav'\n",
      "sudo aws s3 cp 'suno/293097eb-a88e-404d-8257-309ce6e5fce6.mp3' 's3://wondera-publicmaterials/suno/293097eb-a88e-404d-8257-309ce6e5fce6.mp3'\n",
      "sudo aws s3 cp 'suno/293097eb-a88e-404d-8257-309ce6e5fce6.mp3' 's3://wondera-publicmaterials/suno/293097eb-a88e-404d-8257-309ce6e5fce6.mp3'\n",
      "upload: suno/293097eb-a88e-404d-8257-309ce6e5fce6.mp3 to s3://wondera-publicmaterials/suno/293097eb-a88e-404d-8257-309ce6e5fce6.mp3\n",
      "sudo aws s3 cp 'suno/293097eb-a88e-404d-8257-309ce6e5fce6_all_sep_svc_song.wav' 's3://wondera-publicmaterials/suno/293097eb-a88e-404d-8257-309ce6e5fce6_all_sep_svc_song.wav'\n",
      "sudo aws s3 cp 'suno/293097eb-a88e-404d-8257-309ce6e5fce6_all_sep_svc_song_refine.wav' 's3://wondera-publicmaterials/suno/293097eb-a88e-404d-8257-309ce6e5fce6_all_sep_svc_song_refine.wav'\n",
      "sudo aws s3 cp 'udio/Fleeting Fantasies.mp3' 's3://wondera-publicmaterials/udio/Fleeting Fantasies.mp3'\n",
      "sudo aws s3 cp 'udio/Fleeting Fantasies.mp3' 's3://wondera-publicmaterials/udio/Fleeting Fantasies.mp3'\n",
      "upload: udio/Fleeting Fantasies.mp3 to s3://wondera-publicmaterials/udio/Fleeting Fantasies.mp3\n",
      "sudo aws s3 cp 'udio/Fleeting Fantasies_all_sep_svc_song.wav' 's3://wondera-publicmaterials/udio/Fleeting Fantasies_all_sep_svc_song.wav'\n",
      "sudo aws s3 cp 'udio/Fleeting Fantasies_all_sep_svc_song_refine.wav' 's3://wondera-publicmaterials/udio/Fleeting Fantasies_all_sep_svc_song_refine.wav'\n",
      "sudo aws s3 cp 'suno/2240122f-f83c-4965-a12a-d8359bee9ac9.mp3' 's3://wondera-publicmaterials/suno/2240122f-f83c-4965-a12a-d8359bee9ac9.mp3'\n",
      "sudo aws s3 cp 'suno/2240122f-f83c-4965-a12a-d8359bee9ac9.mp3' 's3://wondera-publicmaterials/suno/2240122f-f83c-4965-a12a-d8359bee9ac9.mp3'\n",
      "upload: suno/2240122f-f83c-4965-a12a-d8359bee9ac9.mp3 to s3://wondera-publicmaterials/suno/2240122f-f83c-4965-a12a-d8359bee9ac9.mp3\n",
      "sudo aws s3 cp 'suno/2240122f-f83c-4965-a12a-d8359bee9ac9_all_sep_svc_song.wav' 's3://wondera-publicmaterials/suno/2240122f-f83c-4965-a12a-d8359bee9ac9_all_sep_svc_song.wav'\n",
      "sudo aws s3 cp 'suno/2240122f-f83c-4965-a12a-d8359bee9ac9_all_sep_svc_song_refine.wav' 's3://wondera-publicmaterials/suno/2240122f-f83c-4965-a12a-d8359bee9ac9_all_sep_svc_song_refine.wav'\n",
      "sudo aws s3 cp 'udio/Echoes of What Was.mp3' 's3://wondera-publicmaterials/udio/Echoes of What Was.mp3'\n",
      "sudo aws s3 cp 'udio/Echoes of What Was.mp3' 's3://wondera-publicmaterials/udio/Echoes of What Was.mp3'\n",
      "upload: udio/Echoes of What Was.mp3 to s3://wondera-publicmaterials/udio/Echoes of What Was.mp3\n",
      "sudo aws s3 cp 'udio/Echoes of What Was_all_sep_svc_song.wav' 's3://wondera-publicmaterials/udio/Echoes of What Was_all_sep_svc_song.wav'\n",
      "sudo aws s3 cp 'udio/Echoes of What Was_all_sep_svc_song_refine.wav' 's3://wondera-publicmaterials/udio/Echoes of What Was_all_sep_svc_song_refine.wav'\n",
      "sudo aws s3 cp 'suno/5723d64d-f42a-493c-98a7-bbc0e6ba5bd6.mp3' 's3://wondera-publicmaterials/suno/5723d64d-f42a-493c-98a7-bbc0e6ba5bd6.mp3'\n",
      "sudo aws s3 cp 'suno/5723d64d-f42a-493c-98a7-bbc0e6ba5bd6.mp3' 's3://wondera-publicmaterials/suno/5723d64d-f42a-493c-98a7-bbc0e6ba5bd6.mp3'\n",
      "upload: suno/5723d64d-f42a-493c-98a7-bbc0e6ba5bd6.mp3 to s3://wondera-publicmaterials/suno/5723d64d-f42a-493c-98a7-bbc0e6ba5bd6.mp3\n",
      "sudo aws s3 cp 'suno/5723d64d-f42a-493c-98a7-bbc0e6ba5bd6_all_sep_svc_song.wav' 's3://wondera-publicmaterials/suno/5723d64d-f42a-493c-98a7-bbc0e6ba5bd6_all_sep_svc_song.wav'\n",
      "sudo aws s3 cp 'suno/5723d64d-f42a-493c-98a7-bbc0e6ba5bd6_all_sep_svc_song_refine.wav' 's3://wondera-publicmaterials/suno/5723d64d-f42a-493c-98a7-bbc0e6ba5bd6_all_sep_svc_song_refine.wav'\n",
      "sudo aws s3 cp 'udio/Beneath the Surface.mp3' 's3://wondera-publicmaterials/udio/Beneath the Surface.mp3'\n",
      "sudo aws s3 cp 'udio/Beneath the Surface.mp3' 's3://wondera-publicmaterials/udio/Beneath the Surface.mp3'\n",
      "upload: udio/Beneath the Surface.mp3 to s3://wondera-publicmaterials/udio/Beneath the Surface.mp3\n",
      "sudo aws s3 cp 'udio/Beneath the Surface_all_sep_svc_song.wav' 's3://wondera-publicmaterials/udio/Beneath the Surface_all_sep_svc_song.wav'\n",
      "sudo aws s3 cp 'udio/Beneath the Surface_all_sep_svc_song_refine.wav' 's3://wondera-publicmaterials/udio/Beneath the Surface_all_sep_svc_song_refine.wav'\n",
      "sudo aws s3 cp 'suno/7f2e2e73-69a3-44ab-be24-f09646376a83.mp3' 's3://wondera-publicmaterials/suno/7f2e2e73-69a3-44ab-be24-f09646376a83.mp3'\n",
      "sudo aws s3 cp 'suno/7f2e2e73-69a3-44ab-be24-f09646376a83.mp3' 's3://wondera-publicmaterials/suno/7f2e2e73-69a3-44ab-be24-f09646376a83.mp3'\n",
      "upload: suno/7f2e2e73-69a3-44ab-be24-f09646376a83.mp3 to s3://wondera-publicmaterials/suno/7f2e2e73-69a3-44ab-be24-f09646376a83.mp3\n",
      "sudo aws s3 cp 'suno/7f2e2e73-69a3-44ab-be24-f09646376a83_all_sep_svc_song.wav' 's3://wondera-publicmaterials/suno/7f2e2e73-69a3-44ab-be24-f09646376a83_all_sep_svc_song.wav'\n",
      "sudo aws s3 cp 'suno/7f2e2e73-69a3-44ab-be24-f09646376a83_all_sep_svc_song_refine.wav' 's3://wondera-publicmaterials/suno/7f2e2e73-69a3-44ab-be24-f09646376a83_all_sep_svc_song_refine.wav'\n",
      "sudo aws s3 cp 'udio/Echoes of Journeys.mp3' 's3://wondera-publicmaterials/udio/Echoes of Journeys.mp3'\n",
      "sudo aws s3 cp 'udio/Echoes of Journeys.mp3' 's3://wondera-publicmaterials/udio/Echoes of Journeys.mp3'\n",
      "upload: udio/Echoes of Journeys.mp3 to s3://wondera-publicmaterials/udio/Echoes of Journeys.mp3\n",
      "sudo aws s3 cp 'udio/Echoes of Journeys_all_sep_svc_song.wav' 's3://wondera-publicmaterials/udio/Echoes of Journeys_all_sep_svc_song.wav'\n",
      "sudo aws s3 cp 'udio/Echoes of Journeys_all_sep_svc_song_refine.wav' 's3://wondera-publicmaterials/udio/Echoes of Journeys_all_sep_svc_song_refine.wav'\n",
      "sudo aws s3 cp 'suno/3463cc83-6ec8-4c1e-bec7-a507c8127feb.mp3' 's3://wondera-publicmaterials/suno/3463cc83-6ec8-4c1e-bec7-a507c8127feb.mp3'\n",
      "sudo aws s3 cp 'suno/3463cc83-6ec8-4c1e-bec7-a507c8127feb.mp3' 's3://wondera-publicmaterials/suno/3463cc83-6ec8-4c1e-bec7-a507c8127feb.mp3'\n",
      "upload: suno/3463cc83-6ec8-4c1e-bec7-a507c8127feb.mp3 to s3://wondera-publicmaterials/suno/3463cc83-6ec8-4c1e-bec7-a507c8127feb.mp3\n",
      "sudo aws s3 cp 'suno/3463cc83-6ec8-4c1e-bec7-a507c8127feb_all_sep_svc_song.wav' 's3://wondera-publicmaterials/suno/3463cc83-6ec8-4c1e-bec7-a507c8127feb_all_sep_svc_song.wav'\n",
      "sudo aws s3 cp 'suno/3463cc83-6ec8-4c1e-bec7-a507c8127feb_all_sep_svc_song_refine.wav' 's3://wondera-publicmaterials/suno/3463cc83-6ec8-4c1e-bec7-a507c8127feb_all_sep_svc_song_refine.wav'\n",
      "sudo aws s3 cp 'udio/Whispers in the Pond.mp3' 's3://wondera-publicmaterials/udio/Whispers in the Pond.mp3'\n",
      "sudo aws s3 cp 'udio/Whispers in the Pond.mp3' 's3://wondera-publicmaterials/udio/Whispers in the Pond.mp3'\n",
      "upload: udio/Whispers in the Pond.mp3 to s3://wondera-publicmaterials/udio/Whispers in the Pond.mp3\n",
      "sudo aws s3 cp 'udio/Whispers in the Pond_all_sep_svc_song.wav' 's3://wondera-publicmaterials/udio/Whispers in the Pond_all_sep_svc_song.wav'\n",
      "sudo aws s3 cp 'udio/Whispers in the Pond_all_sep_svc_song_refine.wav' 's3://wondera-publicmaterials/udio/Whispers in the Pond_all_sep_svc_song_refine.wav'\n",
      "sudo aws s3 cp 'suno/025d1cfe-fb42-4412-b48a-cfd4a0df92f2.mp3' 's3://wondera-publicmaterials/suno/025d1cfe-fb42-4412-b48a-cfd4a0df92f2.mp3'\n",
      "sudo aws s3 cp 'suno/025d1cfe-fb42-4412-b48a-cfd4a0df92f2.mp3' 's3://wondera-publicmaterials/suno/025d1cfe-fb42-4412-b48a-cfd4a0df92f2.mp3'\n",
      "upload: suno/025d1cfe-fb42-4412-b48a-cfd4a0df92f2.mp3 to s3://wondera-publicmaterials/suno/025d1cfe-fb42-4412-b48a-cfd4a0df92f2.mp3\n",
      "sudo aws s3 cp 'suno/025d1cfe-fb42-4412-b48a-cfd4a0df92f2_all_sep_svc_song.wav' 's3://wondera-publicmaterials/suno/025d1cfe-fb42-4412-b48a-cfd4a0df92f2_all_sep_svc_song.wav'\n",
      "sudo aws s3 cp 'suno/025d1cfe-fb42-4412-b48a-cfd4a0df92f2_all_sep_svc_song_refine.wav' 's3://wondera-publicmaterials/suno/025d1cfe-fb42-4412-b48a-cfd4a0df92f2_all_sep_svc_song_refine.wav'\n",
      "sudo aws s3 cp 'udio/Fragments of Truth.mp3' 's3://wondera-publicmaterials/udio/Fragments of Truth.mp3'\n",
      "sudo aws s3 cp 'udio/Fragments of Truth.mp3' 's3://wondera-publicmaterials/udio/Fragments of Truth.mp3'\n",
      "upload: udio/Fragments of Truth.mp3 to s3://wondera-publicmaterials/udio/Fragments of Truth.mp3\n",
      "sudo aws s3 cp 'udio/Fragments of Truth_all_sep_svc_song.wav' 's3://wondera-publicmaterials/udio/Fragments of Truth_all_sep_svc_song.wav'\n",
      "sudo aws s3 cp 'udio/Fragments of Truth_all_sep_svc_song_refine.wav' 's3://wondera-publicmaterials/udio/Fragments of Truth_all_sep_svc_song_refine.wav'\n",
      "sudo aws s3 cp 'suno/4bfae760-5e17-4bf1-ad08-3378d48c1d03.mp3' 's3://wondera-publicmaterials/suno/4bfae760-5e17-4bf1-ad08-3378d48c1d03.mp3'\n",
      "sudo aws s3 cp 'suno/4bfae760-5e17-4bf1-ad08-3378d48c1d03.mp3' 's3://wondera-publicmaterials/suno/4bfae760-5e17-4bf1-ad08-3378d48c1d03.mp3'\n",
      "upload: suno/4bfae760-5e17-4bf1-ad08-3378d48c1d03.mp3 to s3://wondera-publicmaterials/suno/4bfae760-5e17-4bf1-ad08-3378d48c1d03.mp3\n",
      "sudo aws s3 cp 'suno/4bfae760-5e17-4bf1-ad08-3378d48c1d03_all_sep_svc_song.wav' 's3://wondera-publicmaterials/suno/4bfae760-5e17-4bf1-ad08-3378d48c1d03_all_sep_svc_song.wav'\n",
      "sudo aws s3 cp 'suno/4bfae760-5e17-4bf1-ad08-3378d48c1d03_all_sep_svc_song_refine.wav' 's3://wondera-publicmaterials/suno/4bfae760-5e17-4bf1-ad08-3378d48c1d03_all_sep_svc_song_refine.wav'\n",
      "sudo aws s3 cp 'udio/Whispers of the Past.mp3' 's3://wondera-publicmaterials/udio/Whispers of the Past.mp3'\n",
      "sudo aws s3 cp 'udio/Whispers of the Past.mp3' 's3://wondera-publicmaterials/udio/Whispers of the Past.mp3'\n",
      "upload: udio/Whispers of the Past.mp3 to s3://wondera-publicmaterials/udio/Whispers of the Past.mp3\n",
      "sudo aws s3 cp 'udio/Whispers of the Past_all_sep_svc_song.wav' 's3://wondera-publicmaterials/udio/Whispers of the Past_all_sep_svc_song.wav'\n",
      "sudo aws s3 cp 'udio/Whispers of the Past_all_sep_svc_song_refine.wav' 's3://wondera-publicmaterials/udio/Whispers of the Past_all_sep_svc_song_refine.wav'\n"
     ]
    }
   ],
   "source": [
    "import os\n",
    "from urllib.parse import quote, urlunparse\n",
    "\n",
    "exp=[]\n",
    "for g in mos_list:\n",
    "    urls=[]\n",
    "    for f in g:\n",
    "        cmd=f\"sudo aws s3 cp '{f}' 's3://wondera-publicmaterials/{f}'\"\n",
    "        # encoded_string = quote(my_string)\n",
    "        url=f'https://wondera-publicmaterials.s3.us-east-2.amazonaws.com/{f}'\n",
    "        urls.append(url)\n",
    "        # print(url)\n",
    "        print(cmd)\n",
    "        if Path(f).suffix==\".mp3\":\n",
    "            print(cmd)\n",
    "            os.system(cmd)\n",
    "    exp.append(urls)\n",
    "\n",
    "import pandas as pd\n",
    "df=pd.DataFrame(exp,columns=[\"suno\",\"suno_svc\",\"suno_svc_refine\",\"udio\",\"udio_svc\",\"udio_svc_refine\"])\n",
    "df.to_excel(\"suno_and_udio_task.xlsx\")\n",
    "\n",
    "    "
   ]
  },
  {
   "cell_type": "code",
   "execution_count": 74,
   "id": "9f2211da-64d4-4d60-8713-13d200ddb39c",
   "metadata": {},
   "outputs": [
    {
     "name": "stdout",
     "output_type": "stream",
     "text": [
      "Collecting openpyxl\n",
      "  Downloading openpyxl-3.1.5-py2.py3-none-any.whl.metadata (2.5 kB)\n",
      "Collecting et-xmlfile (from openpyxl)\n",
      "  Using cached et_xmlfile-1.1.0-py3-none-any.whl.metadata (1.8 kB)\n",
      "Downloading openpyxl-3.1.5-py2.py3-none-any.whl (250 kB)\n",
      "\u001b[2K   \u001b[38;2;114;156;31m━━━━━━━━━━━━━━━━━━━━━━━━━━━━━━━━━━━━━━━━\u001b[0m \u001b[32m250.9/250.9 kB\u001b[0m \u001b[31m3.0 MB/s\u001b[0m eta \u001b[36m0:00:00\u001b[0m MB/s\u001b[0m eta \u001b[36m0:00:01\u001b[0m01\u001b[0m\n",
      "\u001b[?25hUsing cached et_xmlfile-1.1.0-py3-none-any.whl (4.7 kB)\n",
      "Installing collected packages: et-xmlfile, openpyxl\n",
      "Successfully installed et-xmlfile-1.1.0 openpyxl-3.1.5\n"
     ]
    }
   ],
   "source": [
    "!pip install openpyxl"
   ]
  },
  {
   "cell_type": "code",
   "execution_count": null,
   "id": "b0001f08-80c6-4540-a8e6-cddaa335a900",
   "metadata": {},
   "outputs": [],
   "source": []
  }
 ],
 "metadata": {
  "kernelspec": {
   "display_name": "Python 3 (ipykernel)",
   "language": "python",
   "name": "python3"
  },
  "language_info": {
   "codemirror_mode": {
    "name": "ipython",
    "version": 3
   },
   "file_extension": ".py",
   "mimetype": "text/x-python",
   "name": "python",
   "nbconvert_exporter": "python",
   "pygments_lexer": "ipython3",
   "version": "3.12.3"
  }
 },
 "nbformat": 4,
 "nbformat_minor": 5
}
